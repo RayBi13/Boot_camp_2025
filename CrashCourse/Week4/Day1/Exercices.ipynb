{
 "cells": [
  {
   "cell_type": "code",
   "execution_count": 6,
   "metadata": {},
   "outputs": [
    {
     "name": "stdout",
     "output_type": "stream",
     "text": [
      "Requirement already satisfied: karas in c:\\users\\bintu\\appdata\\local\\programs\\python\\python311\\lib\\site-packages (0.7.0)\n",
      "Requirement already satisfied: six in c:\\users\\bintu\\appdata\\roaming\\python\\python311\\site-packages (from karas) (1.17.0)\n",
      "Requirement already satisfied: torch in c:\\users\\bintu\\appdata\\local\\programs\\python\\python311\\lib\\site-packages (from karas) (2.6.0)\n",
      "Requirement already satisfied: numpy in c:\\users\\bintu\\appdata\\local\\programs\\python\\python311\\lib\\site-packages (from karas) (2.0.2)\n",
      "Requirement already satisfied: tensorboard in c:\\users\\bintu\\appdata\\local\\programs\\python\\python311\\lib\\site-packages (from karas) (2.18.0)\n",
      "Requirement already satisfied: tensorboardx<=1.5 in c:\\users\\bintu\\appdata\\local\\programs\\python\\python311\\lib\\site-packages (from karas) (1.5)\n",
      "Requirement already satisfied: protobuf>=3.2.0 in c:\\users\\bintu\\appdata\\local\\programs\\python\\python311\\lib\\site-packages (from tensorboardx<=1.5->karas) (5.29.3)\n",
      "Requirement already satisfied: absl-py>=0.4 in c:\\users\\bintu\\appdata\\local\\programs\\python\\python311\\lib\\site-packages (from tensorboard->karas) (2.1.0)\n",
      "Requirement already satisfied: grpcio>=1.48.2 in c:\\users\\bintu\\appdata\\local\\programs\\python\\python311\\lib\\site-packages (from tensorboard->karas) (1.70.0)\n",
      "Requirement already satisfied: markdown>=2.6.8 in c:\\users\\bintu\\appdata\\local\\programs\\python\\python311\\lib\\site-packages (from tensorboard->karas) (3.7)\n",
      "Requirement already satisfied: packaging in c:\\users\\bintu\\appdata\\roaming\\python\\python311\\site-packages (from tensorboard->karas) (24.2)\n",
      "Requirement already satisfied: setuptools>=41.0.0 in c:\\users\\bintu\\appdata\\local\\programs\\python\\python311\\lib\\site-packages (from tensorboard->karas) (65.5.0)\n",
      "Requirement already satisfied: tensorboard-data-server<0.8.0,>=0.7.0 in c:\\users\\bintu\\appdata\\local\\programs\\python\\python311\\lib\\site-packages (from tensorboard->karas) (0.7.2)\n",
      "Requirement already satisfied: werkzeug>=1.0.1 in c:\\users\\bintu\\appdata\\local\\programs\\python\\python311\\lib\\site-packages (from tensorboard->karas) (3.1.3)\n",
      "Requirement already satisfied: filelock in c:\\users\\bintu\\appdata\\local\\programs\\python\\python311\\lib\\site-packages (from torch->karas) (3.17.0)\n",
      "Requirement already satisfied: typing-extensions>=4.10.0 in c:\\users\\bintu\\appdata\\roaming\\python\\python311\\site-packages (from torch->karas) (4.12.2)\n",
      "Requirement already satisfied: networkx in c:\\users\\bintu\\appdata\\local\\programs\\python\\python311\\lib\\site-packages (from torch->karas) (3.4.2)\n",
      "Requirement already satisfied: jinja2 in c:\\users\\bintu\\appdata\\local\\programs\\python\\python311\\lib\\site-packages (from torch->karas) (3.1.5)\n",
      "Requirement already satisfied: fsspec in c:\\users\\bintu\\appdata\\local\\programs\\python\\python311\\lib\\site-packages (from torch->karas) (2025.2.0)\n",
      "Requirement already satisfied: sympy==1.13.1 in c:\\users\\bintu\\appdata\\local\\programs\\python\\python311\\lib\\site-packages (from torch->karas) (1.13.1)\n",
      "Requirement already satisfied: mpmath<1.4,>=1.1.0 in c:\\users\\bintu\\appdata\\local\\programs\\python\\python311\\lib\\site-packages (from sympy==1.13.1->torch->karas) (1.3.0)\n",
      "Requirement already satisfied: MarkupSafe>=2.1.1 in c:\\users\\bintu\\appdata\\local\\programs\\python\\python311\\lib\\site-packages (from werkzeug>=1.0.1->tensorboard->karas) (3.0.2)\n"
     ]
    },
    {
     "name": "stderr",
     "output_type": "stream",
     "text": [
      "\n",
      "[notice] A new release of pip is available: 24.0 -> 25.0.1\n",
      "[notice] To update, run: python.exe -m pip install --upgrade pip\n"
     ]
    },
    {
     "name": "stdout",
     "output_type": "stream",
     "text": [
      "Requirement already satisfied: tensorflow in c:\\users\\bintu\\appdata\\local\\programs\\python\\python311\\lib\\site-packages (2.18.0)\n",
      "Requirement already satisfied: tensorflow-intel==2.18.0 in c:\\users\\bintu\\appdata\\local\\programs\\python\\python311\\lib\\site-packages (from tensorflow) (2.18.0)\n",
      "Requirement already satisfied: absl-py>=1.0.0 in c:\\users\\bintu\\appdata\\local\\programs\\python\\python311\\lib\\site-packages (from tensorflow-intel==2.18.0->tensorflow) (2.1.0)\n",
      "Requirement already satisfied: astunparse>=1.6.0 in c:\\users\\bintu\\appdata\\local\\programs\\python\\python311\\lib\\site-packages (from tensorflow-intel==2.18.0->tensorflow) (1.6.3)\n",
      "Requirement already satisfied: flatbuffers>=24.3.25 in c:\\users\\bintu\\appdata\\local\\programs\\python\\python311\\lib\\site-packages (from tensorflow-intel==2.18.0->tensorflow) (25.2.10)\n",
      "Requirement already satisfied: gast!=0.5.0,!=0.5.1,!=0.5.2,>=0.2.1 in c:\\users\\bintu\\appdata\\local\\programs\\python\\python311\\lib\\site-packages (from tensorflow-intel==2.18.0->tensorflow) (0.6.0)\n",
      "Requirement already satisfied: google-pasta>=0.1.1 in c:\\users\\bintu\\appdata\\local\\programs\\python\\python311\\lib\\site-packages (from tensorflow-intel==2.18.0->tensorflow) (0.2.0)\n",
      "Requirement already satisfied: libclang>=13.0.0 in c:\\users\\bintu\\appdata\\local\\programs\\python\\python311\\lib\\site-packages (from tensorflow-intel==2.18.0->tensorflow) (18.1.1)\n",
      "Requirement already satisfied: opt-einsum>=2.3.2 in c:\\users\\bintu\\appdata\\local\\programs\\python\\python311\\lib\\site-packages (from tensorflow-intel==2.18.0->tensorflow) (3.4.0)\n",
      "Requirement already satisfied: packaging in c:\\users\\bintu\\appdata\\roaming\\python\\python311\\site-packages (from tensorflow-intel==2.18.0->tensorflow) (24.2)\n",
      "Requirement already satisfied: protobuf!=4.21.0,!=4.21.1,!=4.21.2,!=4.21.3,!=4.21.4,!=4.21.5,<6.0.0dev,>=3.20.3 in c:\\users\\bintu\\appdata\\local\\programs\\python\\python311\\lib\\site-packages (from tensorflow-intel==2.18.0->tensorflow) (5.29.3)\n",
      "Requirement already satisfied: requests<3,>=2.21.0 in c:\\users\\bintu\\appdata\\local\\programs\\python\\python311\\lib\\site-packages (from tensorflow-intel==2.18.0->tensorflow) (2.32.3)\n",
      "Requirement already satisfied: setuptools in c:\\users\\bintu\\appdata\\local\\programs\\python\\python311\\lib\\site-packages (from tensorflow-intel==2.18.0->tensorflow) (65.5.0)\n",
      "Requirement already satisfied: six>=1.12.0 in c:\\users\\bintu\\appdata\\roaming\\python\\python311\\site-packages (from tensorflow-intel==2.18.0->tensorflow) (1.17.0)\n",
      "Requirement already satisfied: termcolor>=1.1.0 in c:\\users\\bintu\\appdata\\local\\programs\\python\\python311\\lib\\site-packages (from tensorflow-intel==2.18.0->tensorflow) (2.5.0)\n",
      "Requirement already satisfied: typing-extensions>=3.6.6 in c:\\users\\bintu\\appdata\\roaming\\python\\python311\\site-packages (from tensorflow-intel==2.18.0->tensorflow) (4.12.2)\n",
      "Requirement already satisfied: wrapt>=1.11.0 in c:\\users\\bintu\\appdata\\local\\programs\\python\\python311\\lib\\site-packages (from tensorflow-intel==2.18.0->tensorflow) (1.17.2)\n",
      "Requirement already satisfied: grpcio<2.0,>=1.24.3 in c:\\users\\bintu\\appdata\\local\\programs\\python\\python311\\lib\\site-packages (from tensorflow-intel==2.18.0->tensorflow) (1.70.0)\n",
      "Requirement already satisfied: tensorboard<2.19,>=2.18 in c:\\users\\bintu\\appdata\\local\\programs\\python\\python311\\lib\\site-packages (from tensorflow-intel==2.18.0->tensorflow) (2.18.0)\n",
      "Requirement already satisfied: keras>=3.5.0 in c:\\users\\bintu\\appdata\\local\\programs\\python\\python311\\lib\\site-packages (from tensorflow-intel==2.18.0->tensorflow) (3.8.0)\n",
      "Requirement already satisfied: numpy<2.1.0,>=1.26.0 in c:\\users\\bintu\\appdata\\local\\programs\\python\\python311\\lib\\site-packages (from tensorflow-intel==2.18.0->tensorflow) (2.0.2)\n",
      "Requirement already satisfied: h5py>=3.11.0 in c:\\users\\bintu\\appdata\\local\\programs\\python\\python311\\lib\\site-packages (from tensorflow-intel==2.18.0->tensorflow) (3.13.0)\n",
      "Requirement already satisfied: ml-dtypes<0.5.0,>=0.4.0 in c:\\users\\bintu\\appdata\\local\\programs\\python\\python311\\lib\\site-packages (from tensorflow-intel==2.18.0->tensorflow) (0.4.1)\n",
      "Requirement already satisfied: tensorflow-io-gcs-filesystem>=0.23.1 in c:\\users\\bintu\\appdata\\local\\programs\\python\\python311\\lib\\site-packages (from tensorflow-intel==2.18.0->tensorflow) (0.31.0)\n",
      "Requirement already satisfied: wheel<1.0,>=0.23.0 in c:\\users\\bintu\\appdata\\local\\programs\\python\\python311\\lib\\site-packages (from astunparse>=1.6.0->tensorflow-intel==2.18.0->tensorflow) (0.45.1)\n",
      "Requirement already satisfied: rich in c:\\users\\bintu\\appdata\\local\\programs\\python\\python311\\lib\\site-packages (from keras>=3.5.0->tensorflow-intel==2.18.0->tensorflow) (13.9.4)\n",
      "Requirement already satisfied: namex in c:\\users\\bintu\\appdata\\local\\programs\\python\\python311\\lib\\site-packages (from keras>=3.5.0->tensorflow-intel==2.18.0->tensorflow) (0.0.8)\n",
      "Requirement already satisfied: optree in c:\\users\\bintu\\appdata\\local\\programs\\python\\python311\\lib\\site-packages (from keras>=3.5.0->tensorflow-intel==2.18.0->tensorflow) (0.14.1)\n",
      "Requirement already satisfied: charset-normalizer<4,>=2 in c:\\users\\bintu\\appdata\\local\\programs\\python\\python311\\lib\\site-packages (from requests<3,>=2.21.0->tensorflow-intel==2.18.0->tensorflow) (3.4.1)\n",
      "Requirement already satisfied: idna<4,>=2.5 in c:\\users\\bintu\\appdata\\local\\programs\\python\\python311\\lib\\site-packages (from requests<3,>=2.21.0->tensorflow-intel==2.18.0->tensorflow) (3.10)\n",
      "Requirement already satisfied: urllib3<3,>=1.21.1 in c:\\users\\bintu\\appdata\\local\\programs\\python\\python311\\lib\\site-packages (from requests<3,>=2.21.0->tensorflow-intel==2.18.0->tensorflow) (2.3.0)\n",
      "Requirement already satisfied: certifi>=2017.4.17 in c:\\users\\bintu\\appdata\\local\\programs\\python\\python311\\lib\\site-packages (from requests<3,>=2.21.0->tensorflow-intel==2.18.0->tensorflow) (2025.1.31)\n",
      "Requirement already satisfied: markdown>=2.6.8 in c:\\users\\bintu\\appdata\\local\\programs\\python\\python311\\lib\\site-packages (from tensorboard<2.19,>=2.18->tensorflow-intel==2.18.0->tensorflow) (3.7)\n",
      "Requirement already satisfied: tensorboard-data-server<0.8.0,>=0.7.0 in c:\\users\\bintu\\appdata\\local\\programs\\python\\python311\\lib\\site-packages (from tensorboard<2.19,>=2.18->tensorflow-intel==2.18.0->tensorflow) (0.7.2)\n",
      "Requirement already satisfied: werkzeug>=1.0.1 in c:\\users\\bintu\\appdata\\local\\programs\\python\\python311\\lib\\site-packages (from tensorboard<2.19,>=2.18->tensorflow-intel==2.18.0->tensorflow) (3.1.3)\n",
      "Requirement already satisfied: MarkupSafe>=2.1.1 in c:\\users\\bintu\\appdata\\local\\programs\\python\\python311\\lib\\site-packages (from werkzeug>=1.0.1->tensorboard<2.19,>=2.18->tensorflow-intel==2.18.0->tensorflow) (3.0.2)\n",
      "Requirement already satisfied: markdown-it-py>=2.2.0 in c:\\users\\bintu\\appdata\\local\\programs\\python\\python311\\lib\\site-packages (from rich->keras>=3.5.0->tensorflow-intel==2.18.0->tensorflow) (3.0.0)\n",
      "Requirement already satisfied: pygments<3.0.0,>=2.13.0 in c:\\users\\bintu\\appdata\\roaming\\python\\python311\\site-packages (from rich->keras>=3.5.0->tensorflow-intel==2.18.0->tensorflow) (2.19.1)\n",
      "Requirement already satisfied: mdurl~=0.1 in c:\\users\\bintu\\appdata\\local\\programs\\python\\python311\\lib\\site-packages (from markdown-it-py>=2.2.0->rich->keras>=3.5.0->tensorflow-intel==2.18.0->tensorflow) (0.1.2)\n"
     ]
    },
    {
     "name": "stderr",
     "output_type": "stream",
     "text": [
      "\n",
      "[notice] A new release of pip is available: 24.0 -> 25.0.1\n",
      "[notice] To update, run: python.exe -m pip install --upgrade pip\n"
     ]
    }
   ],
   "source": [
    "!pip install karas\n",
    "!pip install tensorflow"
   ]
  },
  {
   "cell_type": "code",
   "execution_count": 1,
   "metadata": {},
   "outputs": [
    {
     "ename": "SyntaxError",
     "evalue": "source code string cannot contain null bytes (<string>)",
     "output_type": "error",
     "traceback": [
      "Traceback \u001b[36m(most recent call last)\u001b[39m:\n",
      "  File \u001b[92m~\\AppData\\Roaming\\Python\\Python311\\site-packages\\IPython\\core\\interactiveshell.py:3546\u001b[39m in \u001b[95mrun_code\u001b[39m\n    exec(code_obj, self.user_global_ns, self.user_ns)\n",
      "  Cell \u001b[92mIn[1]\u001b[39m\u001b[92m, line 1\u001b[39m\n    import tensorflow as tf\n",
      "  File \u001b[92mc:\\Users\\bintu\\AppData\\Local\\Programs\\Python\\Python311\\Lib\\site-packages\\tensorflow\\__init__.py:49\u001b[39m\n    from tensorflow._api.v2 import __internal__\n",
      "  File \u001b[92mc:\\Users\\bintu\\AppData\\Local\\Programs\\Python\\Python311\\Lib\\site-packages\\tensorflow\\_api\\v2\\__internal__\\__init__.py:8\u001b[39m\n    from tensorflow._api.v2.__internal__ import autograph\n",
      "  File \u001b[92mc:\\Users\\bintu\\AppData\\Local\\Programs\\Python\\Python311\\Lib\\site-packages\\tensorflow\\_api\\v2\\__internal__\\autograph\\__init__.py:8\u001b[39m\n    from tensorflow.python.autograph.core.ag_ctx import control_status_ctx # line: 34\n",
      "  File \u001b[92mc:\\Users\\bintu\\AppData\\Local\\Programs\\Python\\Python311\\Lib\\site-packages\\tensorflow\\python\\autograph\\core\\ag_ctx.py:21\u001b[39m\n    from tensorflow.python.autograph.utils import ag_logging\n",
      "  File \u001b[92mc:\\Users\\bintu\\AppData\\Local\\Programs\\Python\\Python311\\Lib\\site-packages\\tensorflow\\python\\autograph\\utils\\__init__.py:17\u001b[39m\n    from tensorflow.python.autograph.utils.context_managers import control_dependency_on_returns\n",
      "  File \u001b[92mc:\\Users\\bintu\\AppData\\Local\\Programs\\Python\\Python311\\Lib\\site-packages\\tensorflow\\python\\autograph\\utils\\context_managers.py:19\u001b[39m\n    from tensorflow.python.framework import ops\n",
      "\u001b[36m  \u001b[39m\u001b[36mFile \u001b[39m\u001b[32mc:\\Users\\bintu\\AppData\\Local\\Programs\\Python\\Python311\\Lib\\site-packages\\tensorflow\\python\\framework\\ops.py:32\u001b[39m\n\u001b[31m    \u001b[39m\u001b[31mfrom google.protobuf import message\u001b[39m\n",
      "  \u001b[36mFile \u001b[39m\u001b[32m<string>\u001b[39m\n\u001b[31mSyntaxError\u001b[39m\u001b[31m:\u001b[39m source code string cannot contain null bytes\n"
     ]
    }
   ],
   "source": [
    "import tensorflow as tf\n",
    "from tensorflow import keras\n",
    "from tensorflow.keras import layers\n",
    "# from tensorflow.keras.utils import to_categorical\n",
    "# from tensorflow.keras.datasets import mnist\n",
    "# from tensorflow.keras.models import Sequential\n",
    "# # from tensorflow.keras.layers import Dense, Dropout, Flatten\n",
    "# # from tensorflow.keras.layers import Conv2D, MaxPooling2D\n",
    "# from tensorflow.keras import backend as K\n",
    "import numpy as np\n",
    "import matplotlib.pyplot as plt\n",
    "import seaborn as sns\n",
    "from sklearn.metrics import confusion_matrix\n",
    "import keras"
   ]
  },
  {
   "cell_type": "markdown",
   "metadata": {},
   "source": [
    ". Le machine learning peprmets de \n",
    ". Pcq quq'il transmets des information entre plusieurs neurones\n",
    ". Pcq son apprentissage est plus poussé. Permets sur plus de calculs et plus de données.\n",
    ". Plus il y a de RN plus il y a de chance d'avoir des pertes de données (LOSS)"
   ]
  },
  {
   "cell_type": "markdown",
   "metadata": {},
   "source": [
    "EXO2"
   ]
  },
  {
   "cell_type": "code",
   "execution_count": 1,
   "metadata": {},
   "outputs": [
    {
     "name": "stdout",
     "output_type": "stream",
     "text": [
      "Collecting tensorflow\n",
      "  Using cached tensorflow-2.18.0-cp311-cp311-win_amd64.whl.metadata (3.3 kB)\n",
      "Collecting tensorflow-intel==2.18.0 (from tensorflow)\n",
      "  Using cached tensorflow_intel-2.18.0-cp311-cp311-win_amd64.whl.metadata (4.9 kB)\n",
      "Collecting absl-py>=1.0.0 (from tensorflow-intel==2.18.0->tensorflow)\n",
      "  Using cached absl_py-2.1.0-py3-none-any.whl.metadata (2.3 kB)\n",
      "Collecting astunparse>=1.6.0 (from tensorflow-intel==2.18.0->tensorflow)\n",
      "  Using cached astunparse-1.6.3-py2.py3-none-any.whl.metadata (4.4 kB)\n",
      "Collecting flatbuffers>=24.3.25 (from tensorflow-intel==2.18.0->tensorflow)\n",
      "  Using cached flatbuffers-25.2.10-py2.py3-none-any.whl.metadata (875 bytes)\n",
      "Collecting gast!=0.5.0,!=0.5.1,!=0.5.2,>=0.2.1 (from tensorflow-intel==2.18.0->tensorflow)\n",
      "  Using cached gast-0.6.0-py3-none-any.whl.metadata (1.3 kB)\n",
      "Collecting google-pasta>=0.1.1 (from tensorflow-intel==2.18.0->tensorflow)\n",
      "  Using cached google_pasta-0.2.0-py3-none-any.whl.metadata (814 bytes)\n",
      "Requirement already satisfied: libclang>=13.0.0 in c:\\users\\bintu\\appdata\\local\\programs\\python\\python311\\lib\\site-packages (from tensorflow-intel==2.18.0->tensorflow) (18.1.1)\n",
      "Collecting opt-einsum>=2.3.2 (from tensorflow-intel==2.18.0->tensorflow)\n",
      "  Using cached opt_einsum-3.4.0-py3-none-any.whl.metadata (6.3 kB)\n",
      "Requirement already satisfied: packaging in c:\\users\\bintu\\appdata\\roaming\\python\\python311\\site-packages (from tensorflow-intel==2.18.0->tensorflow) (24.2)\n",
      "Requirement already satisfied: protobuf!=4.21.0,!=4.21.1,!=4.21.2,!=4.21.3,!=4.21.4,!=4.21.5,<6.0.0dev,>=3.20.3 in c:\\users\\bintu\\appdata\\local\\programs\\python\\python311\\lib\\site-packages (from tensorflow-intel==2.18.0->tensorflow) (5.29.3)\n",
      "Collecting requests<3,>=2.21.0 (from tensorflow-intel==2.18.0->tensorflow)\n",
      "  Using cached requests-2.32.3-py3-none-any.whl.metadata (4.6 kB)\n",
      "Requirement already satisfied: setuptools in c:\\users\\bintu\\appdata\\local\\programs\\python\\python311\\lib\\site-packages (from tensorflow-intel==2.18.0->tensorflow) (65.5.0)\n",
      "Requirement already satisfied: six>=1.12.0 in c:\\users\\bintu\\appdata\\roaming\\python\\python311\\site-packages (from tensorflow-intel==2.18.0->tensorflow) (1.17.0)\n",
      "Collecting termcolor>=1.1.0 (from tensorflow-intel==2.18.0->tensorflow)\n",
      "  Using cached termcolor-2.5.0-py3-none-any.whl.metadata (6.1 kB)\n",
      "Requirement already satisfied: typing-extensions>=3.6.6 in c:\\users\\bintu\\appdata\\roaming\\python\\python311\\site-packages (from tensorflow-intel==2.18.0->tensorflow) (4.12.2)\n",
      "Collecting wrapt>=1.11.0 (from tensorflow-intel==2.18.0->tensorflow)\n",
      "  Using cached wrapt-1.17.2-cp311-cp311-win_amd64.whl.metadata (6.5 kB)\n",
      "Collecting grpcio<2.0,>=1.24.3 (from tensorflow-intel==2.18.0->tensorflow)\n",
      "  Using cached grpcio-1.70.0-cp311-cp311-win_amd64.whl.metadata (4.0 kB)\n",
      "Collecting tensorboard<2.19,>=2.18 (from tensorflow-intel==2.18.0->tensorflow)\n",
      "  Using cached tensorboard-2.18.0-py3-none-any.whl.metadata (1.6 kB)\n",
      "Collecting keras>=3.5.0 (from tensorflow-intel==2.18.0->tensorflow)\n",
      "  Using cached keras-3.8.0-py3-none-any.whl.metadata (5.8 kB)\n",
      "Collecting numpy<2.1.0,>=1.26.0 (from tensorflow-intel==2.18.0->tensorflow)\n",
      "  Using cached numpy-2.0.2-cp311-cp311-win_amd64.whl.metadata (59 kB)\n",
      "Collecting h5py>=3.11.0 (from tensorflow-intel==2.18.0->tensorflow)\n",
      "  Using cached h5py-3.13.0-cp311-cp311-win_amd64.whl.metadata (2.5 kB)\n",
      "Collecting ml-dtypes<0.5.0,>=0.4.0 (from tensorflow-intel==2.18.0->tensorflow)\n",
      "  Using cached ml_dtypes-0.4.1-cp311-cp311-win_amd64.whl.metadata (20 kB)\n",
      "Collecting tensorflow-io-gcs-filesystem>=0.23.1 (from tensorflow-intel==2.18.0->tensorflow)\n",
      "  Using cached tensorflow_io_gcs_filesystem-0.31.0-cp311-cp311-win_amd64.whl.metadata (14 kB)\n",
      "Collecting wheel<1.0,>=0.23.0 (from astunparse>=1.6.0->tensorflow-intel==2.18.0->tensorflow)\n",
      "  Using cached wheel-0.45.1-py3-none-any.whl.metadata (2.3 kB)\n",
      "Collecting rich (from keras>=3.5.0->tensorflow-intel==2.18.0->tensorflow)\n",
      "  Using cached rich-13.9.4-py3-none-any.whl.metadata (18 kB)\n",
      "Requirement already satisfied: namex in c:\\users\\bintu\\appdata\\local\\programs\\python\\python311\\lib\\site-packages (from keras>=3.5.0->tensorflow-intel==2.18.0->tensorflow) (0.0.8)\n",
      "Collecting optree (from keras>=3.5.0->tensorflow-intel==2.18.0->tensorflow)\n",
      "  Using cached optree-0.14.1-cp311-cp311-win_amd64.whl.metadata (50 kB)\n",
      "Collecting charset-normalizer<4,>=2 (from requests<3,>=2.21.0->tensorflow-intel==2.18.0->tensorflow)\n",
      "  Using cached charset_normalizer-3.4.1-cp311-cp311-win_amd64.whl.metadata (36 kB)\n",
      "Collecting idna<4,>=2.5 (from requests<3,>=2.21.0->tensorflow-intel==2.18.0->tensorflow)\n",
      "  Using cached idna-3.10-py3-none-any.whl.metadata (10 kB)\n",
      "Collecting urllib3<3,>=1.21.1 (from requests<3,>=2.21.0->tensorflow-intel==2.18.0->tensorflow)\n",
      "  Using cached urllib3-2.3.0-py3-none-any.whl.metadata (6.5 kB)\n",
      "Collecting certifi>=2017.4.17 (from requests<3,>=2.21.0->tensorflow-intel==2.18.0->tensorflow)\n",
      "  Using cached certifi-2025.1.31-py3-none-any.whl.metadata (2.5 kB)\n",
      "Collecting markdown>=2.6.8 (from tensorboard<2.19,>=2.18->tensorflow-intel==2.18.0->tensorflow)\n",
      "  Using cached Markdown-3.7-py3-none-any.whl.metadata (7.0 kB)\n",
      "Collecting tensorboard-data-server<0.8.0,>=0.7.0 (from tensorboard<2.19,>=2.18->tensorflow-intel==2.18.0->tensorflow)\n",
      "  Using cached tensorboard_data_server-0.7.2-py3-none-any.whl.metadata (1.1 kB)\n",
      "Collecting werkzeug>=1.0.1 (from tensorboard<2.19,>=2.18->tensorflow-intel==2.18.0->tensorflow)\n",
      "  Using cached werkzeug-3.1.3-py3-none-any.whl.metadata (3.7 kB)\n",
      "Collecting MarkupSafe>=2.1.1 (from werkzeug>=1.0.1->tensorboard<2.19,>=2.18->tensorflow-intel==2.18.0->tensorflow)\n",
      "  Using cached MarkupSafe-3.0.2-cp311-cp311-win_amd64.whl.metadata (4.1 kB)\n",
      "Collecting markdown-it-py>=2.2.0 (from rich->keras>=3.5.0->tensorflow-intel==2.18.0->tensorflow)\n",
      "  Using cached markdown_it_py-3.0.0-py3-none-any.whl.metadata (6.9 kB)\n",
      "Requirement already satisfied: pygments<3.0.0,>=2.13.0 in c:\\users\\bintu\\appdata\\roaming\\python\\python311\\site-packages (from rich->keras>=3.5.0->tensorflow-intel==2.18.0->tensorflow) (2.19.1)\n",
      "Collecting mdurl~=0.1 (from markdown-it-py>=2.2.0->rich->keras>=3.5.0->tensorflow-intel==2.18.0->tensorflow)\n",
      "  Using cached mdurl-0.1.2-py3-none-any.whl.metadata (1.6 kB)\n",
      "Using cached tensorflow-2.18.0-cp311-cp311-win_amd64.whl (7.5 kB)\n",
      "Using cached tensorflow_intel-2.18.0-cp311-cp311-win_amd64.whl (390.2 MB)\n",
      "Using cached absl_py-2.1.0-py3-none-any.whl (133 kB)\n",
      "Using cached astunparse-1.6.3-py2.py3-none-any.whl (12 kB)\n",
      "Using cached flatbuffers-25.2.10-py2.py3-none-any.whl (30 kB)\n",
      "Using cached gast-0.6.0-py3-none-any.whl (21 kB)\n",
      "Using cached google_pasta-0.2.0-py3-none-any.whl (57 kB)\n",
      "Using cached grpcio-1.70.0-cp311-cp311-win_amd64.whl (4.3 MB)\n",
      "Using cached h5py-3.13.0-cp311-cp311-win_amd64.whl (3.0 MB)\n",
      "Using cached keras-3.8.0-py3-none-any.whl (1.3 MB)\n",
      "Using cached ml_dtypes-0.4.1-cp311-cp311-win_amd64.whl (126 kB)\n",
      "Using cached numpy-2.0.2-cp311-cp311-win_amd64.whl (15.9 MB)\n",
      "Using cached opt_einsum-3.4.0-py3-none-any.whl (71 kB)\n",
      "Using cached requests-2.32.3-py3-none-any.whl (64 kB)\n",
      "Using cached tensorboard-2.18.0-py3-none-any.whl (5.5 MB)\n",
      "Using cached tensorflow_io_gcs_filesystem-0.31.0-cp311-cp311-win_amd64.whl (1.5 MB)\n",
      "Using cached termcolor-2.5.0-py3-none-any.whl (7.8 kB)\n",
      "Using cached wrapt-1.17.2-cp311-cp311-win_amd64.whl (38 kB)\n",
      "Using cached certifi-2025.1.31-py3-none-any.whl (166 kB)\n",
      "Using cached charset_normalizer-3.4.1-cp311-cp311-win_amd64.whl (102 kB)\n",
      "Using cached idna-3.10-py3-none-any.whl (70 kB)\n",
      "Using cached Markdown-3.7-py3-none-any.whl (106 kB)\n",
      "Using cached tensorboard_data_server-0.7.2-py3-none-any.whl (2.4 kB)\n",
      "Using cached urllib3-2.3.0-py3-none-any.whl (128 kB)\n",
      "Using cached werkzeug-3.1.3-py3-none-any.whl (224 kB)\n",
      "Using cached wheel-0.45.1-py3-none-any.whl (72 kB)\n",
      "Using cached optree-0.14.1-cp311-cp311-win_amd64.whl (305 kB)\n",
      "Using cached rich-13.9.4-py3-none-any.whl (242 kB)\n",
      "Using cached markdown_it_py-3.0.0-py3-none-any.whl (87 kB)\n",
      "Using cached MarkupSafe-3.0.2-cp311-cp311-win_amd64.whl (15 kB)\n",
      "Using cached mdurl-0.1.2-py3-none-any.whl (10.0 kB)\n",
      "Installing collected packages: flatbuffers, wrapt, wheel, urllib3, termcolor, tensorflow-io-gcs-filesystem, tensorboard-data-server, optree, opt-einsum, numpy, mdurl, MarkupSafe, markdown, idna, grpcio, google-pasta, gast, charset-normalizer, certifi, absl-py, werkzeug, requests, ml-dtypes, markdown-it-py, h5py, astunparse, tensorboard, rich, keras, tensorflow-intel, tensorflow\n",
      "Successfully installed MarkupSafe-3.0.2 absl-py-2.1.0 astunparse-1.6.3 certifi-2025.1.31 charset-normalizer-3.4.1 flatbuffers-25.2.10 gast-0.6.0 google-pasta-0.2.0 grpcio-1.70.0 h5py-3.13.0 idna-3.10 keras-3.8.0 markdown-3.7 markdown-it-py-3.0.0 mdurl-0.1.2 ml-dtypes-0.4.1 numpy-2.0.2 opt-einsum-3.4.0 optree-0.14.1 requests-2.32.3 rich-13.9.4 tensorboard-2.18.0 tensorboard-data-server-0.7.2 tensorflow-2.18.0 tensorflow-intel-2.18.0 tensorflow-io-gcs-filesystem-0.31.0 termcolor-2.5.0 urllib3-2.3.0 werkzeug-3.1.3 wheel-0.45.1 wrapt-1.17.2\n"
     ]
    },
    {
     "name": "stderr",
     "output_type": "stream",
     "text": [
      "WARNING: Skipping C:\\Users\\bintu\\AppData\\Local\\Programs\\Python\\Python311\\Lib\\site-packages\\charset_normalizer-3.4.1.dist-info due to invalid metadata entry 'name'\n",
      "WARNING: Skipping C:\\Users\\bintu\\AppData\\Local\\Programs\\Python\\Python311\\Lib\\site-packages\\flatbuffers-25.2.10.dist-info due to invalid metadata entry 'name'\n",
      "WARNING: Skipping C:\\Users\\bintu\\AppData\\Local\\Programs\\Python\\Python311\\Lib\\site-packages\\gast-0.6.0.dist-info due to invalid metadata entry 'name'\n",
      "WARNING: Skipping C:\\Users\\bintu\\AppData\\Local\\Programs\\Python\\Python311\\Lib\\site-packages\\google_pasta-0.2.0.dist-info due to invalid metadata entry 'name'\n",
      "WARNING: Skipping C:\\Users\\bintu\\AppData\\Local\\Programs\\Python\\Python311\\Lib\\site-packages\\grpcio-1.70.0.dist-info due to invalid metadata entry 'name'\n",
      "WARNING: Skipping C:\\Users\\bintu\\AppData\\Local\\Programs\\Python\\Python311\\Lib\\site-packages\\idna-3.10.dist-info due to invalid metadata entry 'name'\n",
      "WARNING: Skipping C:\\Users\\bintu\\AppData\\Local\\Programs\\Python\\Python311\\Lib\\site-packages\\Markdown-3.7.dist-info due to invalid metadata entry 'name'\n",
      "WARNING: Skipping C:\\Users\\bintu\\AppData\\Local\\Programs\\Python\\Python311\\Lib\\site-packages\\MarkupSafe-3.0.2.dist-info due to invalid metadata entry 'name'\n",
      "WARNING: Skipping C:\\Users\\bintu\\AppData\\Local\\Programs\\Python\\Python311\\Lib\\site-packages\\mdurl-0.1.2.dist-info due to invalid metadata entry 'name'\n",
      "WARNING: Skipping C:\\Users\\bintu\\AppData\\Local\\Programs\\Python\\Python311\\Lib\\site-packages\\numpy-2.0.2.dist-info due to invalid metadata entry 'name'\n",
      "WARNING: Skipping C:\\Users\\bintu\\AppData\\Local\\Programs\\Python\\Python311\\Lib\\site-packages\\optree-0.14.1.dist-info due to invalid metadata entry 'name'\n",
      "WARNING: Skipping C:\\Users\\bintu\\AppData\\Local\\Programs\\Python\\Python311\\Lib\\site-packages\\opt_einsum-3.4.0.dist-info due to invalid metadata entry 'name'\n",
      "WARNING: Skipping C:\\Users\\bintu\\AppData\\Local\\Programs\\Python\\Python311\\Lib\\site-packages\\charset_normalizer-3.4.1.dist-info due to invalid metadata entry 'name'\n",
      "WARNING: Skipping C:\\Users\\bintu\\AppData\\Local\\Programs\\Python\\Python311\\Lib\\site-packages\\flatbuffers-25.2.10.dist-info due to invalid metadata entry 'name'\n",
      "WARNING: Skipping C:\\Users\\bintu\\AppData\\Local\\Programs\\Python\\Python311\\Lib\\site-packages\\gast-0.6.0.dist-info due to invalid metadata entry 'name'\n",
      "WARNING: Skipping C:\\Users\\bintu\\AppData\\Local\\Programs\\Python\\Python311\\Lib\\site-packages\\google_pasta-0.2.0.dist-info due to invalid metadata entry 'name'\n",
      "WARNING: Skipping C:\\Users\\bintu\\AppData\\Local\\Programs\\Python\\Python311\\Lib\\site-packages\\grpcio-1.70.0.dist-info due to invalid metadata entry 'name'\n",
      "WARNING: Skipping C:\\Users\\bintu\\AppData\\Local\\Programs\\Python\\Python311\\Lib\\site-packages\\idna-3.10.dist-info due to invalid metadata entry 'name'\n",
      "WARNING: Skipping C:\\Users\\bintu\\AppData\\Local\\Programs\\Python\\Python311\\Lib\\site-packages\\Markdown-3.7.dist-info due to invalid metadata entry 'name'\n",
      "WARNING: Skipping C:\\Users\\bintu\\AppData\\Local\\Programs\\Python\\Python311\\Lib\\site-packages\\MarkupSafe-3.0.2.dist-info due to invalid metadata entry 'name'\n",
      "WARNING: Skipping C:\\Users\\bintu\\AppData\\Local\\Programs\\Python\\Python311\\Lib\\site-packages\\mdurl-0.1.2.dist-info due to invalid metadata entry 'name'\n",
      "WARNING: Skipping C:\\Users\\bintu\\AppData\\Local\\Programs\\Python\\Python311\\Lib\\site-packages\\numpy-2.0.2.dist-info due to invalid metadata entry 'name'\n",
      "WARNING: Skipping C:\\Users\\bintu\\AppData\\Local\\Programs\\Python\\Python311\\Lib\\site-packages\\optree-0.14.1.dist-info due to invalid metadata entry 'name'\n",
      "WARNING: Skipping C:\\Users\\bintu\\AppData\\Local\\Programs\\Python\\Python311\\Lib\\site-packages\\opt_einsum-3.4.0.dist-info due to invalid metadata entry 'name'\n",
      "WARNING: Skipping C:\\Users\\bintu\\AppData\\Local\\Programs\\Python\\Python311\\Lib\\site-packages\\tensorboard_data_server-0.7.2.dist-info due to invalid metadata entry 'name'\n",
      "WARNING: Skipping C:\\Users\\bintu\\AppData\\Local\\Programs\\Python\\Python311\\Lib\\site-packages\\tensorflow_io_gcs_filesystem-0.31.0.dist-info due to invalid metadata entry 'name'\n",
      "WARNING: Skipping C:\\Users\\bintu\\AppData\\Local\\Programs\\Python\\Python311\\Lib\\site-packages\\termcolor-2.5.0.dist-info due to invalid metadata entry 'name'\n",
      "WARNING: Skipping C:\\Users\\bintu\\AppData\\Local\\Programs\\Python\\Python311\\Lib\\site-packages\\urllib3-2.3.0.dist-info due to invalid metadata entry 'name'\n",
      "WARNING: Skipping C:\\Users\\bintu\\AppData\\Local\\Programs\\Python\\Python311\\Lib\\site-packages\\wheel-0.45.1.dist-info due to invalid metadata entry 'name'\n",
      "WARNING: Skipping C:\\Users\\bintu\\AppData\\Local\\Programs\\Python\\Python311\\Lib\\site-packages\\wrapt-1.17.2.dist-info due to invalid metadata entry 'name'\n",
      "WARNING: Skipping C:\\Users\\bintu\\AppData\\Local\\Programs\\Python\\Python311\\Lib\\site-packages\\charset_normalizer-3.4.1.dist-info due to invalid metadata entry 'name'\n",
      "WARNING: Skipping C:\\Users\\bintu\\AppData\\Local\\Programs\\Python\\Python311\\Lib\\site-packages\\flatbuffers-25.2.10.dist-info due to invalid metadata entry 'name'\n",
      "WARNING: Skipping C:\\Users\\bintu\\AppData\\Local\\Programs\\Python\\Python311\\Lib\\site-packages\\gast-0.6.0.dist-info due to invalid metadata entry 'name'\n",
      "WARNING: Skipping C:\\Users\\bintu\\AppData\\Local\\Programs\\Python\\Python311\\Lib\\site-packages\\google_pasta-0.2.0.dist-info due to invalid metadata entry 'name'\n",
      "WARNING: Skipping C:\\Users\\bintu\\AppData\\Local\\Programs\\Python\\Python311\\Lib\\site-packages\\grpcio-1.70.0.dist-info due to invalid metadata entry 'name'\n",
      "WARNING: Skipping C:\\Users\\bintu\\AppData\\Local\\Programs\\Python\\Python311\\Lib\\site-packages\\idna-3.10.dist-info due to invalid metadata entry 'name'\n",
      "WARNING: Skipping C:\\Users\\bintu\\AppData\\Local\\Programs\\Python\\Python311\\Lib\\site-packages\\Markdown-3.7.dist-info due to invalid metadata entry 'name'\n",
      "WARNING: Skipping C:\\Users\\bintu\\AppData\\Local\\Programs\\Python\\Python311\\Lib\\site-packages\\MarkupSafe-3.0.2.dist-info due to invalid metadata entry 'name'\n",
      "WARNING: Skipping C:\\Users\\bintu\\AppData\\Local\\Programs\\Python\\Python311\\Lib\\site-packages\\mdurl-0.1.2.dist-info due to invalid metadata entry 'name'\n",
      "WARNING: Skipping C:\\Users\\bintu\\AppData\\Local\\Programs\\Python\\Python311\\Lib\\site-packages\\numpy-2.0.2.dist-info due to invalid metadata entry 'name'\n",
      "WARNING: Skipping C:\\Users\\bintu\\AppData\\Local\\Programs\\Python\\Python311\\Lib\\site-packages\\optree-0.14.1.dist-info due to invalid metadata entry 'name'\n",
      "WARNING: Skipping C:\\Users\\bintu\\AppData\\Local\\Programs\\Python\\Python311\\Lib\\site-packages\\opt_einsum-3.4.0.dist-info due to invalid metadata entry 'name'\n",
      "WARNING: Skipping C:\\Users\\bintu\\AppData\\Local\\Programs\\Python\\Python311\\Lib\\site-packages\\tensorboard_data_server-0.7.2.dist-info due to invalid metadata entry 'name'\n",
      "WARNING: Skipping C:\\Users\\bintu\\AppData\\Local\\Programs\\Python\\Python311\\Lib\\site-packages\\tensorflow_io_gcs_filesystem-0.31.0.dist-info due to invalid metadata entry 'name'\n",
      "WARNING: Skipping C:\\Users\\bintu\\AppData\\Local\\Programs\\Python\\Python311\\Lib\\site-packages\\termcolor-2.5.0.dist-info due to invalid metadata entry 'name'\n",
      "WARNING: Skipping C:\\Users\\bintu\\AppData\\Local\\Programs\\Python\\Python311\\Lib\\site-packages\\urllib3-2.3.0.dist-info due to invalid metadata entry 'name'\n",
      "WARNING: Skipping C:\\Users\\bintu\\AppData\\Local\\Programs\\Python\\Python311\\Lib\\site-packages\\wheel-0.45.1.dist-info due to invalid metadata entry 'name'\n",
      "WARNING: Skipping C:\\Users\\bintu\\AppData\\Local\\Programs\\Python\\Python311\\Lib\\site-packages\\wrapt-1.17.2.dist-info due to invalid metadata entry 'name'\n",
      "\n",
      "[notice] A new release of pip is available: 24.0 -> 25.0.1\n",
      "[notice] To update, run: python.exe -m pip install --upgrade pip\n"
     ]
    },
    {
     "name": "stdout",
     "output_type": "stream",
     "text": [
      "Collecting sklearn\n",
      "  Using cached sklearn-0.0.post12.tar.gz (2.6 kB)\n",
      "  Preparing metadata (setup.py): started\n",
      "  Preparing metadata (setup.py): finished with status 'error'\n"
     ]
    },
    {
     "name": "stderr",
     "output_type": "stream",
     "text": [
      "  error: subprocess-exited-with-error\n",
      "  \n",
      "  × python setup.py egg_info did not run successfully.\n",
      "  │ exit code: 1\n",
      "  ╰─> [15 lines of output]\n",
      "      The 'sklearn' PyPI package is deprecated, use 'scikit-learn'\n",
      "      rather than 'sklearn' for pip commands.\n",
      "      \n",
      "      Here is how to fix this error in the main use cases:\n",
      "      - use 'pip install scikit-learn' rather than 'pip install sklearn'\n",
      "      - replace 'sklearn' by 'scikit-learn' in your pip requirements files\n",
      "        (requirements.txt, setup.py, setup.cfg, Pipfile, etc ...)\n",
      "      - if the 'sklearn' package is used by one of your dependencies,\n",
      "        it would be great if you take some time to track which package uses\n",
      "        'sklearn' instead of 'scikit-learn' and report it to their issue tracker\n",
      "      - as a last resort, set the environment variable\n",
      "        SKLEARN_ALLOW_DEPRECATED_SKLEARN_PACKAGE_INSTALL=True to avoid this error\n",
      "      \n",
      "      More information is available at\n",
      "      https://github.com/scikit-learn/sklearn-pypi-package\n",
      "      [end of output]\n",
      "  \n",
      "  note: This error originates from a subprocess, and is likely not a problem with pip.\n",
      "error: metadata-generation-failed\n",
      "\n",
      "× Encountered error while generating package metadata.\n",
      "╰─> See above for output.\n",
      "\n",
      "note: This is an issue with the package mentioned above, not pip.\n",
      "hint: See above for details.\n",
      "\n",
      "[notice] A new release of pip is available: 24.0 -> 25.0.1\n",
      "[notice] To update, run: python.exe -m pip install --upgrade pip\n"
     ]
    }
   ],
   "source": [
    "!pip install tensorflow\n",
    "!pip install sklearn"
   ]
  },
  {
   "cell_type": "code",
   "execution_count": 1,
   "metadata": {},
   "outputs": [
    {
     "ename": "ModuleNotFoundError",
     "evalue": "No module named 'tensorflow'",
     "output_type": "error",
     "traceback": [
      "\u001b[31m---------------------------------------------------------------------------\u001b[39m",
      "\u001b[31mModuleNotFoundError\u001b[39m                       Traceback (most recent call last)",
      "\u001b[36mCell\u001b[39m\u001b[36m \u001b[39m\u001b[32mIn[1]\u001b[39m\u001b[32m, line 1\u001b[39m\n\u001b[32m----> \u001b[39m\u001b[32m1\u001b[39m \u001b[38;5;28;01mimport\u001b[39;00m\u001b[38;5;250m \u001b[39m\u001b[34;01mtensorflow\u001b[39;00m\u001b[38;5;250m \u001b[39m\u001b[38;5;28;01mas\u001b[39;00m\u001b[38;5;250m \u001b[39m\u001b[34;01mtf\u001b[39;00m\n\u001b[32m      2\u001b[39m \u001b[38;5;28;01mimport\u001b[39;00m\u001b[38;5;250m \u001b[39m\u001b[34;01mnumpy\u001b[39;00m\u001b[38;5;250m \u001b[39m\u001b[38;5;28;01mas\u001b[39;00m\u001b[38;5;250m \u001b[39m\u001b[34;01mnp\u001b[39;00m\n\u001b[32m      3\u001b[39m \u001b[38;5;28;01mimport\u001b[39;00m\u001b[38;5;250m \u001b[39m\u001b[34;01mmatplotlib\u001b[39;00m\u001b[34;01m.\u001b[39;00m\u001b[34;01mpyplot\u001b[39;00m\u001b[38;5;250m \u001b[39m\u001b[38;5;28;01mas\u001b[39;00m\u001b[38;5;250m \u001b[39m\u001b[34;01mplt\u001b[39;00m\n",
      "\u001b[31mModuleNotFoundError\u001b[39m: No module named 'tensorflow'"
     ]
    }
   ],
   "source": [
    "import tensorflow as tf\n",
    "import numpy as np\n",
    "import matplotlib.pyplot as plt\n",
    "import seaborn as sns\n",
    "from sklearn.metrics import confusion_matrix"
   ]
  },
  {
   "cell_type": "code",
   "execution_count": null,
   "metadata": {},
   "outputs": [],
   "source": [
    "from tensorflow.kkeras.datasets import mnist"
   ]
  },
  {
   "cell_type": "code",
   "execution_count": null,
   "metadata": {},
   "outputs": [],
   "source": [
    "(x_train_data, y_train_data)"
   ]
  }
 ],
 "metadata": {
  "kernelspec": {
   "display_name": "Python 3",
   "language": "python",
   "name": "python3"
  },
  "language_info": {
   "codemirror_mode": {
    "name": "ipython",
    "version": 3
   },
   "file_extension": ".py",
   "mimetype": "text/x-python",
   "name": "python",
   "nbconvert_exporter": "python",
   "pygments_lexer": "ipython3",
   "version": "3.11.9"
  }
 },
 "nbformat": 4,
 "nbformat_minor": 2
}
