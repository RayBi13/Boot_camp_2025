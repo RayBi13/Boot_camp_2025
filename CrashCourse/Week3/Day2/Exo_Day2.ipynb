{
 "cells": [
  {
   "cell_type": "code",
   "execution_count": null,
   "metadata": {},
   "outputs": [],
   "source": [
    "# Exercice 2 : Analyse statistique"
   ]
  },
  {
   "cell_type": "code",
   "execution_count": 1,
   "metadata": {},
   "outputs": [
    {
     "name": "stdout",
     "output_type": "stream",
     "text": [
      "Requirement already satisfied: numpy in c:\\users\\bintu\\appdata\\local\\programs\\python\\python313\\lib\\site-packages (2.2.3)Note: you may need to restart the kernel to use updated packages.\n",
      "\n"
     ]
    },
    {
     "name": "stderr",
     "output_type": "stream",
     "text": [
      "\n",
      "[notice] A new release of pip is available: 24.3.1 -> 25.0.1\n",
      "[notice] To update, run: python.exe -m pip install --upgrade pip\n"
     ]
    }
   ],
   "source": [
    "pip install numpy"
   ]
  },
  {
   "cell_type": "code",
   "execution_count": 2,
   "metadata": {},
   "outputs": [],
   "source": [
    "import numpy as np\n",
    "from scipy import integrate\n",
    "import pandas as pd"
   ]
  },
  {
   "cell_type": "code",
   "execution_count": 9,
   "metadata": {},
   "outputs": [],
   "source": [
    "data = np.random.rand(100)\n"
   ]
  },
  {
   "cell_type": "code",
   "execution_count": 4,
   "metadata": {},
   "outputs": [
    {
     "data": {
      "text/plain": [
       "array([ 0,  1,  2,  3,  4,  5,  6,  7,  8,  9, 10, 11, 12, 13, 14, 15, 16,\n",
       "       17, 18, 19, 20, 21, 22, 23, 24, 25, 26, 27, 28, 29, 30, 31, 32, 33,\n",
       "       34, 35, 36, 37, 38, 39, 40, 41, 42, 43, 44, 45, 46, 47, 48, 49, 50,\n",
       "       51, 52, 53, 54, 55, 56, 57, 58, 59, 60, 61, 62, 63, 64, 65, 66, 67,\n",
       "       68, 69, 70, 71, 72, 73, 74, 75, 76, 77, 78, 79, 80, 81, 82, 83, 84,\n",
       "       85, 86, 87, 88, 89, 90, 91, 92, 93, 94, 95, 96, 97, 98, 99])"
      ]
     },
     "execution_count": 4,
     "metadata": {},
     "output_type": "execute_result"
    }
   ],
   "source": [
    "data"
   ]
  },
  {
   "cell_type": "code",
   "execution_count": 11,
   "metadata": {},
   "outputs": [],
   "source": [
    "moyenne = np.mean(data)"
   ]
  },
  {
   "cell_type": "code",
   "execution_count": 12,
   "metadata": {},
   "outputs": [
    {
     "data": {
      "text/plain": [
       "np.float64(0.4642386598966139)"
      ]
     },
     "execution_count": 12,
     "metadata": {},
     "output_type": "execute_result"
    }
   ],
   "source": [
    "moyenne"
   ]
  },
  {
   "cell_type": "code",
   "execution_count": 13,
   "metadata": {},
   "outputs": [],
   "source": [
    "median = np.median(data)"
   ]
  },
  {
   "cell_type": "code",
   "execution_count": 14,
   "metadata": {},
   "outputs": [
    {
     "data": {
      "text/plain": [
       "np.float64(0.4447524347103813)"
      ]
     },
     "execution_count": 14,
     "metadata": {},
     "output_type": "execute_result"
    }
   ],
   "source": [
    "median"
   ]
  },
  {
   "cell_type": "code",
   "execution_count": 15,
   "metadata": {},
   "outputs": [],
   "source": [
    "# Calculer l'ecart avec NNP\n",
    "ecart = np.std(data)"
   ]
  },
  {
   "cell_type": "code",
   "execution_count": 16,
   "metadata": {},
   "outputs": [
    {
     "data": {
      "text/plain": [
       "np.float64(0.2726902173919654)"
      ]
     },
     "execution_count": 16,
     "metadata": {},
     "output_type": "execute_result"
    }
   ],
   "source": [
    "ecart"
   ]
  },
  {
   "cell_type": "code",
   "execution_count": null,
   "metadata": {},
   "outputs": [],
   "source": [
    "# Exercice 3 : Manipulation de la date"
   ]
  },
  {
   "cell_type": "code",
   "execution_count": null,
   "metadata": {},
   "outputs": [],
   "source": [
    "# Création des données pour le mois de janvier\n",
    "month = pd.date_range(start='2023-01', periods=30)"
   ]
  },
  {
   "cell_type": "code",
   "execution_count": 18,
   "metadata": {},
   "outputs": [
    {
     "data": {
      "text/plain": [
       "DatetimeIndex(['2023-01-01', '2023-01-02', '2023-01-03', '2023-01-04',\n",
       "               '2023-01-05', '2023-01-06', '2023-01-07', '2023-01-08',\n",
       "               '2023-01-09', '2023-01-10', '2023-01-11', '2023-01-12',\n",
       "               '2023-01-13', '2023-01-14', '2023-01-15', '2023-01-16',\n",
       "               '2023-01-17', '2023-01-18', '2023-01-19', '2023-01-20',\n",
       "               '2023-01-21', '2023-01-22', '2023-01-23', '2023-01-24',\n",
       "               '2023-01-25', '2023-01-26', '2023-01-27', '2023-01-28',\n",
       "               '2023-01-29', '2023-01-30'],\n",
       "              dtype='datetime64[ns]', freq='D')"
      ]
     },
     "execution_count": 18,
     "metadata": {},
     "output_type": "execute_result"
    }
   ],
   "source": [
    "month"
   ]
  },
  {
   "cell_type": "code",
   "execution_count": null,
   "metadata": {},
   "outputs": [],
   "source": [
    "# Exercice 4"
   ]
  },
  {
   "cell_type": "code",
   "execution_count": null,
   "metadata": {},
   "outputs": [],
   "source": [
    "# np.random.seed(42)"
   ]
  },
  {
   "cell_type": "code",
   "execution_count": 33,
   "metadata": {},
   "outputs": [
    {
     "name": "stdout",
     "output_type": "stream",
     "text": [
      "Original DataFrame:\n",
      "     A   B   C   D   E\n",
      "0  52  93  15  72  61\n",
      "1  21  83  87  75  75\n",
      "2  88  24   3  22  53\n",
      "3   2  88  30  38   2\n",
      "4  64  60  21  33  76\n",
      "5  58  22  89  49  91\n",
      "6  59  42  92  60  80\n",
      "7  15  62  62  47  62\n",
      "8  51  55  64   3  51\n",
      "9   7  21  73  39  18\n",
      "\n",
      "Filtered DataFrame (A > 50):\n",
      "     A   B   C   D   E\n",
      "0  52  93  15  72  61\n",
      "2  88  24   3  22  53\n",
      "4  64  60  21  33  76\n",
      "5  58  22  89  49  91\n",
      "6  59  42  92  60  80\n",
      "8  51  55  64   3  51\n",
      "\n",
      "Sum of each column:\n",
      " A    417\n",
      "B    550\n",
      "C    536\n",
      "D    438\n",
      "E    569\n",
      "dtype: int64\n",
      "\n",
      "Average of each column:\n",
      " A    41.7\n",
      "B    55.0\n",
      "C    53.6\n",
      "D    43.8\n",
      "E    56.9\n",
      "dtype: float64\n"
     ]
    }
   ],
   "source": [
    "\n",
    "import pandas as pd\n",
    "import numpy as np\n",
    "import scipy.stats as stats\n",
    "\n",
    "# Dataframe\n",
    "np.random.seed(42)  # pour la reproductibilité\n",
    "df = pd.DataFrame(np.random.randint(1, 100, size=(10, 5)), columns=['A', 'B', 'C', 'D', 'E'])\n",
    "\n",
    "\n",
    "filtered_df = df[df['A'] > 50]\n",
    "\n",
    "# functions aggregation\n",
    "sum_values = df.sum()  # Sum of each column\n",
    "average_values = df.mean()  # Average of each column\n",
    "\n",
    "\n",
    "print(\"Original DataFrame:\\n\", df)\n",
    "print(\"\\nFiltered DataFrame (A > 50):\\n\", filtered_df)\n",
    "print(\"\\nSum of each column:\\n\", sum_values)\n",
    "print(\"\\nAverage of each column:\\n\", average_values)"
   ]
  },
  {
   "cell_type": "code",
   "execution_count": null,
   "metadata": {},
   "outputs": [],
   "source": [
    "# EXO 5"
   ]
  },
  {
   "cell_type": "code",
   "execution_count": 34,
   "metadata": {},
   "outputs": [
    {
     "data": {
      "image/png": "[encoded data removed]",
      "text/plain": [
       "<Figure size 640x480 with 2 Axes>"
      ]
     },
     "metadata": {},
     "output_type": "display_data"
    }
   ],
   "source": [
    "\n",
    "import matplotlib.pyplot as plt\n",
    "\n",
    "# grayscale image (5X5)\n",
    "grayscale_image = np.array([\n",
    "    [  0,  50, 100, 150, 200],\n",
    "    [ 10,  60, 110, 160, 210],\n",
    "    [ 20,  70, 120, 170, 220],\n",
    "    [ 30,  80, 130, 180, 230],\n",
    "    [ 40,  90, 140, 190, 240]\n",
    "], dtype=np.uint8)\n",
    "\n",
    "\n",
    "plt.imshow(grayscale_image, cmap='gray', vmin=0, vmax=255)\n",
    "plt.colorbar()  \n",
    "plt.title(\"5x5 Grayscale Image\")\n",
    "plt.show()"
   ]
  },
  {
   "cell_type": "code",
   "execution_count": null,
   "metadata": {},
   "outputs": [],
   "source": [
    "# EXO 6"
   ]
  },
  {
   "cell_type": "code",
   "execution_count": null,
   "metadata": {},
   "outputs": [],
   "source": [
    "# EXO 7"
   ]
  },
  {
   "cell_type": "code",
   "execution_count": 36,
   "metadata": {},
   "outputs": [],
   "source": [
    "import numpy as np\n",
    "\n",
    "# Creer random arrays\n",
    "np.random.seed(42)  # For reproducibility\n",
    "array1 = np.random.randint(1, 100, size=10)\n",
    "array2 = np.random.randint(1, 100, size=10)\n",
    "\n",
    "# comparaison\n",
    "comparison_result = array1 > array2\n",
    "\n"
   ]
  },
  {
   "cell_type": "code",
   "execution_count": 37,
   "metadata": {},
   "outputs": [
    {
     "name": "stdout",
     "output_type": "stream",
     "text": [
      "Array 1: [52 93 15 72 61 21 83 87 75 75]\n",
      "Array 2: [88 24  3 22 53  2 88 30 38  2]\n",
      "Comparaison (Array1 > Array2): [False  True  True  True  True  True False  True  True  True]\n"
     ]
    }
   ],
   "source": [
    "print(\"Array 1:\", array1)\n",
    "print(\"Array 2:\", array2)\n",
    "print(\"Comparaison (Array1 > Array2):\", comparison_result)"
   ]
  },
  {
   "cell_type": "code",
   "execution_count": null,
   "metadata": {},
   "outputs": [],
   "source": [
    "# EXO 8"
   ]
  },
  {
   "cell_type": "code",
   "execution_count": 38,
   "metadata": {},
   "outputs": [
    {
     "name": "stdout",
     "output_type": "stream",
     "text": [
      "January to March:\n",
      " 2023-01-01     0\n",
      "2023-01-02     1\n",
      "2023-01-03     2\n",
      "2023-01-04     3\n",
      "2023-01-05     4\n",
      "              ..\n",
      "2023-03-27    85\n",
      "2023-03-28    86\n",
      "2023-03-29    87\n",
      "2023-03-30    88\n",
      "2023-03-31    89\n",
      "Freq: D, Length: 90, dtype: int64\n",
      "\n",
      "April to June:\n",
      " 2023-04-01     90\n",
      "2023-04-02     91\n",
      "2023-04-03     92\n",
      "2023-04-04     93\n",
      "2023-04-05     94\n",
      "             ... \n",
      "2023-06-26    176\n",
      "2023-06-27    177\n",
      "2023-06-28    178\n",
      "2023-06-29    179\n",
      "2023-06-30    180\n",
      "Freq: D, Length: 91, dtype: int64\n",
      "\n",
      "July to September:\n",
      " 2023-07-01    181\n",
      "2023-07-02    182\n",
      "2023-07-03    183\n",
      "2023-07-04    184\n",
      "2023-07-05    185\n",
      "             ... \n",
      "2023-09-26    268\n",
      "2023-09-27    269\n",
      "2023-09-28    270\n",
      "2023-09-29    271\n",
      "2023-09-30    272\n",
      "Freq: D, Length: 92, dtype: int64\n",
      "\n",
      "October to December:\n",
      " 2023-10-01    273\n",
      "2023-10-02    274\n",
      "2023-10-03    275\n",
      "2023-10-04    276\n",
      "2023-10-05    277\n",
      "             ... \n",
      "2023-12-27    360\n",
      "2023-12-28    361\n",
      "2023-12-29    362\n",
      "2023-12-30    363\n",
      "2023-12-31    364\n",
      "Freq: D, Length: 92, dtype: int64\n"
     ]
    }
   ],
   "source": [
    "date_range = pd.date_range(start='2023-01-01', end='2023-12-31', freq='D')\n",
    "time_series_data = pd.Series(range(len(date_range)), index=date_range)\n",
    "\n",
    "# Slicing the time series for different intervals\n",
    "jan_mar = time_series_data['2023-01-01':'2023-03-31']\n",
    "apr_jun = time_series_data['2023-04-01':'2023-06-30']\n",
    "jul_sep = time_series_data['2023-07-01':'2023-09-30']\n",
    "oct_dec = time_series_data['2023-10-01':'2023-12-31']\n",
    "\n",
    "# Print results\n",
    "print(\"January to March:\\n\", jan_mar)\n",
    "print(\"\\nApril to June:\\n\", apr_jun)\n",
    "print(\"\\nJuly to September:\\n\", jul_sep)\n",
    "print(\"\\nOctober to December:\\n\", oct_dec)"
   ]
  },
  {
   "cell_type": "code",
   "execution_count": null,
   "metadata": {},
   "outputs": [],
   "source": [
    "# EXO 9"
   ]
  },
  {
   "cell_type": "code",
   "execution_count": 40,
   "metadata": {},
   "outputs": [],
   "source": [
    "date_range = pd.date_range(start='2023-01-01', end='2023-12-31', freq='D')\n",
    "time_series_data = pd.Series(range(len(date_range)), index=date_range)\n",
    "\n"
   ]
  },
  {
   "cell_type": "code",
   "execution_count": null,
   "metadata": {},
   "outputs": [],
   "source": [
    "# Découper 5différents intervalles)\n",
    "jan_mar = time_series_data['2023-01-01':'2023-03-31']\n",
    "apr_jun = time_series_data['2023-04-01':'2023-06-30']\n",
    "jul_sep = time_series_data['2023-07-01':'2023-09-30']\n",
    "oct_dec = time_series_data['2023-10-01':'2023-12-31']\n",
    "\n",
    "\n",
    "print(\"January to March:\\n\", jan_mar)\n",
    "print(\"\\nApril to June:\\n\", apr_jun)\n",
    "print(\"\\nJuly to September:\\n\", jul_sep)\n",
    "print(\"\\nOctober to December:\\n\", oct_dec)"
   ]
  },
  {
   "cell_type": "code",
   "execution_count": 43,
   "metadata": {},
   "outputs": [],
   "source": [
    "np_array = np.random.randint(1, 100, size=(5, 3))\n",
    "\n",
    "# Convertir la table NumPy en Pandas DataFrame\n",
    "df_from_array = pd.DataFrame(np_array, columns=['A', 'B', 'C'])\n",
    "\n"
   ]
  },
  {
   "cell_type": "code",
   "execution_count": 44,
   "metadata": {},
   "outputs": [],
   "source": [
    "# Convertir Pandas DataFrame en table NumPy\n",
    "np_array_from_df = df_from_array.to_numpy()\n",
    "\n"
   ]
  },
  {
   "cell_type": "code",
   "execution_count": 45,
   "metadata": {},
   "outputs": [
    {
     "name": "stdout",
     "output_type": "stream",
     "text": [
      "NumPy Array:\n",
      " [[15 62 62]\n",
      " [47 62 51]\n",
      " [55 64  3]\n",
      " [51  7 21]\n",
      " [73 39 18]]\n",
      "\n",
      "Converted DataFrame:\n",
      "     A   B   C\n",
      "0  15  62  62\n",
      "1  47  62  51\n",
      "2  55  64   3\n",
      "3  51   7  21\n",
      "4  73  39  18\n",
      "\n",
      "Converted Back to NumPy Array:\n",
      " [[15 62 62]\n",
      " [47 62 51]\n",
      " [55 64  3]\n",
      " [51  7 21]\n",
      " [73 39 18]]\n"
     ]
    }
   ],
   "source": [
    "\n",
    "print(\"NumPy Array:\\n\", np_array)\n",
    "print(\"\\nConverted DataFrame:\\n\", df_from_array)\n",
    "print(\"\\nConverted Back to NumPy Array:\\n\", np_array_from_df)"
   ]
  },
  {
   "cell_type": "code",
   "execution_count": 46,
   "metadata": {},
   "outputs": [],
   "source": [
    "\n",
    "# dataset (pour nombre aléatoire)\n",
    "np.random.seed(42)  # reproducibilité\n",
    "x = np.arange(1, 21)  # X-axis: 1 to 20\n",
    "y = np.random.randint(10, 100, size=20)  # Y-axis: nombre aléatoire\n",
    "\n"
   ]
  },
  {
   "cell_type": "code",
   "execution_count": 47,
   "metadata": {},
   "outputs": [
    {
     "data": {
      "text/plain": [
       "[<matplotlib.lines.Line2D at 0x214d699c2d0>]"
      ]
     },
     "execution_count": 47,
     "metadata": {},
     "output_type": "execute_result"
    },
    {
     "data": {
      "image/png": "[encoded data removed]",
      "text/plain": [
       "<Figure size 800x500 with 1 Axes>"
      ]
     },
     "metadata": {},
     "output_type": "display_data"
    }
   ],
   "source": [
    "# Plotage\n",
    "plt.figure(figsize=(8, 5))\n",
    "plt.plot(x, y, marker='o', linestyle='-', color='b', label=\"Random Data\")\n",
    "\n"
   ]
  },
  {
   "cell_type": "code",
   "execution_count": 48,
   "metadata": {},
   "outputs": [
    {
     "name": "stderr",
     "output_type": "stream",
     "text": [
      "C:\\Users\\bintu\\AppData\\Local\\Temp\\ipykernel_17768\\4230085328.py:5: UserWarning: No artists with labels found to put in legend.  Note that artists whose label start with an underscore are ignored when legend() is called with no argument.\n",
      "  plt.legend()\n"
     ]
    },
    {
     "data": {
      "image/png": "[encoded data removed]",
      "text/plain": [
       "<Figure size 640x480 with 1 Axes>"
      ]
     },
     "metadata": {},
     "output_type": "display_data"
    }
   ],
   "source": [
    "# plotage customisé\n",
    "plt.xlabel(\"X Values\")\n",
    "plt.ylabel(\"Y Values\")\n",
    "plt.title(\"Line Graph of Random Numbers\")\n",
    "plt.legend()\n",
    "plt.grid(True)\n",
    "\n",
    "\n",
    "plt.show()"
   ]
  },
  {
   "cell_type": "code",
   "execution_count": null,
   "metadata": {},
   "outputs": [],
   "source": [
    "# Exercise: T-Test on the Iris Flower Dataset"
   ]
  },
  {
   "cell_type": "code",
   "execution_count": 1,
   "metadata": {},
   "outputs": [
    {
     "name": "stdout",
     "output_type": "stream",
     "text": [
      "Iris Petal Length Comparison: T-statistic = -39.492719391538095 P-value = 5.404910513441677e-62\n"
     ]
    }
   ],
   "source": [
    "from sklearn.datasets import load_iris\n",
    "from scipy.stats import ttest_ind\n",
    "import pandas as pd\n",
    "\n",
    "# Load Iris dataset\n",
    "iris = load_iris()\n",
    "iris_df = pd.DataFrame(iris.data, columns=iris.feature_names)\n",
    "iris_df['species'] = pd.Categorical.from_codes(iris.target, iris.target_names)\n",
    "\n",
    "# Extract petal lengths for Setosa and Versicolor\n",
    "setosa_petal_length = iris_df[iris_df['species'] == 'setosa']['petal length (cm)']\n",
    "versicolor_petal_length = iris_df[iris_df['species'] == 'versicolor']['petal length (cm)']\n",
    "\n",
    "# Perform T-test\n",
    "t_stat, p_val = ttest_ind(setosa_petal_length, versicolor_petal_length)\n",
    "\n",
    "# Output the T-statistic and P-value\n",
    "print(\"Iris Petal Length Comparison: T-statistic =\", t_stat, \"P-value =\", p_val)"
   ]
  },
  {
   "cell_type": "code",
   "execution_count": null,
   "metadata": {},
   "outputs": [],
   "source": []
  }
 ],
 "metadata": {
  "kernelspec": {
   "display_name": "Python 3",
   "language": "python",
   "name": "python3"
  },
  "language_info": {
   "codemirror_mode": {
    "name": "ipython",
    "version": 3
   },
   "file_extension": ".py",
   "mimetype": "text/x-python",
   "name": "python",
   "nbconvert_exporter": "python",
   "pygments_lexer": "ipython3",
   "version": "3.13.2"
  }
 },
 "nbformat": 4,
 "nbformat_minor": 2
}
