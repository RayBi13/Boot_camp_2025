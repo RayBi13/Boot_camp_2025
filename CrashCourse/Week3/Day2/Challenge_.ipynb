{
 "cells": [
  {
   "cell_type": "code",
   "execution_count": 1,
   "metadata": {},
   "outputs": [
    {
     "name": "stdout",
     "output_type": "stream",
     "text": [
      "Requirement already satisfied: numpy in c:\\users\\bintu\\appdata\\local\\programs\\python\\python313\\lib\\site-packages (2.2.3)\n"
     ]
    },
    {
     "name": "stderr",
     "output_type": "stream",
     "text": [
      "\n",
      "[notice] A new release of pip is available: 24.3.1 -> 25.0.1\n",
      "[notice] To update, run: python.exe -m pip install --upgrade pip\n"
     ]
    }
   ],
   "source": [
    "!pip install numpy"
   ]
  },
  {
   "cell_type": "code",
   "execution_count": 2,
   "metadata": {},
   "outputs": [],
   "source": [
    "import pandas as pd\n",
    "import numpy as np\n",
    "import scipy as sp"
   ]
  },
  {
   "cell_type": "code",
   "execution_count": 16,
   "metadata": {},
   "outputs": [],
   "source": [
    "temperature_data = np.random.uniform(low=-5, high=35, size=(10,12))"
   ]
  },
  {
   "cell_type": "code",
   "execution_count": 17,
   "metadata": {},
   "outputs": [
    {
     "data": {
      "text/plain": [
       "array([[18.90610768, 27.19769713, 21.76668995,  7.60939624,  1.9042836 ,\n",
       "        18.95809436,  6.61708212, -4.90897569, -1.94983493,  3.63375427,\n",
       "         3.13195469,  7.71298076],\n",
       "       [-1.64106629,  2.67065556, 23.10734375, 17.09759422, 29.41139091,\n",
       "        -4.61800193,  8.67502618, 14.90789423, 28.34806091, 32.36433052,\n",
       "        -1.028886  , 23.05862333],\n",
       "       [30.76932706, 33.07769904, 34.04132446,  2.11381111,  9.02340241,\n",
       "        21.26177396, 10.86065249, -0.22580569, 29.49493827, 31.877918  ,\n",
       "        -0.39524902,  5.49838386],\n",
       "       [-2.04690702, 24.67036791, 16.46199497, -3.14695732, 21.25294202,\n",
       "         4.55152449,  8.34831166, 29.55056629, 13.63287455, 19.53997299,\n",
       "        20.77957489, 19.67989812],\n",
       "       [ 1.83392796, 17.78125827, 33.85653487, -3.99037443, 14.47170616,\n",
       "         4.55061225,  2.01922454,  8.85706819,  1.47459856, 24.43786217,\n",
       "        18.27588308, 20.12893453],\n",
       "       [26.68851736,  8.7580681 , 15.38584426, 33.70265569, 18.39416687,\n",
       "         1.09081208, 25.70945135, 18.27340574, 14.22709787, 29.93016217,\n",
       "        11.38902054, 32.17831154],\n",
       "       [31.03113057, 11.23157503, 17.54166741,  0.55543306, 28.38474199,\n",
       "        27.56974098, 11.01139761, 22.68648938, -2.95363068, -4.41409861,\n",
       "        -0.06000462,  4.16000442],\n",
       "       [21.95032414, -3.4059209 , 15.57895183, 14.37365454, 34.71869652,\n",
       "        33.24032014, 18.92645836, 16.55393504, 33.12927231,  4.19576549,\n",
       "         9.51413928, 16.46905455],\n",
       "       [15.41832407, 34.78477472, 18.14971667,  3.68326991, 25.27122444,\n",
       "        17.46792077, 16.09853865, 12.16728267, 26.39056164, 18.17594685,\n",
       "        12.81553231,  9.76230995],\n",
       "       [18.16839941, 34.22028419,  8.72065984, -3.92235546, 29.33359243,\n",
       "        14.75300777, 21.70771042, 25.70037902,  9.04017329,  8.87403207,\n",
       "         0.26559342, 19.50017237]])"
      ]
     },
     "execution_count": 17,
     "metadata": {},
     "output_type": "execute_result"
    }
   ],
   "source": [
    "temperature_data"
   ]
  },
  {
   "cell_type": "code",
   "execution_count": null,
   "metadata": {},
   "outputs": [],
   "source": []
  },
  {
   "cell_type": "code",
   "execution_count": null,
   "metadata": {},
   "outputs": [],
   "source": [
    "df = pd.DataFrame(temperature_data, index, columns)"
   ]
  }
 ],
 "metadata": {
  "kernelspec": {
   "display_name": "Python 3",
   "language": "python",
   "name": "python3"
  },
  "language_info": {
   "codemirror_mode": {
    "name": "ipython",
    "version": 3
   },
   "file_extension": ".py",
   "mimetype": "text/x-python",
   "name": "python",
   "nbconvert_exporter": "python",
   "pygments_lexer": "ipython3",
   "version": "3.13.2"
  }
 },
 "nbformat": 4,
 "nbformat_minor": 2
}
