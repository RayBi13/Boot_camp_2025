{
 "cells": [
  {
   "cell_type": "code",
   "execution_count": 1,
   "metadata": {},
   "outputs": [
    {
     "name": "stdout",
     "output_type": "stream",
     "text": [
      "Requirement already satisfied: numpy in c:\\users\\bintu\\appdata\\local\\programs\\python\\python313\\lib\\site-packages (2.2.3)\n"
     ]
    },
    {
     "name": "stderr",
     "output_type": "stream",
     "text": [
      "\n",
      "[notice] A new release of pip is available: 24.3.1 -> 25.0.1\n",
      "[notice] To update, run: python.exe -m pip install --upgrade pip\n"
     ]
    }
   ],
   "source": [
    "!pip install numpy"
   ]
  },
  {
   "cell_type": "code",
   "execution_count": 2,
   "metadata": {},
   "outputs": [],
   "source": [
    "import numpy as np"
   ]
  },
  {
   "cell_type": "code",
   "execution_count": 3,
   "metadata": {},
   "outputs": [],
   "source": [
    "matrix_A = np.array([[2, 3], [4, 5], [7, 9]])\n",
    "matrix_B = np.array([[1, 1], [1, 1], [8, 10]])\n"
   ]
  },
  {
   "cell_type": "code",
   "execution_count": 4,
   "metadata": {},
   "outputs": [
    {
     "name": "stdout",
     "output_type": "stream",
     "text": [
      "Sum of Matrices:\n",
      " [[ 3  4]\n",
      " [ 5  6]\n",
      " [15 19]]\n",
      "Difference of Matrices:\n",
      " [[ 1  2]\n",
      " [ 3  4]\n",
      " [-1 -1]]\n"
     ]
    }
   ],
   "source": [
    "sum_matrix = np.add(matrix_A, matrix_B)\n",
    "diff_matrix = np.subtract(matrix_A, matrix_B)\n",
    "\n",
    "print(\"Sum of Matrices:\\n\", sum_matrix)\n",
    "print(\"Difference of Matrices:\\n\", diff_matrix)"
   ]
  },
  {
   "cell_type": "code",
   "execution_count": 5,
   "metadata": {},
   "outputs": [],
   "source": [
    "import matplotlib.pyplot as plt"
   ]
  },
  {
   "cell_type": "code",
   "execution_count": 8,
   "metadata": {},
   "outputs": [
    {
     "data": {
      "image/png": "[encoded data removed]",
      "text/plain": [
       "<Figure size 640x480 with 1 Axes>"
      ]
     },
     "metadata": {},
     "output_type": "display_data"
    }
   ],
   "source": [
    "# Generate a normal distribution\n",
    "mean = 0\n",
    "std_dev = 1\n",
    "samples = np.random.normal(mean, std_dev, 1000)\n",
    "\n",
    "# Plotting the distribution\n",
    "plt.hist(samples, bins=30, density=True,)\n",
    "plt.title(\"Normal Distribution\")\n",
    "plt.xlabel(\"Value\")\n",
    "plt.ylabel(\"Frequency\")\n",
    "plt.show()"
   ]
  },
  {
   "cell_type": "code",
   "execution_count": 9,
   "metadata": {},
   "outputs": [
    {
     "name": "stdout",
     "output_type": "stream",
     "text": [
      "Random Sample: [1 7 9 4 6]\n"
     ]
    }
   ],
   "source": [
    "# Éjection aléatoire\n",
    "\n",
    "\n",
    "# Random sampling from an array\n",
    "data = np.arange(10)\n",
    "sample = np.random.choice(data, size=5, replace=False)\n",
    "print(\"Random Sample:\", sample)\n"
   ]
  },
  {
   "cell_type": "code",
   "execution_count": 10,
   "metadata": {},
   "outputs": [
    {
     "name": "stdout",
     "output_type": "stream",
     "text": [
      "Shuffled Data: [7 4 0 9 6 5 8 1 2 3]\n"
     ]
    }
   ],
   "source": [
    "# Smart de données\n",
    "\n",
    "\n",
    "# Shuffling data\n",
    "np.random.shuffle(data)\n",
    "print(\"Shuffled Data:\", data)\n",
    "\n",
    "\n"
   ]
  },
  {
   "cell_type": "code",
   "execution_count": 11,
   "metadata": {},
   "outputs": [
    {
     "name": "stdout",
     "output_type": "stream",
     "text": [
      "Variance: 0.9541962292097235\n",
      "Skewness: -0.03890760038105469\n",
      "Kurtosis: -0.09521533368838764\n"
     ]
    }
   ],
   "source": [
    "# Calcul de la variance, de la trèche et de la kurtose\n",
    "\n",
    "\n",
    "# Variance\n",
    "variance = np.var(samples)\n",
    "print(\"Variance:\", variance)\n",
    "\n",
    "# Skewness and Kurtosis require scipy\n",
    "from scipy.stats import skew, kurtosis\n",
    "print(\"Skewness:\", skew(samples))\n",
    "print(\"Kurtosis:\", kurtosis(samples))\n"
   ]
  },
  {
   "cell_type": "code",
   "execution_count": 12,
   "metadata": {},
   "outputs": [],
   "source": [
    "import pandas as pd"
   ]
  },
  {
   "cell_type": "code",
   "execution_count": 14,
   "metadata": {},
   "outputs": [
    {
     "name": "stdout",
     "output_type": "stream",
     "text": [
      "Rolling Mean:\n",
      " 2025-02-25 11:14:33.011717         NaN\n",
      "2025-02-26 11:14:33.011717         NaN\n",
      "2025-02-27 11:14:33.011717         NaN\n",
      "2025-02-28 11:14:33.011717         NaN\n",
      "2025-03-01 11:14:33.011717   -1.005924\n",
      "                                ...   \n",
      "2025-05-31 11:14:33.011717   -0.187653\n",
      "2025-06-01 11:14:33.011717   -0.215202\n",
      "2025-06-02 11:14:33.011717   -0.295276\n",
      "2025-06-03 11:14:33.011717   -0.146214\n",
      "2025-06-04 11:14:33.011717   -0.288210\n",
      "Freq: D, Length: 100, dtype: float64\n"
     ]
    }
   ],
   "source": [
    "# Example: Using rolling statistics\n",
    "ts_data = pd.Series(np.random.randn(100), index=pd.date_range('today', periods=100))\n",
    "rolling_mean = ts_data.rolling(window=5).mean()\n",
    "print(\"Rolling Mean:\\n\", rolling_mean)\n",
    "\n"
   ]
  },
  {
   "cell_type": "code",
   "execution_count": 15,
   "metadata": {},
   "outputs": [
    {
     "name": "stdout",
     "output_type": "stream",
     "text": [
      "Window Sum:\n",
      " 2025-02-25 11:14:33.011717         NaN\n",
      "2025-02-26 11:14:33.011717         NaN\n",
      "2025-02-27 11:14:33.011717         NaN\n",
      "2025-02-28 11:14:33.011717         NaN\n",
      "2025-03-01 11:14:33.011717   -5.029619\n",
      "                                ...   \n",
      "2025-05-31 11:14:33.011717   -0.938265\n",
      "2025-06-01 11:14:33.011717   -1.076011\n",
      "2025-06-02 11:14:33.011717   -1.476378\n",
      "2025-06-03 11:14:33.011717   -0.731068\n",
      "2025-06-04 11:14:33.011717   -1.441051\n",
      "Freq: D, Length: 100, dtype: float64\n"
     ]
    }
   ],
   "source": [
    "# Example: Applying a window function\n",
    "window_sum = ts_data.rolling(window=5).sum()\n",
    "print(\"Window Sum:\\n\", window_sum)"
   ]
  },
  {
   "cell_type": "code",
   "execution_count": 16,
   "metadata": {},
   "outputs": [
    {
     "name": "stdout",
     "output_type": "stream",
     "text": [
      "January 2020 Dates:\n",
      " ['2020-01-01' '2020-01-02' '2020-01-03' '2020-01-04' '2020-01-05'\n",
      " '2020-01-06' '2020-01-07' '2020-01-08' '2020-01-09' '2020-01-10'\n",
      " '2020-01-11' '2020-01-12' '2020-01-13' '2020-01-14' '2020-01-15'\n",
      " '2020-01-16' '2020-01-17' '2020-01-18' '2020-01-19' '2020-01-20'\n",
      " '2020-01-21' '2020-01-22' '2020-01-23' '2020-01-24' '2020-01-25'\n",
      " '2020-01-26' '2020-01-27' '2020-01-28' '2020-01-29' '2020-01-30'\n",
      " '2020-01-31']\n"
     ]
    }
   ],
   "source": [
    "# EXERCICE\n",
    "dates = np.arange('2020-01', '2020-02', dtype='datetime64[D]')\n",
    "print(\"January 2020 Dates:\\n\", dates)\n",
    "\n",
    "\n",
    "\n"
   ]
  },
  {
   "cell_type": "code",
   "execution_count": null,
   "metadata": {},
   "outputs": [
    {
     "name": "stdout",
     "output_type": "stream",
     "text": [
      "Janvier 2022 Dates:\n",
      " ['2022-01-01' '2022-01-02' '2022-01-03' '2022-01-04' '2022-01-05'\n",
      " '2022-01-06' '2022-01-07' '2022-01-08' '2022-01-09' '2022-01-10'\n",
      " '2022-01-11' '2022-01-12' '2022-01-13' '2022-01-14' '2022-01-15'\n",
      " '2022-01-16' '2022-01-17' '2022-01-18' '2022-01-19' '2022-01-20'\n",
      " '2022-01-21' '2022-01-22' '2022-01-23' '2022-01-24' '2022-01-25'\n",
      " '2022-01-26' '2022-01-27' '2022-01-28' '2022-01-29' '2022-01-30'\n",
      " '2022-01-31']\n"
     ]
    }
   ],
   "source": [
    "# Exercices sur les données des séries chronologiques en NumPy\n",
    "# Afficher les dates du 1er janvier 2022 au 31 décembre 2022\n",
    "dates = np.arange('2022-01', '2022-02', dtype='datetime64[D]')\n",
    "print(\"Janvier 2022 Dates:\\n\", dates)"
   ]
  },
  {
   "cell_type": "code",
   "execution_count": 18,
   "metadata": {},
   "outputs": [
    {
     "name": "stdout",
     "output_type": "stream",
     "text": [
      "Formatted Dates:\n",
      " ['2022-01-01' '2022-01-02' '2022-01-03' '2022-01-04' '2022-01-05'\n",
      " '2022-01-06' '2022-01-07' '2022-01-08' '2022-01-09' '2022-01-10'\n",
      " '2022-01-11' '2022-01-12' '2022-01-13' '2022-01-14' '2022-01-15'\n",
      " '2022-01-16' '2022-01-17' '2022-01-18' '2022-01-19' '2022-01-20'\n",
      " '2022-01-21' '2022-01-22' '2022-01-23' '2022-01-24' '2022-01-25'\n",
      " '2022-01-26' '2022-01-27' '2022-01-28' '2022-01-29' '2022-01-30'\n",
      " '2022-01-31']\n"
     ]
    }
   ],
   "source": [
    "# Converting dates to a different format\n",
    "formatted_dates = np.datetime_as_string(dates, unit='D')\n",
    "print(\"Formatted Dates:\\n\", formatted_dates)"
   ]
  },
  {
   "cell_type": "code",
   "execution_count": null,
   "metadata": {},
   "outputs": [],
   "source": []
  }
 ],
 "metadata": {
  "kernelspec": {
   "display_name": "Python 3",
   "language": "python",
   "name": "python3"
  },
  "language_info": {
   "codemirror_mode": {
    "name": "ipython",
    "version": 3
   },
   "file_extension": ".py",
   "mimetype": "text/x-python",
   "name": "python",
   "nbconvert_exporter": "python",
   "pygments_lexer": "ipython3",
   "version": "3.13.2"
  }
 },
 "nbformat": 4,
 "nbformat_minor": 2
}
