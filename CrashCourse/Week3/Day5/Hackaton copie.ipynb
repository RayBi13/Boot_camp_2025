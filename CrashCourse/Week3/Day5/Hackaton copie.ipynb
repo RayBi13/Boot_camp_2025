{
 "cells": [
  {
   "cell_type": "markdown",
   "metadata": {},
   "source": [
    "Hackaton"
   ]
  },
  {
   "cell_type": "code",
   "execution_count": 1,
   "metadata": {},
   "outputs": [],
   "source": [
    "import pandas as pd\n",
    "import numpy as np\n",
    "import matplotlib.pyplot as plt\n",
    "import seaborn as sns\n",
    "import scipy.stats as stats\n"
   ]
  },
  {
   "cell_type": "code",
   "execution_count": 13,
   "metadata": {},
   "outputs": [],
   "source": [
    "file_path = \"sentimentdataset.csv\""
   ]
  },
  {
   "cell_type": "code",
   "execution_count": 14,
   "metadata": {},
   "outputs": [],
   "source": [
    "df = pd.read_csv(file_path)"
   ]
  },
  {
   "cell_type": "code",
   "execution_count": 15,
   "metadata": {},
   "outputs": [
    {
     "data": {
      "text/html": [
       "<div>\n",
       "<style scoped>\n",
       "    .dataframe tbody tr th:only-of-type {\n",
       "        vertical-align: middle;\n",
       "    }\n",
       "\n",
       "    .dataframe tbody tr th {\n",
       "        vertical-align: top;\n",
       "    }\n",
       "\n",
       "    .dataframe thead th {\n",
       "        text-align: right;\n",
       "    }\n",
       "</style>\n",
       "<table border=\"1\" class=\"dataframe\">\n",
       "  <thead>\n",
       "    <tr style=\"text-align: right;\">\n",
       "      <th></th>\n",
       "      <th>Unnamed: 0.1</th>\n",
       "      <th>Unnamed: 0</th>\n",
       "      <th>Text</th>\n",
       "      <th>Sentiment</th>\n",
       "      <th>Timestamp</th>\n",
       "      <th>User</th>\n",
       "      <th>Platform</th>\n",
       "      <th>Hashtags</th>\n",
       "      <th>Retweets</th>\n",
       "      <th>Likes</th>\n",
       "      <th>Country</th>\n",
       "      <th>Year</th>\n",
       "      <th>Month</th>\n",
       "      <th>Day</th>\n",
       "      <th>Hour</th>\n",
       "    </tr>\n",
       "  </thead>\n",
       "  <tbody>\n",
       "    <tr>\n",
       "      <th>0</th>\n",
       "      <td>0</td>\n",
       "      <td>0</td>\n",
       "      <td>Enjoying a beautiful day at the park!        ...</td>\n",
       "      <td>Positive</td>\n",
       "      <td>2023-01-15 12:30:00</td>\n",
       "      <td>User123</td>\n",
       "      <td>Twitter</td>\n",
       "      <td>#Nature #Park</td>\n",
       "      <td>15.0</td>\n",
       "      <td>30.0</td>\n",
       "      <td>USA</td>\n",
       "      <td>2023</td>\n",
       "      <td>1</td>\n",
       "      <td>15</td>\n",
       "      <td>12</td>\n",
       "    </tr>\n",
       "    <tr>\n",
       "      <th>1</th>\n",
       "      <td>1</td>\n",
       "      <td>1</td>\n",
       "      <td>Traffic was terrible this morning.           ...</td>\n",
       "      <td>Negative</td>\n",
       "      <td>2023-01-15 08:45:00</td>\n",
       "      <td>CommuterX</td>\n",
       "      <td>Twitter</td>\n",
       "      <td>#Traffic #Morning</td>\n",
       "      <td>5.0</td>\n",
       "      <td>10.0</td>\n",
       "      <td>Canada</td>\n",
       "      <td>2023</td>\n",
       "      <td>1</td>\n",
       "      <td>15</td>\n",
       "      <td>8</td>\n",
       "    </tr>\n",
       "    <tr>\n",
       "      <th>2</th>\n",
       "      <td>2</td>\n",
       "      <td>2</td>\n",
       "      <td>Just finished an amazing workout! 💪          ...</td>\n",
       "      <td>Positive</td>\n",
       "      <td>2023-01-15 15:45:00</td>\n",
       "      <td>FitnessFan</td>\n",
       "      <td>Instagram</td>\n",
       "      <td>#Fitness #Workout</td>\n",
       "      <td>20.0</td>\n",
       "      <td>40.0</td>\n",
       "      <td>USA</td>\n",
       "      <td>2023</td>\n",
       "      <td>1</td>\n",
       "      <td>15</td>\n",
       "      <td>15</td>\n",
       "    </tr>\n",
       "    <tr>\n",
       "      <th>3</th>\n",
       "      <td>3</td>\n",
       "      <td>3</td>\n",
       "      <td>Excited about the upcoming weekend getaway!  ...</td>\n",
       "      <td>Positive</td>\n",
       "      <td>2023-01-15 18:20:00</td>\n",
       "      <td>AdventureX</td>\n",
       "      <td>Facebook</td>\n",
       "      <td>#Travel #Adventure</td>\n",
       "      <td>8.0</td>\n",
       "      <td>15.0</td>\n",
       "      <td>UK</td>\n",
       "      <td>2023</td>\n",
       "      <td>1</td>\n",
       "      <td>15</td>\n",
       "      <td>18</td>\n",
       "    </tr>\n",
       "    <tr>\n",
       "      <th>4</th>\n",
       "      <td>4</td>\n",
       "      <td>4</td>\n",
       "      <td>Trying out a new recipe for dinner tonight.  ...</td>\n",
       "      <td>Neutral</td>\n",
       "      <td>2023-01-15 19:55:00</td>\n",
       "      <td>ChefCook</td>\n",
       "      <td>Instagram</td>\n",
       "      <td>#Cooking #Food</td>\n",
       "      <td>12.0</td>\n",
       "      <td>25.0</td>\n",
       "      <td>Australia</td>\n",
       "      <td>2023</td>\n",
       "      <td>1</td>\n",
       "      <td>15</td>\n",
       "      <td>19</td>\n",
       "    </tr>\n",
       "  </tbody>\n",
       "</table>\n",
       "</div>"
      ],
      "text/plain": [
       "   Unnamed: 0.1  Unnamed: 0  \\\n",
       "0             0           0   \n",
       "1             1           1   \n",
       "2             2           2   \n",
       "3             3           3   \n",
       "4             4           4   \n",
       "\n",
       "                                                Text    Sentiment  \\\n",
       "0   Enjoying a beautiful day at the park!        ...   Positive     \n",
       "1   Traffic was terrible this morning.           ...   Negative     \n",
       "2   Just finished an amazing workout! 💪          ...   Positive     \n",
       "3   Excited about the upcoming weekend getaway!  ...   Positive     \n",
       "4   Trying out a new recipe for dinner tonight.  ...   Neutral      \n",
       "\n",
       "             Timestamp            User     Platform  \\\n",
       "0  2023-01-15 12:30:00   User123          Twitter     \n",
       "1  2023-01-15 08:45:00   CommuterX        Twitter     \n",
       "2  2023-01-15 15:45:00   FitnessFan      Instagram    \n",
       "3  2023-01-15 18:20:00   AdventureX       Facebook    \n",
       "4  2023-01-15 19:55:00   ChefCook        Instagram    \n",
       "\n",
       "                                     Hashtags  Retweets  Likes       Country  \\\n",
       "0   #Nature #Park                                  15.0   30.0     USA         \n",
       "1   #Traffic #Morning                               5.0   10.0     Canada      \n",
       "2   #Fitness #Workout                              20.0   40.0   USA           \n",
       "3   #Travel #Adventure                              8.0   15.0     UK          \n",
       "4   #Cooking #Food                                 12.0   25.0    Australia    \n",
       "\n",
       "   Year  Month  Day  Hour  \n",
       "0  2023      1   15    12  \n",
       "1  2023      1   15     8  \n",
       "2  2023      1   15    15  \n",
       "3  2023      1   15    18  \n",
       "4  2023      1   15    19  "
      ]
     },
     "execution_count": 15,
     "metadata": {},
     "output_type": "execute_result"
    }
   ],
   "source": [
    "df.head()"
   ]
  },
  {
   "cell_type": "code",
   "execution_count": 16,
   "metadata": {},
   "outputs": [
    {
     "name": "stdout",
     "output_type": "stream",
     "text": [
      "<class 'pandas.core.frame.DataFrame'>\n",
      "RangeIndex: 732 entries, 0 to 731\n",
      "Data columns (total 15 columns):\n",
      " #   Column        Non-Null Count  Dtype  \n",
      "---  ------        --------------  -----  \n",
      " 0   Unnamed: 0.1  732 non-null    int64  \n",
      " 1   Unnamed: 0    732 non-null    int64  \n",
      " 2   Text          732 non-null    object \n",
      " 3   Sentiment     732 non-null    object \n",
      " 4   Timestamp     732 non-null    object \n",
      " 5   User          732 non-null    object \n",
      " 6   Platform      732 non-null    object \n",
      " 7   Hashtags      732 non-null    object \n",
      " 8   Retweets      732 non-null    float64\n",
      " 9   Likes         732 non-null    float64\n",
      " 10  Country       732 non-null    object \n",
      " 11  Year          732 non-null    int64  \n",
      " 12  Month         732 non-null    int64  \n",
      " 13  Day           732 non-null    int64  \n",
      " 14  Hour          732 non-null    int64  \n",
      "dtypes: float64(2), int64(6), object(7)\n",
      "memory usage: 85.9+ KB\n"
     ]
    }
   ],
   "source": [
    "df.info()"
   ]
  },
  {
   "cell_type": "code",
   "execution_count": 17,
   "metadata": {},
   "outputs": [
    {
     "data": {
      "text/html": [
       "<div>\n",
       "<style scoped>\n",
       "    .dataframe tbody tr th:only-of-type {\n",
       "        vertical-align: middle;\n",
       "    }\n",
       "\n",
       "    .dataframe tbody tr th {\n",
       "        vertical-align: top;\n",
       "    }\n",
       "\n",
       "    .dataframe thead th {\n",
       "        text-align: right;\n",
       "    }\n",
       "</style>\n",
       "<table border=\"1\" class=\"dataframe\">\n",
       "  <thead>\n",
       "    <tr style=\"text-align: right;\">\n",
       "      <th></th>\n",
       "      <th>Unnamed: 0.1</th>\n",
       "      <th>Unnamed: 0</th>\n",
       "      <th>Retweets</th>\n",
       "      <th>Likes</th>\n",
       "      <th>Year</th>\n",
       "      <th>Month</th>\n",
       "      <th>Day</th>\n",
       "      <th>Hour</th>\n",
       "    </tr>\n",
       "  </thead>\n",
       "  <tbody>\n",
       "    <tr>\n",
       "      <th>count</th>\n",
       "      <td>732.000000</td>\n",
       "      <td>732.000000</td>\n",
       "      <td>732.000000</td>\n",
       "      <td>732.000000</td>\n",
       "      <td>732.000000</td>\n",
       "      <td>732.000000</td>\n",
       "      <td>732.000000</td>\n",
       "      <td>732.000000</td>\n",
       "    </tr>\n",
       "    <tr>\n",
       "      <th>mean</th>\n",
       "      <td>366.464481</td>\n",
       "      <td>369.740437</td>\n",
       "      <td>21.508197</td>\n",
       "      <td>42.901639</td>\n",
       "      <td>2020.471311</td>\n",
       "      <td>6.122951</td>\n",
       "      <td>15.497268</td>\n",
       "      <td>15.521858</td>\n",
       "    </tr>\n",
       "    <tr>\n",
       "      <th>std</th>\n",
       "      <td>211.513936</td>\n",
       "      <td>212.428936</td>\n",
       "      <td>7.061286</td>\n",
       "      <td>14.089848</td>\n",
       "      <td>2.802285</td>\n",
       "      <td>3.411763</td>\n",
       "      <td>8.474553</td>\n",
       "      <td>4.113414</td>\n",
       "    </tr>\n",
       "    <tr>\n",
       "      <th>min</th>\n",
       "      <td>0.000000</td>\n",
       "      <td>0.000000</td>\n",
       "      <td>5.000000</td>\n",
       "      <td>10.000000</td>\n",
       "      <td>2010.000000</td>\n",
       "      <td>1.000000</td>\n",
       "      <td>1.000000</td>\n",
       "      <td>0.000000</td>\n",
       "    </tr>\n",
       "    <tr>\n",
       "      <th>25%</th>\n",
       "      <td>183.750000</td>\n",
       "      <td>185.750000</td>\n",
       "      <td>17.750000</td>\n",
       "      <td>34.750000</td>\n",
       "      <td>2019.000000</td>\n",
       "      <td>3.000000</td>\n",
       "      <td>9.000000</td>\n",
       "      <td>13.000000</td>\n",
       "    </tr>\n",
       "    <tr>\n",
       "      <th>50%</th>\n",
       "      <td>366.500000</td>\n",
       "      <td>370.500000</td>\n",
       "      <td>22.000000</td>\n",
       "      <td>43.000000</td>\n",
       "      <td>2021.000000</td>\n",
       "      <td>6.000000</td>\n",
       "      <td>15.000000</td>\n",
       "      <td>16.000000</td>\n",
       "    </tr>\n",
       "    <tr>\n",
       "      <th>75%</th>\n",
       "      <td>549.250000</td>\n",
       "      <td>553.250000</td>\n",
       "      <td>25.000000</td>\n",
       "      <td>50.000000</td>\n",
       "      <td>2023.000000</td>\n",
       "      <td>9.000000</td>\n",
       "      <td>22.000000</td>\n",
       "      <td>19.000000</td>\n",
       "    </tr>\n",
       "    <tr>\n",
       "      <th>max</th>\n",
       "      <td>732.000000</td>\n",
       "      <td>736.000000</td>\n",
       "      <td>40.000000</td>\n",
       "      <td>80.000000</td>\n",
       "      <td>2023.000000</td>\n",
       "      <td>12.000000</td>\n",
       "      <td>31.000000</td>\n",
       "      <td>23.000000</td>\n",
       "    </tr>\n",
       "  </tbody>\n",
       "</table>\n",
       "</div>"
      ],
      "text/plain": [
       "       Unnamed: 0.1  Unnamed: 0    Retweets       Likes         Year  \\\n",
       "count    732.000000  732.000000  732.000000  732.000000   732.000000   \n",
       "mean     366.464481  369.740437   21.508197   42.901639  2020.471311   \n",
       "std      211.513936  212.428936    7.061286   14.089848     2.802285   \n",
       "min        0.000000    0.000000    5.000000   10.000000  2010.000000   \n",
       "25%      183.750000  185.750000   17.750000   34.750000  2019.000000   \n",
       "50%      366.500000  370.500000   22.000000   43.000000  2021.000000   \n",
       "75%      549.250000  553.250000   25.000000   50.000000  2023.000000   \n",
       "max      732.000000  736.000000   40.000000   80.000000  2023.000000   \n",
       "\n",
       "            Month         Day        Hour  \n",
       "count  732.000000  732.000000  732.000000  \n",
       "mean     6.122951   15.497268   15.521858  \n",
       "std      3.411763    8.474553    4.113414  \n",
       "min      1.000000    1.000000    0.000000  \n",
       "25%      3.000000    9.000000   13.000000  \n",
       "50%      6.000000   15.000000   16.000000  \n",
       "75%      9.000000   22.000000   19.000000  \n",
       "max     12.000000   31.000000   23.000000  "
      ]
     },
     "execution_count": 17,
     "metadata": {},
     "output_type": "execute_result"
    }
   ],
   "source": [
    "df.describe()"
   ]
  },
  {
   "cell_type": "code",
   "execution_count": 18,
   "metadata": {},
   "outputs": [
    {
     "name": "stdout",
     "output_type": "stream",
     "text": [
      "Index(['Unnamed: 0.1', 'Unnamed: 0', 'Text', 'Sentiment', 'Timestamp', 'User',\n",
      "       'Platform', 'Hashtags', 'Retweets', 'Likes', 'Country', 'Year', 'Month',\n",
      "       'Day', 'Hour'],\n",
      "      dtype='object')\n"
     ]
    }
   ],
   "source": [
    "print(df.columns)"
   ]
  },
  {
   "cell_type": "code",
   "execution_count": 19,
   "metadata": {},
   "outputs": [
    {
     "name": "stdout",
     "output_type": "stream",
     "text": [
      "Unnamed: 0.1    0\n",
      "Unnamed: 0      0\n",
      "Text            0\n",
      "Sentiment       0\n",
      "Timestamp       0\n",
      "User            0\n",
      "Platform        0\n",
      "Hashtags        0\n",
      "Retweets        0\n",
      "Likes           0\n",
      "Country         0\n",
      "Year            0\n",
      "Month           0\n",
      "Day             0\n",
      "Hour            0\n",
      "dtype: int64\n"
     ]
    }
   ],
   "source": [
    "print(df.isnull().sum())"
   ]
  },
  {
   "cell_type": "code",
   "execution_count": 20,
   "metadata": {},
   "outputs": [],
   "source": [
    "df[\"Timestamp\"] = pd.to_datetime(df[\"Timestamp\"], errors=\"coerce\")"
   ]
  },
  {
   "cell_type": "code",
   "execution_count": 21,
   "metadata": {},
   "outputs": [
    {
     "name": "stdout",
     "output_type": "stream",
     "text": [
      "datetime64[ns]\n"
     ]
    }
   ],
   "source": [
    "print(df[\"Timestamp\"].dtype)"
   ]
  },
  {
   "cell_type": "code",
   "execution_count": 22,
   "metadata": {},
   "outputs": [],
   "source": [
    "# Définition des mots-clés liés au sport\n",
    "sport_keywords = [\"sport\", \"football\", \"soccer\", \"nba\", \"tennis\", \"fifa\", \"olympics\", \"fitness\", \"workout\"]\n"
   ]
  },
  {
   "cell_type": "code",
   "execution_count": 23,
   "metadata": {},
   "outputs": [],
   "source": [
    "# Fonction de filtrage\n",
    "def is_sport_related(text, hashtags):\n",
    "    text = str(text).lower()\n",
    "    hashtags = str(hashtags).lower()\n",
    "    \n",
    "    return any(word in text or word in hashtags for word in sport_keywords)"
   ]
  },
  {
   "cell_type": "markdown",
   "metadata": {},
   "source": [
    "explications: on defini une variable relative au sport, si texte en chaine caractere en maj on passe en minuscule et idem pour les # on passe en minuscule."
   ]
  },
  {
   "cell_type": "code",
   "execution_count": 24,
   "metadata": {},
   "outputs": [],
   "source": [
    "# Appliquer le filtre\n",
    "df[\"Is_Sport\"] = df.apply(lambda row: is_sport_related(row[\"Text\"], row[\"Hashtags\"]), axis=1)\n"
   ]
  },
  {
   "cell_type": "code",
   "execution_count": 25,
   "metadata": {},
   "outputs": [],
   "source": [
    "# Conserver uniquement les messages sportifs\n",
    "df_sport = df[df[\"Is_Sport\"] == True].drop(columns=[\"Is_Sport\"])\n"
   ]
  },
  {
   "cell_type": "code",
   "execution_count": 26,
   "metadata": {},
   "outputs": [
    {
     "data": {
      "text/html": [
       "<div>\n",
       "<style scoped>\n",
       "    .dataframe tbody tr th:only-of-type {\n",
       "        vertical-align: middle;\n",
       "    }\n",
       "\n",
       "    .dataframe tbody tr th {\n",
       "        vertical-align: top;\n",
       "    }\n",
       "\n",
       "    .dataframe thead th {\n",
       "        text-align: right;\n",
       "    }\n",
       "</style>\n",
       "<table border=\"1\" class=\"dataframe\">\n",
       "  <thead>\n",
       "    <tr style=\"text-align: right;\">\n",
       "      <th></th>\n",
       "      <th>Unnamed: 0.1</th>\n",
       "      <th>Unnamed: 0</th>\n",
       "      <th>Text</th>\n",
       "      <th>Sentiment</th>\n",
       "      <th>Timestamp</th>\n",
       "      <th>User</th>\n",
       "      <th>Platform</th>\n",
       "      <th>Hashtags</th>\n",
       "      <th>Retweets</th>\n",
       "      <th>Likes</th>\n",
       "      <th>Country</th>\n",
       "      <th>Year</th>\n",
       "      <th>Month</th>\n",
       "      <th>Day</th>\n",
       "      <th>Hour</th>\n",
       "    </tr>\n",
       "  </thead>\n",
       "  <tbody>\n",
       "    <tr>\n",
       "      <th>2</th>\n",
       "      <td>2</td>\n",
       "      <td>2</td>\n",
       "      <td>Just finished an amazing workout! 💪          ...</td>\n",
       "      <td>Positive</td>\n",
       "      <td>2023-01-15 15:45:00</td>\n",
       "      <td>FitnessFan</td>\n",
       "      <td>Instagram</td>\n",
       "      <td>#Fitness #Workout</td>\n",
       "      <td>20.0</td>\n",
       "      <td>40.0</td>\n",
       "      <td>USA</td>\n",
       "      <td>2023</td>\n",
       "      <td>1</td>\n",
       "      <td>15</td>\n",
       "      <td>15</td>\n",
       "    </tr>\n",
       "    <tr>\n",
       "      <th>13</th>\n",
       "      <td>13</td>\n",
       "      <td>13</td>\n",
       "      <td>New year, new fitness goals! 💪               ...</td>\n",
       "      <td>Positive</td>\n",
       "      <td>2023-01-18 18:00:00</td>\n",
       "      <td>FitJourney</td>\n",
       "      <td>Instagram</td>\n",
       "      <td>#NewYear #FitnessGoals</td>\n",
       "      <td>28.0</td>\n",
       "      <td>55.0</td>\n",
       "      <td>USA</td>\n",
       "      <td>2023</td>\n",
       "      <td>1</td>\n",
       "      <td>18</td>\n",
       "      <td>18</td>\n",
       "    </tr>\n",
       "    <tr>\n",
       "      <th>23</th>\n",
       "      <td>23</td>\n",
       "      <td>23</td>\n",
       "      <td>Just finished a challenging workout routine. ...</td>\n",
       "      <td>Positive</td>\n",
       "      <td>2023-01-22 09:15:00</td>\n",
       "      <td>FitnessWarrior</td>\n",
       "      <td>Twitter</td>\n",
       "      <td>#Fitness #ChallengeAccepted</td>\n",
       "      <td>20.0</td>\n",
       "      <td>40.0</td>\n",
       "      <td>UK</td>\n",
       "      <td>2023</td>\n",
       "      <td>1</td>\n",
       "      <td>22</td>\n",
       "      <td>9</td>\n",
       "    </tr>\n",
       "    <tr>\n",
       "      <th>34</th>\n",
       "      <td>35</td>\n",
       "      <td>36</td>\n",
       "      <td>Winter sports day at the local park.         ...</td>\n",
       "      <td>Positive</td>\n",
       "      <td>2023-01-26 14:20:00</td>\n",
       "      <td>WinterSports</td>\n",
       "      <td>Twitter</td>\n",
       "      <td>#WinterSports #Fun</td>\n",
       "      <td>15.0</td>\n",
       "      <td>30.0</td>\n",
       "      <td>Canada</td>\n",
       "      <td>2023</td>\n",
       "      <td>1</td>\n",
       "      <td>26</td>\n",
       "      <td>14</td>\n",
       "    </tr>\n",
       "    <tr>\n",
       "      <th>50</th>\n",
       "      <td>51</td>\n",
       "      <td>52</td>\n",
       "      <td>Starting a new fitness challenge tomorrow! 💪 ...</td>\n",
       "      <td>Positive</td>\n",
       "      <td>2023-02-01 08:00:00</td>\n",
       "      <td>FitnessChallenge</td>\n",
       "      <td>Facebook</td>\n",
       "      <td>#FitnessChallenge #NewBeginnings</td>\n",
       "      <td>22.0</td>\n",
       "      <td>45.0</td>\n",
       "      <td>UK</td>\n",
       "      <td>2023</td>\n",
       "      <td>2</td>\n",
       "      <td>1</td>\n",
       "      <td>8</td>\n",
       "    </tr>\n",
       "  </tbody>\n",
       "</table>\n",
       "</div>"
      ],
      "text/plain": [
       "    Unnamed: 0.1  Unnamed: 0  \\\n",
       "2              2           2   \n",
       "13            13          13   \n",
       "23            23          23   \n",
       "34            35          36   \n",
       "50            51          52   \n",
       "\n",
       "                                                 Text    Sentiment  \\\n",
       "2    Just finished an amazing workout! 💪          ...   Positive     \n",
       "13   New year, new fitness goals! 💪               ...   Positive     \n",
       "23   Just finished a challenging workout routine. ...   Positive     \n",
       "34   Winter sports day at the local park.         ...   Positive     \n",
       "50   Starting a new fitness challenge tomorrow! 💪 ...   Positive     \n",
       "\n",
       "             Timestamp               User     Platform  \\\n",
       "2  2023-01-15 15:45:00      FitnessFan      Instagram    \n",
       "13 2023-01-18 18:00:00      FitJourney      Instagram    \n",
       "23 2023-01-22 09:15:00     FitnessWarrior    Twitter     \n",
       "34 2023-01-26 14:20:00     WinterSports      Twitter     \n",
       "50 2023-02-01 08:00:00   FitnessChallenge    Facebook    \n",
       "\n",
       "                                      Hashtags  Retweets  Likes       Country  \\\n",
       "2    #Fitness #Workout                              20.0   40.0   USA           \n",
       "13    #NewYear #FitnessGoals                        28.0   55.0   USA           \n",
       "23    #Fitness #ChallengeAccepted                   20.0   40.0     UK          \n",
       "34     #WinterSports #Fun                           15.0   30.0     Canada      \n",
       "50     #FitnessChallenge #NewBeginnings             22.0   45.0   UK            \n",
       "\n",
       "    Year  Month  Day  Hour  \n",
       "2   2023      1   15    15  \n",
       "13  2023      1   18    18  \n",
       "23  2023      1   22     9  \n",
       "34  2023      1   26    14  \n",
       "50  2023      2    1     8  "
      ]
     },
     "execution_count": 26,
     "metadata": {},
     "output_type": "execute_result"
    }
   ],
   "source": [
    "df_sport.head()"
   ]
  },
  {
   "cell_type": "code",
   "execution_count": 27,
   "metadata": {},
   "outputs": [],
   "source": [
    "import matplotlib.pyplot as plt\n",
    "import seaborn as sns\n",
    "\n"
   ]
  },
  {
   "cell_type": "code",
   "execution_count": 28,
   "metadata": {},
   "outputs": [],
   "source": [
    "# Compter le nombre de sentiments pour le sport\n",
    "sentiment_counts_sport = df_sport[\"Sentiment\"].value_counts()\n"
   ]
  },
  {
   "cell_type": "markdown",
   "metadata": {},
   "source": [
    "nouvelle variable créée qui va recuperer toutes les données en rapport avec la colonne sentiment créée\n"
   ]
  },
  {
   "cell_type": "code",
   "execution_count": 29,
   "metadata": {},
   "outputs": [
    {
     "name": "stderr",
     "output_type": "stream",
     "text": [
      "C:\\Users\\bintu\\AppData\\Local\\Temp\\ipykernel_25388\\2409985940.py:2: FutureWarning: \n",
      "\n",
      "Passing `palette` without assigning `hue` is deprecated and will be removed in v0.14.0. Assign the `x` variable to `hue` and set `legend=False` for the same effect.\n",
      "\n",
      "  sns.barplot(x=sentiment_counts_sport.index, y=sentiment_counts_sport.values, palette=[\"green\", \"red\", \"gray\"])\n",
      "C:\\Users\\bintu\\AppData\\Local\\Temp\\ipykernel_25388\\2409985940.py:2: UserWarning: \n",
      "The palette list has fewer values (3) than needed (19) and will cycle, which may produce an uninterpretable plot.\n",
      "  sns.barplot(x=sentiment_counts_sport.index, y=sentiment_counts_sport.values, palette=[\"green\", \"red\", \"gray\"])\n"
     ]
    },
    {
     "data": {
      "image/png": "[encoded data removed]",
      "text/plain": [
       "<Figure size 1000x500 with 1 Axes>"
      ]
     },
     "metadata": {},
     "output_type": "display_data"
    }
   ],
   "source": [
    "plt.figure(figsize=(10, 5))\n",
    "sns.barplot(x=sentiment_counts_sport.index, y=sentiment_counts_sport.values, palette=[\"green\", \"red\", \"gray\"])\n",
    "plt.title(\"Répartition des Sentiments pour le Sport\")\n",
    "plt.xlabel(\"Sentiment\")\n",
    "plt.ylabel(\"Nombre de Messages\")\n",
    "plt.xticks(rotation=0)\n",
    "plt.show()"
   ]
  },
  {
   "cell_type": "code",
   "execution_count": 19,
   "metadata": {},
   "outputs": [
    {
     "data": {
      "text/plain": [
       "<Figure size 1200x600 with 0 Axes>"
      ]
     },
     "metadata": {},
     "output_type": "display_data"
    },
    {
     "data": {
      "image/png": "[encoded data removed]",
      "text/plain": [
       "<Figure size 1200x600 with 1 Axes>"
      ]
     },
     "metadata": {},
     "output_type": "display_data"
    }
   ],
   "source": [
    "import matplotlib.pyplot as plt\n",
    "\n",
    "# Vérifier que la colonne Timestamp est bien en datetime\n",
    "df_sport[\"Timestamp\"] = pd.to_datetime(df_sport[\"Timestamp\"])\n",
    "\n",
    "# Grouper les données par date et sentiment\n",
    "sport_sentiment_trend = df_sport.groupby([df_sport[\"Timestamp\"].dt.date, \"Sentiment\"]).size().unstack()\n",
    "\n",
    "# Affichage du graphique\n",
    "plt.figure(figsize=(12, 6))\n",
    "sport_sentiment_trend.plot(kind=\"line\", marker=\"o\", figsize=(12, 6))\n",
    "\n",
    "# Personnalisation du graphique\n",
    "plt.title(\"Évolution des Sentiments sur le Sport au Fil du Temps\", fontsize=14)\n",
    "plt.xlabel(\"Date\", fontsize=12)\n",
    "plt.ylabel(\"Nombre de Messages\", fontsize=12)\n",
    "plt.legend(title=\"Sentiment\", fontsize=10)\n",
    "plt.grid(True)\n",
    "plt.show()\n"
   ]
  },
  {
   "cell_type": "markdown",
   "metadata": {},
   "source": [
    "On se rend compte qu'on a pas assez de données pour une étude pertinente donc on va essayer de 'recupérer d'autres dataset"
   ]
  },
  {
   "cell_type": "markdown",
   "metadata": {},
   "source": [
    "Au lieu d’analyser le sport en général, on va se concentrer sur les figures emblématiques du sport et leur impact sur les discussions publiques. Nous avons donc decidé de tourner le sujet en restant dnas le theme principal:\n",
    "\n",
    "\"Analyse des tendances de sentiment sur Cristiano Ronaldo et Lionel Messi au fil du temps et selon les régions.\"\n",
    "\n",
    "Comparaison des tendances de sentiment entre les deux joueurs légendaires.\n",
    "Analyse temporelle pour voir comment l’opinion évolue après des événements majeurs (transferts, trophées, polémiques…).\n",
    "Étude des différences régionales pour voir comment Ronaldo et Messi sont perçus dans différents pays."
   ]
  },
  {
   "cell_type": "code",
   "execution_count": 30,
   "metadata": {},
   "outputs": [],
   "source": [
    "import pandas as pd"
   ]
  },
  {
   "cell_type": "code",
   "execution_count": 31,
   "metadata": {},
   "outputs": [],
   "source": [
    "df_ronaldo = pd.read_csv(\"ronaldo.csv\")\n",
    "df_messi = pd.read_csv(\"messi.csv\")\n"
   ]
  },
  {
   "cell_type": "code",
   "execution_count": 32,
   "metadata": {},
   "outputs": [
    {
     "data": {
      "text/html": [
       "<div>\n",
       "<style scoped>\n",
       "    .dataframe tbody tr th:only-of-type {\n",
       "        vertical-align: middle;\n",
       "    }\n",
       "\n",
       "    .dataframe tbody tr th {\n",
       "        vertical-align: top;\n",
       "    }\n",
       "\n",
       "    .dataframe thead th {\n",
       "        text-align: right;\n",
       "    }\n",
       "</style>\n",
       "<table border=\"1\" class=\"dataframe\">\n",
       "  <thead>\n",
       "    <tr style=\"text-align: right;\">\n",
       "      <th></th>\n",
       "      <th>tweet_id</th>\n",
       "      <th>author_id</th>\n",
       "      <th>content</th>\n",
       "      <th>lang</th>\n",
       "      <th>date</th>\n",
       "      <th>source</th>\n",
       "      <th>geo</th>\n",
       "      <th>retweet_count</th>\n",
       "      <th>like_count</th>\n",
       "      <th>quote_count</th>\n",
       "    </tr>\n",
       "  </thead>\n",
       "  <tbody>\n",
       "    <tr>\n",
       "      <th>0</th>\n",
       "      <td>1554369938630103040</td>\n",
       "      <td>1413800950846922757</td>\n",
       "      <td>we fell down to with ronaldo and no big team w...</td>\n",
       "      <td>en</td>\n",
       "      <td>2022-08-02T07:34:06.000Z</td>\n",
       "      <td>Twitter for Android</td>\n",
       "      <td>-1</td>\n",
       "      <td>0.0</td>\n",
       "      <td>0.0</td>\n",
       "      <td>0.0</td>\n",
       "    </tr>\n",
       "    <tr>\n",
       "      <th>1</th>\n",
       "      <td>1554369912428167170</td>\n",
       "      <td>1331632873338793986</td>\n",
       "      <td>man utd transfer news live frenkie de jong fin...</td>\n",
       "      <td>en</td>\n",
       "      <td>2022-08-02T07:34:00.000Z</td>\n",
       "      <td>Publer.io</td>\n",
       "      <td>-1</td>\n",
       "      <td>0.0</td>\n",
       "      <td>0.0</td>\n",
       "      <td>0.0</td>\n",
       "    </tr>\n",
       "    <tr>\n",
       "      <th>2</th>\n",
       "      <td>1554369829414502400</td>\n",
       "      <td>1193232041959186434</td>\n",
       "      <td>r and ronaldinho make me smile when i saw than...</td>\n",
       "      <td>en</td>\n",
       "      <td>2022-08-02T07:33:40.000Z</td>\n",
       "      <td>Twitter for iPhone</td>\n",
       "      <td>-1</td>\n",
       "      <td>0.0</td>\n",
       "      <td>0.0</td>\n",
       "      <td>0.0</td>\n",
       "    </tr>\n",
       "    <tr>\n",
       "      <th>3</th>\n",
       "      <td>1554369821432840192</td>\n",
       "      <td>727241246465527809</td>\n",
       "      <td>ronaldo was in the best champions league team ...</td>\n",
       "      <td>en</td>\n",
       "      <td>2022-08-02T07:33:38.000Z</td>\n",
       "      <td>Twitter for Android</td>\n",
       "      <td>-1</td>\n",
       "      <td>0.0</td>\n",
       "      <td>0.0</td>\n",
       "      <td>0.0</td>\n",
       "    </tr>\n",
       "    <tr>\n",
       "      <th>4</th>\n",
       "      <td>1554369806714867712</td>\n",
       "      <td>1324146514495741952</td>\n",
       "      <td>from cristiano ronaldo s point of view it is a...</td>\n",
       "      <td>en</td>\n",
       "      <td>2022-08-02T07:33:35.000Z</td>\n",
       "      <td>WordPress.com</td>\n",
       "      <td>-1</td>\n",
       "      <td>0.0</td>\n",
       "      <td>0.0</td>\n",
       "      <td>0.0</td>\n",
       "    </tr>\n",
       "    <tr>\n",
       "      <th>...</th>\n",
       "      <td>...</td>\n",
       "      <td>...</td>\n",
       "      <td>...</td>\n",
       "      <td>...</td>\n",
       "      <td>...</td>\n",
       "      <td>...</td>\n",
       "      <td>...</td>\n",
       "      <td>...</td>\n",
       "      <td>...</td>\n",
       "      <td>...</td>\n",
       "    </tr>\n",
       "    <tr>\n",
       "      <th>501921</th>\n",
       "      <td>1515850721681416195</td>\n",
       "      <td>597636087</td>\n",
       "      <td>needing a ronaldo hatrick to beat norwich is m...</td>\n",
       "      <td>en</td>\n",
       "      <td>2022-04-18T00:32:29.000Z</td>\n",
       "      <td>Twitter for Android</td>\n",
       "      <td>-1</td>\n",
       "      <td>0.0</td>\n",
       "      <td>0.0</td>\n",
       "      <td>0.0</td>\n",
       "    </tr>\n",
       "    <tr>\n",
       "      <th>501922</th>\n",
       "      <td>1515850716518227972</td>\n",
       "      <td>1408952337302011915</td>\n",
       "      <td>this is fake saf said messi is clear</td>\n",
       "      <td>en</td>\n",
       "      <td>2022-04-18T00:32:28.000Z</td>\n",
       "      <td>Twitter for iPhone</td>\n",
       "      <td>-1</td>\n",
       "      <td>0.0</td>\n",
       "      <td>0.0</td>\n",
       "      <td>0.0</td>\n",
       "    </tr>\n",
       "    <tr>\n",
       "      <th>501923</th>\n",
       "      <td>1515850679046320134</td>\n",
       "      <td>1303392584727838721</td>\n",
       "      <td>wonderful moment cr</td>\n",
       "      <td>en</td>\n",
       "      <td>2022-04-18T00:32:19.000Z</td>\n",
       "      <td>Twitter for Android</td>\n",
       "      <td>04f58e21fc69d75a</td>\n",
       "      <td>0.0</td>\n",
       "      <td>1.0</td>\n",
       "      <td>0.0</td>\n",
       "    </tr>\n",
       "    <tr>\n",
       "      <th>501924</th>\n",
       "      <td>1515850628689547271</td>\n",
       "      <td>1369425436300742656</td>\n",
       "      <td>this isn t about you this is about ronaldo who...</td>\n",
       "      <td>en</td>\n",
       "      <td>2022-04-18T00:32:07.000Z</td>\n",
       "      <td>Twitter for Android</td>\n",
       "      <td>-1</td>\n",
       "      <td>0.0</td>\n",
       "      <td>0.0</td>\n",
       "      <td>0.0</td>\n",
       "    </tr>\n",
       "    <tr>\n",
       "      <th>501925</th>\n",
       "      <td>1515850625333923845</td>\n",
       "      <td>1227156887050678272</td>\n",
       "      <td>morning blue bird since everyone is sleeping r...</td>\n",
       "      <td>en</td>\n",
       "      <td>2022-04-18T00:32:06.000Z</td>\n",
       "      <td>Twitter for iPhone</td>\n",
       "      <td>-1</td>\n",
       "      <td>0.0</td>\n",
       "      <td>5.0</td>\n",
       "      <td>0.0</td>\n",
       "    </tr>\n",
       "  </tbody>\n",
       "</table>\n",
       "<p>501926 rows × 10 columns</p>\n",
       "</div>"
      ],
      "text/plain": [
       "                   tweet_id            author_id  \\\n",
       "0       1554369938630103040  1413800950846922757   \n",
       "1       1554369912428167170  1331632873338793986   \n",
       "2       1554369829414502400  1193232041959186434   \n",
       "3       1554369821432840192   727241246465527809   \n",
       "4       1554369806714867712  1324146514495741952   \n",
       "...                     ...                  ...   \n",
       "501921  1515850721681416195            597636087   \n",
       "501922  1515850716518227972  1408952337302011915   \n",
       "501923  1515850679046320134  1303392584727838721   \n",
       "501924  1515850628689547271  1369425436300742656   \n",
       "501925  1515850625333923845  1227156887050678272   \n",
       "\n",
       "                                                  content lang  \\\n",
       "0       we fell down to with ronaldo and no big team w...   en   \n",
       "1       man utd transfer news live frenkie de jong fin...   en   \n",
       "2       r and ronaldinho make me smile when i saw than...   en   \n",
       "3       ronaldo was in the best champions league team ...   en   \n",
       "4       from cristiano ronaldo s point of view it is a...   en   \n",
       "...                                                   ...  ...   \n",
       "501921  needing a ronaldo hatrick to beat norwich is m...   en   \n",
       "501922               this is fake saf said messi is clear   en   \n",
       "501923                                wonderful moment cr   en   \n",
       "501924  this isn t about you this is about ronaldo who...   en   \n",
       "501925  morning blue bird since everyone is sleeping r...   en   \n",
       "\n",
       "                            date               source               geo  \\\n",
       "0       2022-08-02T07:34:06.000Z  Twitter for Android                -1   \n",
       "1       2022-08-02T07:34:00.000Z            Publer.io                -1   \n",
       "2       2022-08-02T07:33:40.000Z   Twitter for iPhone                -1   \n",
       "3       2022-08-02T07:33:38.000Z  Twitter for Android                -1   \n",
       "4       2022-08-02T07:33:35.000Z        WordPress.com                -1   \n",
       "...                          ...                  ...               ...   \n",
       "501921  2022-04-18T00:32:29.000Z  Twitter for Android                -1   \n",
       "501922  2022-04-18T00:32:28.000Z   Twitter for iPhone                -1   \n",
       "501923  2022-04-18T00:32:19.000Z  Twitter for Android  04f58e21fc69d75a   \n",
       "501924  2022-04-18T00:32:07.000Z  Twitter for Android                -1   \n",
       "501925  2022-04-18T00:32:06.000Z   Twitter for iPhone                -1   \n",
       "\n",
       "        retweet_count  like_count  quote_count  \n",
       "0                 0.0         0.0          0.0  \n",
       "1                 0.0         0.0          0.0  \n",
       "2                 0.0         0.0          0.0  \n",
       "3                 0.0         0.0          0.0  \n",
       "4                 0.0         0.0          0.0  \n",
       "...               ...         ...          ...  \n",
       "501921            0.0         0.0          0.0  \n",
       "501922            0.0         0.0          0.0  \n",
       "501923            0.0         1.0          0.0  \n",
       "501924            0.0         0.0          0.0  \n",
       "501925            0.0         5.0          0.0  \n",
       "\n",
       "[501926 rows x 10 columns]"
      ]
     },
     "execution_count": 32,
     "metadata": {},
     "output_type": "execute_result"
    }
   ],
   "source": [
    "df_ronaldo"
   ]
  },
  {
   "cell_type": "code",
   "execution_count": 33,
   "metadata": {},
   "outputs": [
    {
     "data": {
      "text/html": [
       "<div>\n",
       "<style scoped>\n",
       "    .dataframe tbody tr th:only-of-type {\n",
       "        vertical-align: middle;\n",
       "    }\n",
       "\n",
       "    .dataframe tbody tr th {\n",
       "        vertical-align: top;\n",
       "    }\n",
       "\n",
       "    .dataframe thead th {\n",
       "        text-align: right;\n",
       "    }\n",
       "</style>\n",
       "<table border=\"1\" class=\"dataframe\">\n",
       "  <thead>\n",
       "    <tr style=\"text-align: right;\">\n",
       "      <th></th>\n",
       "      <th>tweet_id</th>\n",
       "      <th>author_id</th>\n",
       "      <th>content</th>\n",
       "      <th>lang</th>\n",
       "      <th>date</th>\n",
       "      <th>source</th>\n",
       "      <th>geo</th>\n",
       "      <th>retweet_count</th>\n",
       "      <th>like_count</th>\n",
       "      <th>quote_count</th>\n",
       "    </tr>\n",
       "  </thead>\n",
       "  <tbody>\n",
       "    <tr>\n",
       "      <th>0</th>\n",
       "      <td>1554369750175780864</td>\n",
       "      <td>936125201540149248</td>\n",
       "      <td>only lionel messi has more in every category</td>\n",
       "      <td>en</td>\n",
       "      <td>2022-08-02T07:33:21.000Z</td>\n",
       "      <td>Twitter for iPhone</td>\n",
       "      <td>-1</td>\n",
       "      <td>0</td>\n",
       "      <td>0</td>\n",
       "      <td>0</td>\n",
       "    </tr>\n",
       "    <tr>\n",
       "      <th>1</th>\n",
       "      <td>1554369704265129984</td>\n",
       "      <td>719822976829546497</td>\n",
       "      <td>balls riqui actually had talent at that time h...</td>\n",
       "      <td>en</td>\n",
       "      <td>2022-08-02T07:33:10.000Z</td>\n",
       "      <td>Twitter for Android</td>\n",
       "      <td>-1</td>\n",
       "      <td>0</td>\n",
       "      <td>0</td>\n",
       "      <td>0</td>\n",
       "    </tr>\n",
       "    <tr>\n",
       "      <th>2</th>\n",
       "      <td>1554369683473645568</td>\n",
       "      <td>1124462707355181056</td>\n",
       "      <td>when messi winning everything then you will bl...</td>\n",
       "      <td>en</td>\n",
       "      <td>2022-08-02T07:33:05.000Z</td>\n",
       "      <td>Twitter for Android</td>\n",
       "      <td>-1</td>\n",
       "      <td>0</td>\n",
       "      <td>0</td>\n",
       "      <td>0</td>\n",
       "    </tr>\n",
       "    <tr>\n",
       "      <th>3</th>\n",
       "      <td>1554369634563940361</td>\n",
       "      <td>1529031568659980288</td>\n",
       "      <td>messi won the treble with barca in</td>\n",
       "      <td>en</td>\n",
       "      <td>2022-08-02T07:32:54.000Z</td>\n",
       "      <td>Twitter for Android</td>\n",
       "      <td>-1</td>\n",
       "      <td>0</td>\n",
       "      <td>0</td>\n",
       "      <td>0</td>\n",
       "    </tr>\n",
       "    <tr>\n",
       "      <th>4</th>\n",
       "      <td>1554369624111734785</td>\n",
       "      <td>1217760894563897345</td>\n",
       "      <td>ronaldo only has the ucl competition as a top ...</td>\n",
       "      <td>en</td>\n",
       "      <td>2022-08-02T07:32:51.000Z</td>\n",
       "      <td>Twitter for Android</td>\n",
       "      <td>-1</td>\n",
       "      <td>0</td>\n",
       "      <td>0</td>\n",
       "      <td>0</td>\n",
       "    </tr>\n",
       "    <tr>\n",
       "      <th>...</th>\n",
       "      <td>...</td>\n",
       "      <td>...</td>\n",
       "      <td>...</td>\n",
       "      <td>...</td>\n",
       "      <td>...</td>\n",
       "      <td>...</td>\n",
       "      <td>...</td>\n",
       "      <td>...</td>\n",
       "      <td>...</td>\n",
       "      <td>...</td>\n",
       "    </tr>\n",
       "    <tr>\n",
       "      <th>465218</th>\n",
       "      <td>1515845141667500039</td>\n",
       "      <td>1489843259702665216</td>\n",
       "      <td>it s cringe messi ghosted against ordinary mar...</td>\n",
       "      <td>en</td>\n",
       "      <td>2022-04-18T00:10:19.000Z</td>\n",
       "      <td>Twitter for iPhone</td>\n",
       "      <td>-1</td>\n",
       "      <td>1</td>\n",
       "      <td>0</td>\n",
       "      <td>0</td>\n",
       "    </tr>\n",
       "    <tr>\n",
       "      <th>465219</th>\n",
       "      <td>1515845073476460544</td>\n",
       "      <td>1496170748548943875</td>\n",
       "      <td>you have to be an injured man to enjoy leo mes...</td>\n",
       "      <td>en</td>\n",
       "      <td>2022-04-18T00:10:03.000Z</td>\n",
       "      <td>Twitter for iPhone</td>\n",
       "      <td>-1</td>\n",
       "      <td>0</td>\n",
       "      <td>0</td>\n",
       "      <td>0</td>\n",
       "    </tr>\n",
       "    <tr>\n",
       "      <th>465220</th>\n",
       "      <td>1515845061975715850</td>\n",
       "      <td>1249801072408956928</td>\n",
       "      <td>unbelievable i can t believe he used to be my ...</td>\n",
       "      <td>en</td>\n",
       "      <td>2022-04-18T00:10:00.000Z</td>\n",
       "      <td>Twitter Web App</td>\n",
       "      <td>-1</td>\n",
       "      <td>0</td>\n",
       "      <td>0</td>\n",
       "      <td>0</td>\n",
       "    </tr>\n",
       "    <tr>\n",
       "      <th>465221</th>\n",
       "      <td>1515845043831070721</td>\n",
       "      <td>1505797638595264512</td>\n",
       "      <td>becoz messi play with mbappe neymar verrati an...</td>\n",
       "      <td>en</td>\n",
       "      <td>2022-04-18T00:09:56.000Z</td>\n",
       "      <td>Twitter for Android</td>\n",
       "      <td>-1</td>\n",
       "      <td>0</td>\n",
       "      <td>0</td>\n",
       "      <td>0</td>\n",
       "    </tr>\n",
       "    <tr>\n",
       "      <th>465222</th>\n",
       "      <td>1515845001485430791</td>\n",
       "      <td>1202283615427727360</td>\n",
       "      <td>yes we can never see a player going from a goa...</td>\n",
       "      <td>en</td>\n",
       "      <td>2022-04-18T00:09:46.000Z</td>\n",
       "      <td>Twitter Web App</td>\n",
       "      <td>-1</td>\n",
       "      <td>0</td>\n",
       "      <td>0</td>\n",
       "      <td>0</td>\n",
       "    </tr>\n",
       "  </tbody>\n",
       "</table>\n",
       "<p>465223 rows × 10 columns</p>\n",
       "</div>"
      ],
      "text/plain": [
       "                   tweet_id            author_id  \\\n",
       "0       1554369750175780864   936125201540149248   \n",
       "1       1554369704265129984   719822976829546497   \n",
       "2       1554369683473645568  1124462707355181056   \n",
       "3       1554369634563940361  1529031568659980288   \n",
       "4       1554369624111734785  1217760894563897345   \n",
       "...                     ...                  ...   \n",
       "465218  1515845141667500039  1489843259702665216   \n",
       "465219  1515845073476460544  1496170748548943875   \n",
       "465220  1515845061975715850  1249801072408956928   \n",
       "465221  1515845043831070721  1505797638595264512   \n",
       "465222  1515845001485430791  1202283615427727360   \n",
       "\n",
       "                                                  content lang  \\\n",
       "0            only lionel messi has more in every category   en   \n",
       "1       balls riqui actually had talent at that time h...   en   \n",
       "2       when messi winning everything then you will bl...   en   \n",
       "3                      messi won the treble with barca in   en   \n",
       "4       ronaldo only has the ucl competition as a top ...   en   \n",
       "...                                                   ...  ...   \n",
       "465218  it s cringe messi ghosted against ordinary mar...   en   \n",
       "465219  you have to be an injured man to enjoy leo mes...   en   \n",
       "465220  unbelievable i can t believe he used to be my ...   en   \n",
       "465221  becoz messi play with mbappe neymar verrati an...   en   \n",
       "465222  yes we can never see a player going from a goa...   en   \n",
       "\n",
       "                            date               source geo  retweet_count  \\\n",
       "0       2022-08-02T07:33:21.000Z   Twitter for iPhone  -1              0   \n",
       "1       2022-08-02T07:33:10.000Z  Twitter for Android  -1              0   \n",
       "2       2022-08-02T07:33:05.000Z  Twitter for Android  -1              0   \n",
       "3       2022-08-02T07:32:54.000Z  Twitter for Android  -1              0   \n",
       "4       2022-08-02T07:32:51.000Z  Twitter for Android  -1              0   \n",
       "...                          ...                  ...  ..            ...   \n",
       "465218  2022-04-18T00:10:19.000Z   Twitter for iPhone  -1              1   \n",
       "465219  2022-04-18T00:10:03.000Z   Twitter for iPhone  -1              0   \n",
       "465220  2022-04-18T00:10:00.000Z      Twitter Web App  -1              0   \n",
       "465221  2022-04-18T00:09:56.000Z  Twitter for Android  -1              0   \n",
       "465222  2022-04-18T00:09:46.000Z      Twitter Web App  -1              0   \n",
       "\n",
       "        like_count  quote_count  \n",
       "0                0            0  \n",
       "1                0            0  \n",
       "2                0            0  \n",
       "3                0            0  \n",
       "4                0            0  \n",
       "...            ...          ...  \n",
       "465218           0            0  \n",
       "465219           0            0  \n",
       "465220           0            0  \n",
       "465221           0            0  \n",
       "465222           0            0  \n",
       "\n",
       "[465223 rows x 10 columns]"
      ]
     },
     "execution_count": 33,
     "metadata": {},
     "output_type": "execute_result"
    }
   ],
   "source": [
    "df_messi"
   ]
  },
  {
   "cell_type": "code",
   "execution_count": 34,
   "metadata": {},
   "outputs": [
    {
     "name": "stdout",
     "output_type": "stream",
     "text": [
      "Valeurs manquantes dans Ronaldo:\n",
      "tweet_id          0\n",
      "author_id         0\n",
      "content          19\n",
      "lang              0\n",
      "date              0\n",
      "source            0\n",
      "geo               0\n",
      "retweet_count     0\n",
      "like_count        0\n",
      "quote_count       0\n",
      "dtype: int64\n",
      "\n",
      "Valeurs manquantes dans Messi:\n",
      "tweet_id         0\n",
      "author_id        0\n",
      "content          3\n",
      "lang             0\n",
      "date             0\n",
      "source           0\n",
      "geo              0\n",
      "retweet_count    0\n",
      "like_count       0\n",
      "quote_count      0\n",
      "dtype: int64\n"
     ]
    }
   ],
   "source": [
    "\n",
    "print(\"Valeurs manquantes dans Ronaldo:\")\n",
    "print(df_ronaldo.isnull().sum())\n",
    "\n",
    "print(\"\\nValeurs manquantes dans Messi:\")\n",
    "print(df_messi.isnull().sum())\n"
   ]
  },
  {
   "cell_type": "code",
   "execution_count": 35,
   "metadata": {},
   "outputs": [],
   "source": [
    "df_ronaldo = df_ronaldo.dropna()\n",
    "df_messi = df_messi.dropna()\n"
   ]
  },
  {
   "cell_type": "code",
   "execution_count": 36,
   "metadata": {},
   "outputs": [
    {
     "name": "stderr",
     "output_type": "stream",
     "text": [
      "C:\\Users\\bintu\\AppData\\Local\\Temp\\ipykernel_25388\\1208444230.py:2: SettingWithCopyWarning: \n",
      "A value is trying to be set on a copy of a slice from a DataFrame\n",
      "\n",
      "See the caveats in the documentation: https://pandas.pydata.org/pandas-docs/stable/user_guide/indexing.html#returning-a-view-versus-a-copy\n",
      "  df_ronaldo.rename(columns={\"date\": \"Timestamp\"}, inplace=True)\n",
      "C:\\Users\\bintu\\AppData\\Local\\Temp\\ipykernel_25388\\1208444230.py:3: SettingWithCopyWarning: \n",
      "A value is trying to be set on a copy of a slice from a DataFrame\n",
      "\n",
      "See the caveats in the documentation: https://pandas.pydata.org/pandas-docs/stable/user_guide/indexing.html#returning-a-view-versus-a-copy\n",
      "  df_messi.rename(columns={\"date\": \"Timestamp\"}, inplace=True)\n",
      "C:\\Users\\bintu\\AppData\\Local\\Temp\\ipykernel_25388\\1208444230.py:6: SettingWithCopyWarning: \n",
      "A value is trying to be set on a copy of a slice from a DataFrame.\n",
      "Try using .loc[row_indexer,col_indexer] = value instead\n",
      "\n",
      "See the caveats in the documentation: https://pandas.pydata.org/pandas-docs/stable/user_guide/indexing.html#returning-a-view-versus-a-copy\n",
      "  df_ronaldo[\"Timestamp\"] = pd.to_datetime(df_ronaldo[\"Timestamp\"], errors=\"coerce\")\n",
      "C:\\Users\\bintu\\AppData\\Local\\Temp\\ipykernel_25388\\1208444230.py:7: SettingWithCopyWarning: \n",
      "A value is trying to be set on a copy of a slice from a DataFrame.\n",
      "Try using .loc[row_indexer,col_indexer] = value instead\n",
      "\n",
      "See the caveats in the documentation: https://pandas.pydata.org/pandas-docs/stable/user_guide/indexing.html#returning-a-view-versus-a-copy\n",
      "  df_messi[\"Timestamp\"] = pd.to_datetime(df_messi[\"Timestamp\"], errors=\"coerce\")\n"
     ]
    }
   ],
   "source": [
    "# Renommer la colonne 'date' en 'Timestamp' avant de convertir en datetime\n",
    "df_ronaldo.rename(columns={\"date\": \"Timestamp\"}, inplace=True)\n",
    "df_messi.rename(columns={\"date\": \"Timestamp\"}, inplace=True)\n",
    "\n",
    "# Convertir la colonne Timestamp en format datetime\n",
    "df_ronaldo[\"Timestamp\"] = pd.to_datetime(df_ronaldo[\"Timestamp\"], errors=\"coerce\")\n",
    "df_messi[\"Timestamp\"] = pd.to_datetime(df_messi[\"Timestamp\"], errors=\"coerce\")"
   ]
  },
  {
   "cell_type": "code",
   "execution_count": 37,
   "metadata": {},
   "outputs": [
    {
     "name": "stdout",
     "output_type": "stream",
     "text": [
      "Colonnes dans Ronaldo dataset: Index(['tweet_id', 'author_id', 'content', 'lang', 'Timestamp', 'source',\n",
      "       'geo', 'retweet_count', 'like_count', 'quote_count'],\n",
      "      dtype='object')\n",
      "Colonnes dans Messi dataset: Index(['tweet_id', 'author_id', 'content', 'lang', 'Timestamp', 'source',\n",
      "       'geo', 'retweet_count', 'like_count', 'quote_count'],\n",
      "      dtype='object')\n"
     ]
    }
   ],
   "source": [
    "print(\"Colonnes dans Ronaldo dataset:\", df_ronaldo.columns)\n",
    "print(\"Colonnes dans Messi dataset:\", df_messi.columns)"
   ]
  },
  {
   "cell_type": "markdown",
   "metadata": {},
   "source": [
    "on ajoute timestamp au lieu de date pour la compatibilité avec le premier data set \n"
   ]
  },
  {
   "cell_type": "code",
   "execution_count": 38,
   "metadata": {},
   "outputs": [
    {
     "name": "stderr",
     "output_type": "stream",
     "text": [
      "C:\\Users\\bintu\\AppData\\Local\\Temp\\ipykernel_25388\\3228568132.py:1: SettingWithCopyWarning: \n",
      "A value is trying to be set on a copy of a slice from a DataFrame\n",
      "\n",
      "See the caveats in the documentation: https://pandas.pydata.org/pandas-docs/stable/user_guide/indexing.html#returning-a-view-versus-a-copy\n",
      "  df_ronaldo.rename(columns={\"date\": \"Timestamp\"}, inplace=True)\n",
      "C:\\Users\\bintu\\AppData\\Local\\Temp\\ipykernel_25388\\3228568132.py:2: SettingWithCopyWarning: \n",
      "A value is trying to be set on a copy of a slice from a DataFrame\n",
      "\n",
      "See the caveats in the documentation: https://pandas.pydata.org/pandas-docs/stable/user_guide/indexing.html#returning-a-view-versus-a-copy\n",
      "  df_messi.rename(columns={\"date\": \"Timestamp\"}, inplace=True)\n"
     ]
    }
   ],
   "source": [
    "df_ronaldo.rename(columns={\"date\": \"Timestamp\"}, inplace=True)\n",
    "df_messi.rename(columns={\"date\": \"Timestamp\"}, inplace=True)\n"
   ]
  },
  {
   "cell_type": "code",
   "execution_count": 39,
   "metadata": {},
   "outputs": [],
   "source": [
    "df_ronaldo = df_ronaldo.copy()\n",
    "df_messi = df_messi.copy()\n",
    "\n",
    "df_ronaldo.rename(columns={\"date\": \"Timestamp\"}, inplace=True)\n",
    "df_messi.rename(columns={\"date\": \"Timestamp\"}, inplace=True)\n"
   ]
  },
  {
   "cell_type": "code",
   "execution_count": 40,
   "metadata": {},
   "outputs": [
    {
     "data": {
      "text/html": [
       "<div>\n",
       "<style scoped>\n",
       "    .dataframe tbody tr th:only-of-type {\n",
       "        vertical-align: middle;\n",
       "    }\n",
       "\n",
       "    .dataframe tbody tr th {\n",
       "        vertical-align: top;\n",
       "    }\n",
       "\n",
       "    .dataframe thead th {\n",
       "        text-align: right;\n",
       "    }\n",
       "</style>\n",
       "<table border=\"1\" class=\"dataframe\">\n",
       "  <thead>\n",
       "    <tr style=\"text-align: right;\">\n",
       "      <th></th>\n",
       "      <th>Unnamed: 0.1</th>\n",
       "      <th>Unnamed: 0</th>\n",
       "      <th>Text</th>\n",
       "      <th>Sentiment</th>\n",
       "      <th>Timestamp</th>\n",
       "      <th>User</th>\n",
       "      <th>Platform</th>\n",
       "      <th>Hashtags</th>\n",
       "      <th>Retweets</th>\n",
       "      <th>Likes</th>\n",
       "      <th>Country</th>\n",
       "      <th>Year</th>\n",
       "      <th>Month</th>\n",
       "      <th>Day</th>\n",
       "      <th>Hour</th>\n",
       "      <th>Is_Sport</th>\n",
       "    </tr>\n",
       "  </thead>\n",
       "  <tbody>\n",
       "    <tr>\n",
       "      <th>0</th>\n",
       "      <td>0</td>\n",
       "      <td>0</td>\n",
       "      <td>Enjoying a beautiful day at the park!        ...</td>\n",
       "      <td>Positive</td>\n",
       "      <td>2023-01-15 12:30:00</td>\n",
       "      <td>User123</td>\n",
       "      <td>Twitter</td>\n",
       "      <td>#Nature #Park</td>\n",
       "      <td>15.0</td>\n",
       "      <td>30.0</td>\n",
       "      <td>USA</td>\n",
       "      <td>2023</td>\n",
       "      <td>1</td>\n",
       "      <td>15</td>\n",
       "      <td>12</td>\n",
       "      <td>False</td>\n",
       "    </tr>\n",
       "    <tr>\n",
       "      <th>1</th>\n",
       "      <td>1</td>\n",
       "      <td>1</td>\n",
       "      <td>Traffic was terrible this morning.           ...</td>\n",
       "      <td>Negative</td>\n",
       "      <td>2023-01-15 08:45:00</td>\n",
       "      <td>CommuterX</td>\n",
       "      <td>Twitter</td>\n",
       "      <td>#Traffic #Morning</td>\n",
       "      <td>5.0</td>\n",
       "      <td>10.0</td>\n",
       "      <td>Canada</td>\n",
       "      <td>2023</td>\n",
       "      <td>1</td>\n",
       "      <td>15</td>\n",
       "      <td>8</td>\n",
       "      <td>False</td>\n",
       "    </tr>\n",
       "    <tr>\n",
       "      <th>2</th>\n",
       "      <td>2</td>\n",
       "      <td>2</td>\n",
       "      <td>Just finished an amazing workout! 💪          ...</td>\n",
       "      <td>Positive</td>\n",
       "      <td>2023-01-15 15:45:00</td>\n",
       "      <td>FitnessFan</td>\n",
       "      <td>Instagram</td>\n",
       "      <td>#Fitness #Workout</td>\n",
       "      <td>20.0</td>\n",
       "      <td>40.0</td>\n",
       "      <td>USA</td>\n",
       "      <td>2023</td>\n",
       "      <td>1</td>\n",
       "      <td>15</td>\n",
       "      <td>15</td>\n",
       "      <td>True</td>\n",
       "    </tr>\n",
       "    <tr>\n",
       "      <th>3</th>\n",
       "      <td>3</td>\n",
       "      <td>3</td>\n",
       "      <td>Excited about the upcoming weekend getaway!  ...</td>\n",
       "      <td>Positive</td>\n",
       "      <td>2023-01-15 18:20:00</td>\n",
       "      <td>AdventureX</td>\n",
       "      <td>Facebook</td>\n",
       "      <td>#Travel #Adventure</td>\n",
       "      <td>8.0</td>\n",
       "      <td>15.0</td>\n",
       "      <td>UK</td>\n",
       "      <td>2023</td>\n",
       "      <td>1</td>\n",
       "      <td>15</td>\n",
       "      <td>18</td>\n",
       "      <td>False</td>\n",
       "    </tr>\n",
       "    <tr>\n",
       "      <th>4</th>\n",
       "      <td>4</td>\n",
       "      <td>4</td>\n",
       "      <td>Trying out a new recipe for dinner tonight.  ...</td>\n",
       "      <td>Neutral</td>\n",
       "      <td>2023-01-15 19:55:00</td>\n",
       "      <td>ChefCook</td>\n",
       "      <td>Instagram</td>\n",
       "      <td>#Cooking #Food</td>\n",
       "      <td>12.0</td>\n",
       "      <td>25.0</td>\n",
       "      <td>Australia</td>\n",
       "      <td>2023</td>\n",
       "      <td>1</td>\n",
       "      <td>15</td>\n",
       "      <td>19</td>\n",
       "      <td>False</td>\n",
       "    </tr>\n",
       "    <tr>\n",
       "      <th>...</th>\n",
       "      <td>...</td>\n",
       "      <td>...</td>\n",
       "      <td>...</td>\n",
       "      <td>...</td>\n",
       "      <td>...</td>\n",
       "      <td>...</td>\n",
       "      <td>...</td>\n",
       "      <td>...</td>\n",
       "      <td>...</td>\n",
       "      <td>...</td>\n",
       "      <td>...</td>\n",
       "      <td>...</td>\n",
       "      <td>...</td>\n",
       "      <td>...</td>\n",
       "      <td>...</td>\n",
       "      <td>...</td>\n",
       "    </tr>\n",
       "    <tr>\n",
       "      <th>727</th>\n",
       "      <td>728</td>\n",
       "      <td>732</td>\n",
       "      <td>Collaborating on a science project that receiv...</td>\n",
       "      <td>Happy</td>\n",
       "      <td>2017-08-18 18:20:00</td>\n",
       "      <td>ScienceProjectSuccessHighSchool</td>\n",
       "      <td>Facebook</td>\n",
       "      <td>#ScienceFairWinner #HighSchoolScience</td>\n",
       "      <td>20.0</td>\n",
       "      <td>39.0</td>\n",
       "      <td>UK</td>\n",
       "      <td>2017</td>\n",
       "      <td>8</td>\n",
       "      <td>18</td>\n",
       "      <td>18</td>\n",
       "      <td>False</td>\n",
       "    </tr>\n",
       "    <tr>\n",
       "      <th>728</th>\n",
       "      <td>729</td>\n",
       "      <td>733</td>\n",
       "      <td>Attending a surprise birthday party organized ...</td>\n",
       "      <td>Happy</td>\n",
       "      <td>2018-06-22 14:15:00</td>\n",
       "      <td>BirthdayPartyJoyHighSchool</td>\n",
       "      <td>Instagram</td>\n",
       "      <td>#SurpriseCelebration #HighSchoolFriendship</td>\n",
       "      <td>25.0</td>\n",
       "      <td>48.0</td>\n",
       "      <td>USA</td>\n",
       "      <td>2018</td>\n",
       "      <td>6</td>\n",
       "      <td>22</td>\n",
       "      <td>14</td>\n",
       "      <td>False</td>\n",
       "    </tr>\n",
       "    <tr>\n",
       "      <th>729</th>\n",
       "      <td>730</td>\n",
       "      <td>734</td>\n",
       "      <td>Successfully fundraising for a school charity ...</td>\n",
       "      <td>Happy</td>\n",
       "      <td>2019-04-05 17:30:00</td>\n",
       "      <td>CharityFundraisingTriumphHighSchool</td>\n",
       "      <td>Twitter</td>\n",
       "      <td>#CommunityGiving #HighSchoolPhilanthropy</td>\n",
       "      <td>22.0</td>\n",
       "      <td>42.0</td>\n",
       "      <td>Canada</td>\n",
       "      <td>2019</td>\n",
       "      <td>4</td>\n",
       "      <td>5</td>\n",
       "      <td>17</td>\n",
       "      <td>False</td>\n",
       "    </tr>\n",
       "    <tr>\n",
       "      <th>730</th>\n",
       "      <td>731</td>\n",
       "      <td>735</td>\n",
       "      <td>Participating in a multicultural festival, cel...</td>\n",
       "      <td>Happy</td>\n",
       "      <td>2020-02-29 20:45:00</td>\n",
       "      <td>MulticulturalFestivalJoyHighSchool</td>\n",
       "      <td>Facebook</td>\n",
       "      <td>#CulturalCelebration #HighSchoolUnity</td>\n",
       "      <td>21.0</td>\n",
       "      <td>43.0</td>\n",
       "      <td>UK</td>\n",
       "      <td>2020</td>\n",
       "      <td>2</td>\n",
       "      <td>29</td>\n",
       "      <td>20</td>\n",
       "      <td>False</td>\n",
       "    </tr>\n",
       "    <tr>\n",
       "      <th>731</th>\n",
       "      <td>732</td>\n",
       "      <td>736</td>\n",
       "      <td>Organizing a virtual talent show during challe...</td>\n",
       "      <td>Happy</td>\n",
       "      <td>2020-11-15 15:15:00</td>\n",
       "      <td>VirtualTalentShowSuccessHighSchool</td>\n",
       "      <td>Instagram</td>\n",
       "      <td>#VirtualEntertainment #HighSchoolPositivity</td>\n",
       "      <td>24.0</td>\n",
       "      <td>47.0</td>\n",
       "      <td>USA</td>\n",
       "      <td>2020</td>\n",
       "      <td>11</td>\n",
       "      <td>15</td>\n",
       "      <td>15</td>\n",
       "      <td>False</td>\n",
       "    </tr>\n",
       "  </tbody>\n",
       "</table>\n",
       "<p>732 rows × 16 columns</p>\n",
       "</div>"
      ],
      "text/plain": [
       "     Unnamed: 0.1  Unnamed: 0  \\\n",
       "0               0           0   \n",
       "1               1           1   \n",
       "2               2           2   \n",
       "3               3           3   \n",
       "4               4           4   \n",
       "..            ...         ...   \n",
       "727           728         732   \n",
       "728           729         733   \n",
       "729           730         734   \n",
       "730           731         735   \n",
       "731           732         736   \n",
       "\n",
       "                                                  Text    Sentiment  \\\n",
       "0     Enjoying a beautiful day at the park!        ...   Positive     \n",
       "1     Traffic was terrible this morning.           ...   Negative     \n",
       "2     Just finished an amazing workout! 💪          ...   Positive     \n",
       "3     Excited about the upcoming weekend getaway!  ...   Positive     \n",
       "4     Trying out a new recipe for dinner tonight.  ...   Neutral      \n",
       "..                                                 ...          ...   \n",
       "727  Collaborating on a science project that receiv...       Happy    \n",
       "728  Attending a surprise birthday party organized ...       Happy    \n",
       "729  Successfully fundraising for a school charity ...       Happy    \n",
       "730  Participating in a multicultural festival, cel...       Happy    \n",
       "731  Organizing a virtual talent show during challe...       Happy    \n",
       "\n",
       "              Timestamp                                   User     Platform  \\\n",
       "0   2023-01-15 12:30:00                          User123          Twitter     \n",
       "1   2023-01-15 08:45:00                          CommuterX        Twitter     \n",
       "2   2023-01-15 15:45:00                          FitnessFan      Instagram    \n",
       "3   2023-01-15 18:20:00                          AdventureX       Facebook    \n",
       "4   2023-01-15 19:55:00                          ChefCook        Instagram    \n",
       "..                  ...                                    ...          ...   \n",
       "727 2017-08-18 18:20:00       ScienceProjectSuccessHighSchool     Facebook    \n",
       "728 2018-06-22 14:15:00            BirthdayPartyJoyHighSchool    Instagram    \n",
       "729 2019-04-05 17:30:00   CharityFundraisingTriumphHighSchool      Twitter    \n",
       "730 2020-02-29 20:45:00    MulticulturalFestivalJoyHighSchool     Facebook    \n",
       "731 2020-11-15 15:15:00    VirtualTalentShowSuccessHighSchool    Instagram    \n",
       "\n",
       "                                          Hashtags  Retweets  Likes  \\\n",
       "0        #Nature #Park                                  15.0   30.0   \n",
       "1        #Traffic #Morning                               5.0   10.0   \n",
       "2        #Fitness #Workout                              20.0   40.0   \n",
       "3        #Travel #Adventure                              8.0   15.0   \n",
       "4        #Cooking #Food                                 12.0   25.0   \n",
       "..                                             ...       ...    ...   \n",
       "727         #ScienceFairWinner #HighSchoolScience       20.0   39.0   \n",
       "728    #SurpriseCelebration #HighSchoolFriendship       25.0   48.0   \n",
       "729      #CommunityGiving #HighSchoolPhilanthropy       22.0   42.0   \n",
       "730         #CulturalCelebration #HighSchoolUnity       21.0   43.0   \n",
       "731   #VirtualEntertainment #HighSchoolPositivity       24.0   47.0   \n",
       "\n",
       "          Country  Year  Month  Day  Hour  Is_Sport  \n",
       "0       USA        2023      1   15    12     False  \n",
       "1       Canada     2023      1   15     8     False  \n",
       "2     USA          2023      1   15    15      True  \n",
       "3       UK         2023      1   15    18     False  \n",
       "4      Australia   2023      1   15    19     False  \n",
       "..            ...   ...    ...  ...   ...       ...  \n",
       "727            UK  2017      8   18    18     False  \n",
       "728           USA  2018      6   22    14     False  \n",
       "729        Canada  2019      4    5    17     False  \n",
       "730            UK  2020      2   29    20     False  \n",
       "731           USA  2020     11   15    15     False  \n",
       "\n",
       "[732 rows x 16 columns]"
      ]
     },
     "execution_count": 40,
     "metadata": {},
     "output_type": "execute_result"
    }
   ],
   "source": [
    "df"
   ]
  },
  {
   "cell_type": "markdown",
   "metadata": {},
   "source": [
    "on converti la datatime "
   ]
  },
  {
   "cell_type": "code",
   "execution_count": 41,
   "metadata": {},
   "outputs": [],
   "source": [
    "df_ronaldo[\"Timestamp\"] = pd.to_datetime(df_ronaldo[\"Timestamp\"], errors=\"coerce\")\n",
    "df_messi[\"Timestamp\"] = pd.to_datetime(df_messi[\"Timestamp\"], errors=\"coerce\")\n"
   ]
  },
  {
   "cell_type": "code",
   "execution_count": 42,
   "metadata": {},
   "outputs": [
    {
     "name": "stdout",
     "output_type": "stream",
     "text": [
      "Colonnes Ronaldo: Index(['tweet_id', 'author_id', 'content', 'lang', 'Timestamp', 'source',\n",
      "       'geo', 'retweet_count', 'like_count', 'quote_count'],\n",
      "      dtype='object')\n",
      "Colonnes Messi: Index(['tweet_id', 'author_id', 'content', 'lang', 'Timestamp', 'source',\n",
      "       'geo', 'retweet_count', 'like_count', 'quote_count'],\n",
      "      dtype='object')\n"
     ]
    }
   ],
   "source": [
    "print(\"Colonnes Ronaldo:\", df_ronaldo.columns)\n",
    "print(\"Colonnes Messi:\", df_messi.columns)\n"
   ]
  },
  {
   "cell_type": "markdown",
   "metadata": {},
   "source": [
    "Nous ajoutons une colone \"player\" pour différencier les tweet entre Ronaldo et Messi. Puis concaténatiion des deux data set (Messi et ronaldo) en une seule.  !!!! Sachant que les deux ont des colones identiques"
   ]
  },
  {
   "cell_type": "code",
   "execution_count": 44,
   "metadata": {},
   "outputs": [
    {
     "name": "stdout",
     "output_type": "stream",
     "text": [
      "              tweet_id            author_id  \\\n",
      "0  1554369938630103040  1413800950846922757   \n",
      "1  1554369912428167170  1331632873338793986   \n",
      "2  1554369829414502400  1193232041959186434   \n",
      "3  1554369821432840192   727241246465527809   \n",
      "4  1554369806714867712  1324146514495741952   \n",
      "\n",
      "                                             content lang  \\\n",
      "0  we fell down to with ronaldo and no big team w...   en   \n",
      "1  man utd transfer news live frenkie de jong fin...   en   \n",
      "2  r and ronaldinho make me smile when i saw than...   en   \n",
      "3  ronaldo was in the best champions league team ...   en   \n",
      "4  from cristiano ronaldo s point of view it is a...   en   \n",
      "\n",
      "                  Timestamp               source geo  retweet_count  \\\n",
      "0 2022-08-02 07:34:06+00:00  Twitter for Android  -1            0.0   \n",
      "1 2022-08-02 07:34:00+00:00            Publer.io  -1            0.0   \n",
      "2 2022-08-02 07:33:40+00:00   Twitter for iPhone  -1            0.0   \n",
      "3 2022-08-02 07:33:38+00:00  Twitter for Android  -1            0.0   \n",
      "4 2022-08-02 07:33:35+00:00        WordPress.com  -1            0.0   \n",
      "\n",
      "   like_count  quote_count   player  \n",
      "0         0.0          0.0  Ronaldo  \n",
      "1         0.0          0.0  Ronaldo  \n",
      "2         0.0          0.0  Ronaldo  \n",
      "3         0.0          0.0  Ronaldo  \n",
      "4         0.0          0.0  Ronaldo  \n",
      "Nombre total de tweets combinés : 967127\n"
     ]
    }
   ],
   "source": [
    "import pandas as pd\n",
    "\n",
    "# Ajouter une colonne 'player' pour différencier les tweets\n",
    "df_ronaldo[\"player\"] = \"Ronaldo\"\n",
    "df_messi[\"player\"] = \"Messi\"\n",
    "\n",
    "# Concaténer les deux datasets en gardant toutes les colonnes\n",
    "df_combined = pd.concat([df_ronaldo, df_messi], ignore_index=True)\n",
    "\n",
    "# Afficher un aperçu du dataset fusionné\n",
    "print(df_combined.head())\n",
    "print(\"Nombre total de tweets combinés :\", len(df_combined))\n"
   ]
  },
  {
   "cell_type": "code",
   "execution_count": 45,
   "metadata": {},
   "outputs": [
    {
     "name": "stdout",
     "output_type": "stream",
     "text": [
      "Colonnes du dataset combiné : Index(['tweet_id', 'author_id', 'content', 'lang', 'Timestamp', 'source',\n",
      "       'geo', 'retweet_count', 'like_count', 'quote_count', 'player'],\n",
      "      dtype='object')\n"
     ]
    }
   ],
   "source": [
    "print(\"Colonnes du dataset combiné :\", df_combined.columns)\n"
   ]
  },
  {
   "cell_type": "markdown",
   "metadata": {},
   "source": [
    "Préprocessing de la nouvelle dataframe combinée \"df_combine\"\n"
   ]
  },
  {
   "cell_type": "code",
   "execution_count": 48,
   "metadata": {},
   "outputs": [],
   "source": [
    "# Suppression des doublons\n",
    "df_combined = df_combined.drop_duplicates()\n"
   ]
  },
  {
   "cell_type": "code",
   "execution_count": 49,
   "metadata": {},
   "outputs": [
    {
     "name": "stdout",
     "output_type": "stream",
     "text": [
      "Valeurs manquantes après fusion :\n",
      "tweet_id         0\n",
      "author_id        0\n",
      "content          0\n",
      "lang             0\n",
      "Timestamp        0\n",
      "source           0\n",
      "geo              0\n",
      "retweet_count    0\n",
      "like_count       0\n",
      "quote_count      0\n",
      "player           0\n",
      "dtype: int64\n"
     ]
    }
   ],
   "source": [
    "print(\"Valeurs manquantes après fusion :\")\n",
    "print(df_combined.isnull().sum())\n"
   ]
  },
  {
   "cell_type": "code",
   "execution_count": 50,
   "metadata": {},
   "outputs": [],
   "source": [
    "df_combined.dropna(inplace=True)\n"
   ]
  },
  {
   "cell_type": "code",
   "execution_count": 51,
   "metadata": {},
   "outputs": [
    {
     "name": "stdout",
     "output_type": "stream",
     "text": [
      "['we fell down to with ronaldo and no big team who wins trophies want him yet you want him at to be our main striker then next year you ll complain about us not winning trophies can t make this shit up'\n",
      " 'man utd transfer news live frenkie de jong final bid latest cristiano ronaldo admission tielemans interested'\n",
      " 'r and ronaldinho make me smile when i saw than on the field stats of course cr but loving football r and ronaldinho'\n",
      " ... 'you have to be an injured man to enjoy leo messi s downfall'\n",
      " 'becoz messi play with mbappe neymar verrati and dimaria that too in farmers league and ronaldo plays with fred and maguire in world most competitive league'\n",
      " 'yes we can never see a player going from a goat debate out of it in just one season goal in messi is and downfall happened cr is amp still a machine ultimate goat']\n"
     ]
    }
   ],
   "source": [
    "print(df_combined[\"content\"].unique())  # Vérifie si \"content\" contient des sentiments\n"
   ]
  },
  {
   "cell_type": "code",
   "execution_count": 52,
   "metadata": {},
   "outputs": [
    {
     "name": "stdout",
     "output_type": "stream",
     "text": [
      "['we fell down to with ronaldo and no big team who wins trophies want him yet you want him at to be our main striker then next year you ll complain about us not winning trophies can t make this shit up'\n",
      " 'man utd transfer news live frenkie de jong final bid latest cristiano ronaldo admission tielemans interested'\n",
      " 'r and ronaldinho make me smile when i saw than on the field stats of course cr but loving football r and ronaldinho'\n",
      " ... 'you have to be an injured man to enjoy leo messi s downfall'\n",
      " 'becoz messi play with mbappe neymar verrati and dimaria that too in farmers league and ronaldo plays with fred and maguire in world most competitive league'\n",
      " 'yes we can never see a player going from a goat debate out of it in just one season goal in messi is and downfall happened cr is amp still a machine ultimate goat']\n"
     ]
    }
   ],
   "source": [
    "# Dictionnaire de mapping des sentiments détaillés vers trois catégories principales\n",
    "sentiment_mapping = {\n",
    "    \"Happy\": \"Positive\", \"Excited\": \"Positive\", \"Joy\": \"Positive\", \"Pride\": \"Positive\",\n",
    "    \"Love\": \"Positive\", \"Inspiration\": \"Positive\", \"Motivation\": \"Positive\",\n",
    "    \n",
    "    \"Anger\": \"Negative\", \"Frustration\": \"Negative\", \"Disappointment\": \"Negative\",\n",
    "    \"Hate\": \"Negative\", \"Criticism\": \"Negative\",\n",
    "    \n",
    "    \"Neutral\": \"Neutral\", \"Uncertain\": \"Neutral\"\n",
    "}\n",
    "\n",
    "# Appliquer le mapping aux tweets\n",
    "df_combined[\"Sentiment\"] = df_combined[\"content\"].replace(sentiment_mapping)\n",
    "\n",
    "# Vérifier les nouvelles valeurs après mapping\n",
    "print(df_combined[\"Sentiment\"].unique())\n"
   ]
  },
  {
   "cell_type": "markdown",
   "metadata": {},
   "source": [
    "nous avions tenté de coder(charger) les 900 000 tweets et malheureusement chargement trop long alors nous decideons d'echantilloner ."
   ]
  },
  {
   "cell_type": "code",
   "execution_count": 53,
   "metadata": {},
   "outputs": [
    {
     "name": "stdout",
     "output_type": "stream",
     "text": [
      "Taille du dataset après échantillonnage : 1000\n"
     ]
    }
   ],
   "source": [
    "# On Défini une taille de l'échantillon \n",
    "sample_size = 1000\n",
    "\n",
    "# On Vérifie si le dataset contient au moins ce nombre\n",
    "sample_size = min(sample_size, len(df_combined))\n",
    "\n",
    "# On Sélectionne un échantillon aléatoire\n",
    "df_sample = df_combined.sample(n=sample_size, random_state=42)\n",
    "\n",
    "# On Vérifie la taille du nouvel échantillon\n",
    "print(\"Taille du dataset après échantillonnage :\", len(df_sample))\n"
   ]
  },
  {
   "cell_type": "code",
   "execution_count": 54,
   "metadata": {},
   "outputs": [
    {
     "name": "stdout",
     "output_type": "stream",
     "text": [
      "Nombre de lignes dans df_combined : 967127\n"
     ]
    }
   ],
   "source": [
    "# Vérifier si df_combined existe dans la mémoire\n",
    "try:\n",
    "    print(\"Nombre de lignes dans df_combined :\", len(df_combined))\n",
    "except NameError:\n",
    "    print(\" df_combined n'existe pas encore. Exécutez d'abord la cellule qui fusionne les datasets.\")\n"
   ]
  },
  {
   "cell_type": "code",
   "execution_count": null,
   "metadata": {},
   "outputs": [],
   "source": [
    "import matplotlib.pyplot as plt\n",
    "import seaborn as sns\n",
    "\n",
    "# Compter les sentiments pour chaque joueur\n",
    "sentiment_counts = df_combined.groupby([\"player\", \"Sentiment\"]).size().unstack()\n",
    "\n",
    "# Tracer le graphique\n",
    "plt.figure(figsize=(10, 5))\n",
    "sentiment_counts.plot(kind=\"bar\", stacked=True, figsize=(10, 5), colormap=\"coolwarm\")\n",
    "\n",
    "# Personnalisation\n",
    "plt.title(\"Comparaison des Sentiments entre Ronaldo et Messi\", fontsize=14)\n",
    "plt.xlabel(\"Joueur\", fontsize=12)\n",
    "plt.ylabel(\"Nombre de Tweets\", fontsize=12)\n",
    "plt.xticks(rotation=0)\n",
    "plt.legend(title=\"Sentiment\", fontsize=10)\n",
    "plt.grid(axis=\"y\")\n",
    "\n",
    "plt.show()\n"
   ]
  },
  {
   "cell_type": "code",
   "execution_count": null,
   "metadata": {},
   "outputs": [
    {
     "name": "stdout",
     "output_type": "stream",
     "text": [
      "⚠️ df_combined n'existe pas ! Vous devez exécuter la cellule de fusion des datasets.\n"
     ]
    }
   ],
   "source": [
    "try:\n",
    "    print(\"Nombre de lignes dans df_combined :\", len(df_combined))\n",
    "except NameError:\n",
    "    print(\"⚠️ df_combined n'existe pas ! Vous devez exécuter la cellule de fusion des datasets.\")\n"
   ]
  },
  {
   "cell_type": "code",
   "execution_count": null,
   "metadata": {},
   "outputs": [
    {
     "name": "stdout",
     "output_type": "stream",
     "text": [
      "✅ Dataset fusionné avec succès ! Nombre total de tweets : 967149\n"
     ]
    }
   ],
   "source": [
    "import pandas as pd\n",
    "\n",
    "# RechChargerment des fichiers CSV (s'ils ne sont plus en mémoire)\n",
    "file_ronaldo = \"ronaldo.csv\"\n",
    "file_messi = \"messi.csv\"\n",
    "\n",
    "df_ronaldo = pd.read_csv(file_ronaldo)\n",
    "df_messi = pd.read_csv(file_messi)\n",
    "\n",
    "# Ajout d'une une colonne \"player\" pour différencier les tweets\n",
    "df_ronaldo[\"player\"] = \"Ronaldo\"\n",
    "df_messi[\"player\"] = \"Messi\"\n",
    "\n",
    "# Fusionner les datasets\n",
    "df_combined = pd.concat([df_ronaldo, df_messi], ignore_index=True)\n",
    "\n",
    "# Vérifier si la fusion a fonctionné\n",
    "print(\"✅ Dataset fusionné avec succès ! Nombre total de tweets :\", len(df_combined))\n"
   ]
  },
  {
   "cell_type": "markdown",
   "metadata": {},
   "source": [
    "nous avions des problemes car les dataset n'etaient pas fusionnées\n"
   ]
  },
  {
   "cell_type": "code",
   "execution_count": null,
   "metadata": {},
   "outputs": [
    {
     "data": {
      "text/plain": [
       "<Figure size 1000x500 with 0 Axes>"
      ]
     },
     "metadata": {},
     "output_type": "display_data"
    },
    {
     "data": {
      "image/png": "[encoded data removed]",
      "text/plain": [
       "<Figure size 1000x500 with 1 Axes>"
      ]
     },
     "metadata": {},
     "output_type": "display_data"
    }
   ],
   "source": [
    "# Determination des sentiments en fonction des jours\n",
    "import seaborn as sns\n",
    "import matplotlib.pyplot as plt\n",
    "\n",
    "# Compter les sentiments pour chaque joueur\n",
    "sentiment_counts = df_combined.groupby([\"player\", \"Sentiment\"]).size().unstack()\n",
    "\n",
    "# Tracage du graphique\n",
    "plt.figure(figsize=(10, 5))\n",
    "sentiment_counts.plot(kind=\"bar\", stacked=True, figsize=(10, 5), colormap=\"coolwarm\")\n",
    "\n",
    "# Personnalisation du graphiique\n",
    "plt.title(\"Comparaison des Sentiments entre Ronaldo et Messi\", fontsize=14)\n",
    "plt.xlabel(\"Joueur\", fontsize=12)\n",
    "plt.ylabel(\"Nombre de Tweets\", fontsize=12)\n",
    "plt.xticks(rotation=0)\n",
    "plt.legend(title=\"Sentiment\", fontsize=10)\n",
    "plt.grid(axis=\"y\")\n",
    "\n",
    "plt.show()\n"
   ]
  },
  {
   "cell_type": "markdown",
   "metadata": {},
   "source": []
  },
  {
   "cell_type": "code",
   "execution_count": null,
   "metadata": {},
   "outputs": [
    {
     "name": "stdout",
     "output_type": "stream",
     "text": [
      "Colonnes du dataset : Index(['tweet_id', 'author_id', 'content', 'lang', 'date', 'source', 'geo',\n",
      "       'retweet_count', 'like_count', 'quote_count', 'player'],\n",
      "      dtype='object')\n"
     ]
    }
   ],
   "source": [
    "print(\"Colonnes du dataset :\", df_combined.columns)\n",
    "# La colone \"player\" a bien été rajoutée\n"
   ]
  },
  {
   "cell_type": "markdown",
   "metadata": {},
   "source": [
    "nous installons une methode de NLP qui permet d'analyser les sentiments sur du texte "
   ]
  },
  {
   "cell_type": "code",
   "execution_count": null,
   "metadata": {},
   "outputs": [
    {
     "name": "stdout",
     "output_type": "stream",
     "text": [
      "Collecting textblob\n",
      "  Downloading textblob-0.19.0-py3-none-any.whl.metadata (4.4 kB)\n",
      "Collecting nltk>=3.9 (from textblob)\n",
      "  Downloading nltk-3.9.1-py3-none-any.whl.metadata (2.9 kB)\n",
      "Collecting click (from nltk>=3.9->textblob)\n",
      "  Downloading click-8.1.8-py3-none-any.whl.metadata (2.3 kB)\n",
      "Requirement already satisfied: joblib in c:\\users\\bintu\\appdata\\local\\programs\\python\\python313\\lib\\site-packages (from nltk>=3.9->textblob) (1.4.2)\n",
      "Collecting regex>=2021.8.3 (from nltk>=3.9->textblob)\n",
      "  Downloading regex-2024.11.6-cp313-cp313-win_amd64.whl.metadata (41 kB)\n",
      "Requirement already satisfied: tqdm in c:\\users\\bintu\\appdata\\local\\programs\\python\\python313\\lib\\site-packages (from nltk>=3.9->textblob) (4.67.1)\n",
      "Requirement already satisfied: colorama in c:\\users\\bintu\\appdata\\roaming\\python\\python313\\site-packages (from click->nltk>=3.9->textblob) (0.4.6)\n",
      "Downloading textblob-0.19.0-py3-none-any.whl (624 kB)\n",
      "   ---------------------------------------- 0.0/624.3 kB ? eta -:--:--\n",
      "   ---------------------------------------- 624.3/624.3 kB 9.7 MB/s eta 0:00:00\n",
      "Downloading nltk-3.9.1-py3-none-any.whl (1.5 MB)\n",
      "   ---------------------------------------- 0.0/1.5 MB ? eta -:--:--\n",
      "   ---------------------------------------- 1.5/1.5 MB 10.6 MB/s eta 0:00:00\n",
      "Downloading regex-2024.11.6-cp313-cp313-win_amd64.whl (273 kB)\n",
      "Downloading click-8.1.8-py3-none-any.whl (98 kB)\n",
      "Installing collected packages: regex, click, nltk, textblob\n",
      "Successfully installed click-8.1.8 nltk-3.9.1 regex-2024.11.6 textblob-0.19.0\n"
     ]
    },
    {
     "name": "stderr",
     "output_type": "stream",
     "text": [
      "\n",
      "[notice] A new release of pip is available: 24.3.1 -> 25.0.1\n",
      "[notice] To update, run: python.exe -m pip install --upgrade pip\n"
     ]
    }
   ],
   "source": [
    "!pip install textblob\n"
   ]
  },
  {
   "cell_type": "markdown",
   "metadata": {},
   "source": [
    "on precise les indicateurs de sentiments"
   ]
  },
  {
   "cell_type": "markdown",
   "metadata": {},
   "source": [
    "on precise les indicateurs de sentiments en passant par l'outil textblob qui nous permet grace au nlp d'aller analyser les informations dans les tweets et nous donner 3 categories de sentiments:\n",
    "positif\n",
    "negatif\n",
    "neutre\n"
   ]
  },
  {
   "cell_type": "code",
   "execution_count": null,
   "metadata": {},
   "outputs": [
    {
     "name": "stdout",
     "output_type": "stream",
     "text": [
      "Colonnes après ajout du sentiment : Index(['tweet_id', 'author_id', 'content', 'lang', 'date', 'source', 'geo',\n",
      "       'retweet_count', 'like_count', 'quote_count', 'player', 'Sentiment'],\n",
      "      dtype='object')\n",
      "                                             content Sentiment\n",
      "0  we fell down to with ronaldo and no big team w...  Negative\n",
      "1  man utd transfer news live frenkie de jong fin...  Positive\n",
      "2  r and ronaldinho make me smile when i saw than...  Positive\n",
      "3  ronaldo was in the best champions league team ...  Positive\n",
      "4  from cristiano ronaldo s point of view it is a...  Negative\n"
     ]
    }
   ],
   "source": [
    "from textblob import TextBlob\n",
    "\n",
    "# Fonction pour analyser le sentiment d'un tweet\n",
    "def get_sentiment(text):\n",
    "    analysis = TextBlob(str(text))  # Convertir en string pour éviter les erreurs avec NaN\n",
    "    if analysis.sentiment.polarity > 0:\n",
    "        return \"Positive\"\n",
    "    elif analysis.sentiment.polarity < 0:\n",
    "        return \"Negative\"\n",
    "    else:\n",
    "        return \"Neutral\"\n",
    "\n",
    "# Appliquer l'analyse de sentiment sur les tweets\n",
    "df_combined[\"Sentiment\"] = df_combined[\"content\"].apply(get_sentiment)\n",
    "\n",
    "# Vérifier si la colonne est bien créée\n",
    "print(\"Colonnes après ajout du sentiment :\", df_combined.columns)\n",
    "print(df_combined[[\"content\", \"Sentiment\"]].head())  # Voir quelques résultats\n"
   ]
  },
  {
   "cell_type": "code",
   "execution_count": null,
   "metadata": {},
   "outputs": [
    {
     "name": "stdout",
     "output_type": "stream",
     "text": [
      "Sentiment\n",
      "Positive    437766\n",
      "Neutral     375911\n",
      "Negative    153472\n",
      "Name: count, dtype: int64\n"
     ]
    }
   ],
   "source": [
    "print(df_combined[\"Sentiment\"].value_counts())\n"
   ]
  },
  {
   "cell_type": "code",
   "execution_count": null,
   "metadata": {},
   "outputs": [
    {
     "ename": "NameError",
     "evalue": "name 'df_combined' is not defined",
     "output_type": "error",
     "traceback": [
      "\u001b[1;31m---------------------------------------------------------------------------\u001b[0m",
      "\u001b[1;31mNameError\u001b[0m                                 Traceback (most recent call last)",
      "Cell \u001b[1;32mIn[27], line 5\u001b[0m\n\u001b[0;32m      2\u001b[0m \u001b[38;5;28;01mimport\u001b[39;00m\u001b[38;5;250m \u001b[39m\u001b[38;5;21;01mmatplotlib\u001b[39;00m\u001b[38;5;21;01m.\u001b[39;00m\u001b[38;5;21;01mpyplot\u001b[39;00m\u001b[38;5;250m \u001b[39m\u001b[38;5;28;01mas\u001b[39;00m\u001b[38;5;250m \u001b[39m\u001b[38;5;21;01mplt\u001b[39;00m\n\u001b[0;32m      4\u001b[0m \u001b[38;5;66;03m# Compter les sentiments pour chaque joueur\u001b[39;00m\n\u001b[1;32m----> 5\u001b[0m sentiment_counts \u001b[38;5;241m=\u001b[39m \u001b[43mdf_combined\u001b[49m\u001b[38;5;241m.\u001b[39mgroupby([\u001b[38;5;124m\"\u001b[39m\u001b[38;5;124mplayer\u001b[39m\u001b[38;5;124m\"\u001b[39m, \u001b[38;5;124m\"\u001b[39m\u001b[38;5;124mSentiment\u001b[39m\u001b[38;5;124m\"\u001b[39m])\u001b[38;5;241m.\u001b[39msize()\u001b[38;5;241m.\u001b[39munstack()\n\u001b[0;32m      7\u001b[0m \u001b[38;5;66;03m# Tracer le graphique\u001b[39;00m\n\u001b[0;32m      8\u001b[0m plt\u001b[38;5;241m.\u001b[39mfigure(figsize\u001b[38;5;241m=\u001b[39m(\u001b[38;5;241m10\u001b[39m, \u001b[38;5;241m5\u001b[39m))\n",
      "\u001b[1;31mNameError\u001b[0m: name 'df_combined' is not defined"
     ]
    }
   ],
   "source": [
    "import seaborn as sns\n",
    "import matplotlib.pyplot as plt\n",
    "\n",
    "# Compter les sentiments pour chaque joueur\n",
    "sentiment_counts = df_combined.groupby([\"player\", \"Sentiment\"]).size().unstack()\n",
    "\n",
    "# Tracer le graphique\n",
    "plt.figure(figsize=(10, 5))\n",
    "sentiment_counts.plot(kind=\"bar\", stacked=True, figsize=(10, 5), colormap=\"coolwarm\")\n",
    "\n",
    "# Personnalisation\n",
    "plt.title(\"Comparaison des Sentiments entre Ronaldo et Messi\", fontsize=14)\n",
    "plt.xlabel(\"Joueur\", fontsize=12)\n",
    "plt.ylabel(\"Nombre de Tweets\", fontsize=12)\n",
    "plt.xticks(rotation=0)\n",
    "plt.legend(title=\"Sentiment\", fontsize=10)\n",
    "plt.grid(axis=\"y\")\n",
    "\n",
    "plt.show()\n"
   ]
  },
  {
   "cell_type": "code",
   "execution_count": null,
   "metadata": {},
   "outputs": [
    {
     "ename": "KeyError",
     "evalue": "'Timestamp'",
     "output_type": "error",
     "traceback": [
      "\u001b[0;31m---------------------------------------------------------------------------\u001b[0m",
      "\u001b[0;31mKeyError\u001b[0m                                  Traceback (most recent call last)",
      "File \u001b[0;32m~/.pyenv/versions/3.8.10/lib/python3.8/site-packages/pandas/core/indexes/base.py:3653\u001b[0m, in \u001b[0;36mIndex.get_loc\u001b[0;34m(self, key)\u001b[0m\n\u001b[1;32m   3652\u001b[0m \u001b[38;5;28;01mtry\u001b[39;00m:\n\u001b[0;32m-> 3653\u001b[0m     \u001b[38;5;28;01mreturn\u001b[39;00m \u001b[38;5;28;43mself\u001b[39;49m\u001b[38;5;241;43m.\u001b[39;49m\u001b[43m_engine\u001b[49m\u001b[38;5;241;43m.\u001b[39;49m\u001b[43mget_loc\u001b[49m\u001b[43m(\u001b[49m\u001b[43mcasted_key\u001b[49m\u001b[43m)\u001b[49m\n\u001b[1;32m   3654\u001b[0m \u001b[38;5;28;01mexcept\u001b[39;00m \u001b[38;5;167;01mKeyError\u001b[39;00m \u001b[38;5;28;01mas\u001b[39;00m err:\n",
      "File \u001b[0;32m~/.pyenv/versions/3.8.10/lib/python3.8/site-packages/pandas/_libs/index.pyx:147\u001b[0m, in \u001b[0;36mpandas._libs.index.IndexEngine.get_loc\u001b[0;34m()\u001b[0m\n",
      "File \u001b[0;32m~/.pyenv/versions/3.8.10/lib/python3.8/site-packages/pandas/_libs/index.pyx:176\u001b[0m, in \u001b[0;36mpandas._libs.index.IndexEngine.get_loc\u001b[0;34m()\u001b[0m\n",
      "File \u001b[0;32mpandas/_libs/hashtable_class_helper.pxi:7080\u001b[0m, in \u001b[0;36mpandas._libs.hashtable.PyObjectHashTable.get_item\u001b[0;34m()\u001b[0m\n",
      "File \u001b[0;32mpandas/_libs/hashtable_class_helper.pxi:7088\u001b[0m, in \u001b[0;36mpandas._libs.hashtable.PyObjectHashTable.get_item\u001b[0;34m()\u001b[0m\n",
      "\u001b[0;31mKeyError\u001b[0m: 'Timestamp'",
      "\nThe above exception was the direct cause of the following exception:\n",
      "\u001b[0;31mKeyError\u001b[0m                                  Traceback (most recent call last)",
      "Cell \u001b[0;32mIn[39], line 2\u001b[0m\n\u001b[1;32m      1\u001b[0m \u001b[38;5;66;03m# Vérifier et convertir la colonne Timestamp si nécessaire\u001b[39;00m\n\u001b[0;32m----> 2\u001b[0m df_combined[\u001b[38;5;124m\"\u001b[39m\u001b[38;5;124mTimestamp\u001b[39m\u001b[38;5;124m\"\u001b[39m] \u001b[38;5;241m=\u001b[39m pd\u001b[38;5;241m.\u001b[39mto_datetime(\u001b[43mdf_combined\u001b[49m\u001b[43m[\u001b[49m\u001b[38;5;124;43m\"\u001b[39;49m\u001b[38;5;124;43mTimestamp\u001b[39;49m\u001b[38;5;124;43m\"\u001b[39;49m\u001b[43m]\u001b[49m, errors\u001b[38;5;241m=\u001b[39m\u001b[38;5;124m\"\u001b[39m\u001b[38;5;124mcoerce\u001b[39m\u001b[38;5;124m\"\u001b[39m)\n\u001b[1;32m      4\u001b[0m \u001b[38;5;66;03m# Vérifier l'affichage des dates\u001b[39;00m\n\u001b[1;32m      5\u001b[0m \u001b[38;5;28mprint\u001b[39m(df_combined[[\u001b[38;5;124m\"\u001b[39m\u001b[38;5;124mTimestamp\u001b[39m\u001b[38;5;124m\"\u001b[39m, \u001b[38;5;124m\"\u001b[39m\u001b[38;5;124mSentiment\u001b[39m\u001b[38;5;124m\"\u001b[39m]]\u001b[38;5;241m.\u001b[39mhead())\n",
      "File \u001b[0;32m~/.pyenv/versions/3.8.10/lib/python3.8/site-packages/pandas/core/frame.py:3761\u001b[0m, in \u001b[0;36mDataFrame.__getitem__\u001b[0;34m(self, key)\u001b[0m\n\u001b[1;32m   3759\u001b[0m \u001b[38;5;28;01mif\u001b[39;00m \u001b[38;5;28mself\u001b[39m\u001b[38;5;241m.\u001b[39mcolumns\u001b[38;5;241m.\u001b[39mnlevels \u001b[38;5;241m>\u001b[39m \u001b[38;5;241m1\u001b[39m:\n\u001b[1;32m   3760\u001b[0m     \u001b[38;5;28;01mreturn\u001b[39;00m \u001b[38;5;28mself\u001b[39m\u001b[38;5;241m.\u001b[39m_getitem_multilevel(key)\n\u001b[0;32m-> 3761\u001b[0m indexer \u001b[38;5;241m=\u001b[39m \u001b[38;5;28;43mself\u001b[39;49m\u001b[38;5;241;43m.\u001b[39;49m\u001b[43mcolumns\u001b[49m\u001b[38;5;241;43m.\u001b[39;49m\u001b[43mget_loc\u001b[49m\u001b[43m(\u001b[49m\u001b[43mkey\u001b[49m\u001b[43m)\u001b[49m\n\u001b[1;32m   3762\u001b[0m \u001b[38;5;28;01mif\u001b[39;00m is_integer(indexer):\n\u001b[1;32m   3763\u001b[0m     indexer \u001b[38;5;241m=\u001b[39m [indexer]\n",
      "File \u001b[0;32m~/.pyenv/versions/3.8.10/lib/python3.8/site-packages/pandas/core/indexes/base.py:3655\u001b[0m, in \u001b[0;36mIndex.get_loc\u001b[0;34m(self, key)\u001b[0m\n\u001b[1;32m   3653\u001b[0m     \u001b[38;5;28;01mreturn\u001b[39;00m \u001b[38;5;28mself\u001b[39m\u001b[38;5;241m.\u001b[39m_engine\u001b[38;5;241m.\u001b[39mget_loc(casted_key)\n\u001b[1;32m   3654\u001b[0m \u001b[38;5;28;01mexcept\u001b[39;00m \u001b[38;5;167;01mKeyError\u001b[39;00m \u001b[38;5;28;01mas\u001b[39;00m err:\n\u001b[0;32m-> 3655\u001b[0m     \u001b[38;5;28;01mraise\u001b[39;00m \u001b[38;5;167;01mKeyError\u001b[39;00m(key) \u001b[38;5;28;01mfrom\u001b[39;00m\u001b[38;5;250m \u001b[39m\u001b[38;5;21;01merr\u001b[39;00m\n\u001b[1;32m   3656\u001b[0m \u001b[38;5;28;01mexcept\u001b[39;00m \u001b[38;5;167;01mTypeError\u001b[39;00m:\n\u001b[1;32m   3657\u001b[0m     \u001b[38;5;66;03m# If we have a listlike key, _check_indexing_error will raise\u001b[39;00m\n\u001b[1;32m   3658\u001b[0m     \u001b[38;5;66;03m#  InvalidIndexError. Otherwise we fall through and re-raise\u001b[39;00m\n\u001b[1;32m   3659\u001b[0m     \u001b[38;5;66;03m#  the TypeError.\u001b[39;00m\n\u001b[1;32m   3660\u001b[0m     \u001b[38;5;28mself\u001b[39m\u001b[38;5;241m.\u001b[39m_check_indexing_error(key)\n",
      "\u001b[0;31mKeyError\u001b[0m: 'Timestamp'"
     ]
    }
   ],
   "source": [
    "# Vérifier et convertir la colonne Timestamp si nécessaire\n",
    "df_combined[\"Timestamp\"] = pd.to_datetime(df_combined[\"Timestamp\"], errors=\"coerce\")\n",
    "\n",
    "# Vérifier l'affichage des dates\n",
    "print(df_combined[[\"Timestamp\", \"Sentiment\"]].head())\n"
   ]
  },
  {
   "cell_type": "code",
   "execution_count": null,
   "metadata": {},
   "outputs": [
    {
     "name": "stdout",
     "output_type": "stream",
     "text": [
      "Colonnes disponibles : Index(['tweet_id', 'author_id', 'content', 'lang', 'date', 'source', 'geo',\n",
      "       'retweet_count', 'like_count', 'quote_count', 'player', 'Sentiment'],\n",
      "      dtype='object')\n"
     ]
    }
   ],
   "source": [
    "print(\"Colonnes disponibles :\", df_combined.columns)\n"
   ]
  },
  {
   "cell_type": "markdown",
   "metadata": {},
   "source": [
    "on renomme notre colonne date en timestamp pour analyser les sentiments au fil du temps "
   ]
  },
  {
   "cell_type": "code",
   "execution_count": null,
   "metadata": {},
   "outputs": [
    {
     "ename": "NameError",
     "evalue": "name 'df_combined' is not defined",
     "output_type": "error",
     "traceback": [
      "\u001b[1;31m---------------------------------------------------------------------------\u001b[0m",
      "\u001b[1;31mNameError\u001b[0m                                 Traceback (most recent call last)",
      "Cell \u001b[1;32mIn[23], line 1\u001b[0m\n\u001b[1;32m----> 1\u001b[0m \u001b[43mdf_combined\u001b[49m\u001b[38;5;241m.\u001b[39mrename(columns\u001b[38;5;241m=\u001b[39m{\u001b[38;5;124m\"\u001b[39m\u001b[38;5;124mdate\u001b[39m\u001b[38;5;124m\"\u001b[39m: \u001b[38;5;124m\"\u001b[39m\u001b[38;5;124mTimestamp\u001b[39m\u001b[38;5;124m\"\u001b[39m, \u001b[38;5;124m\"\u001b[39m\u001b[38;5;124mcreated_at\u001b[39m\u001b[38;5;124m\"\u001b[39m: \u001b[38;5;124m\"\u001b[39m\u001b[38;5;124mTimestamp\u001b[39m\u001b[38;5;124m\"\u001b[39m}, inplace\u001b[38;5;241m=\u001b[39m\u001b[38;5;28;01mTrue\u001b[39;00m)\n\u001b[0;32m      3\u001b[0m \u001b[38;5;66;03m# Vérifier le changement\u001b[39;00m\n\u001b[0;32m      4\u001b[0m \u001b[38;5;28mprint\u001b[39m(\u001b[38;5;124m\"\u001b[39m\u001b[38;5;124mColonnes après renommage :\u001b[39m\u001b[38;5;124m\"\u001b[39m, df_combined\u001b[38;5;241m.\u001b[39mcolumns)\n",
      "\u001b[1;31mNameError\u001b[0m: name 'df_combined' is not defined"
     ]
    }
   ],
   "source": [
    "df_combined.rename(columns={\"date\": \"Timestamp\", \"created_at\": \"Timestamp\"}, inplace=True)\n",
    "\n",
    "# Vérifier le changement\n",
    "print(\"Colonnes après renommage :\", df_combined.columns)\n"
   ]
  },
  {
   "cell_type": "markdown",
   "metadata": {},
   "source": [
    "on converti timestamp au format date time"
   ]
  },
  {
   "cell_type": "code",
   "execution_count": null,
   "metadata": {},
   "outputs": [
    {
     "ename": "NameError",
     "evalue": "name 'df_combined' is not defined",
     "output_type": "error",
     "traceback": [
      "\u001b[1;31m---------------------------------------------------------------------------\u001b[0m",
      "\u001b[1;31mNameError\u001b[0m                                 Traceback (most recent call last)",
      "Cell \u001b[1;32mIn[22], line 1\u001b[0m\n\u001b[1;32m----> 1\u001b[0m df_combined[\u001b[38;5;124m\"\u001b[39m\u001b[38;5;124mTimestamp\u001b[39m\u001b[38;5;124m\"\u001b[39m] \u001b[38;5;241m=\u001b[39m pd\u001b[38;5;241m.\u001b[39mto_datetime(\u001b[43mdf_combined\u001b[49m[\u001b[38;5;124m\"\u001b[39m\u001b[38;5;124mTimestamp\u001b[39m\u001b[38;5;124m\"\u001b[39m], errors\u001b[38;5;241m=\u001b[39m\u001b[38;5;124m\"\u001b[39m\u001b[38;5;124mcoerce\u001b[39m\u001b[38;5;124m\"\u001b[39m)\n\u001b[0;32m      3\u001b[0m \u001b[38;5;66;03m# Vérifier si la conversion a fonctionné\u001b[39;00m\n\u001b[0;32m      4\u001b[0m \u001b[38;5;28mprint\u001b[39m(df_combined[[\u001b[38;5;124m\"\u001b[39m\u001b[38;5;124mTimestamp\u001b[39m\u001b[38;5;124m\"\u001b[39m, \u001b[38;5;124m\"\u001b[39m\u001b[38;5;124mSentiment\u001b[39m\u001b[38;5;124m\"\u001b[39m]]\u001b[38;5;241m.\u001b[39mhead())\n",
      "\u001b[1;31mNameError\u001b[0m: name 'df_combined' is not defined"
     ]
    }
   ],
   "source": [
    "df_combined[\"Timestamp\"] = pd.to_datetime(df_combined[\"Timestamp\"], errors=\"coerce\")\n",
    "\n",
    "# Vérifier si la conversion a fonctionné\n",
    "print(df_combined[[\"Timestamp\", \"Sentiment\"]].head())\n"
   ]
  },
  {
   "cell_type": "markdown",
   "metadata": {},
   "source": [
    "on relance l'analyse en ajoutant le parametre au fil du temps"
   ]
  },
  {
   "cell_type": "code",
   "execution_count": null,
   "metadata": {},
   "outputs": [
    {
     "ename": "NameError",
     "evalue": "name 'df_combined' is not defined",
     "output_type": "error",
     "traceback": [
      "\u001b[1;31m---------------------------------------------------------------------------\u001b[0m",
      "\u001b[1;31mNameError\u001b[0m                                 Traceback (most recent call last)",
      "Cell \u001b[1;32mIn[21], line 4\u001b[0m\n\u001b[0;32m      1\u001b[0m \u001b[38;5;28;01mimport\u001b[39;00m\u001b[38;5;250m \u001b[39m\u001b[38;5;21;01mmatplotlib\u001b[39;00m\u001b[38;5;21;01m.\u001b[39;00m\u001b[38;5;21;01mpyplot\u001b[39;00m\u001b[38;5;250m \u001b[39m\u001b[38;5;28;01mas\u001b[39;00m\u001b[38;5;250m \u001b[39m\u001b[38;5;21;01mplt\u001b[39;00m\n\u001b[0;32m      3\u001b[0m \u001b[38;5;66;03m# Grouper les tweets par date et sentiment\u001b[39;00m\n\u001b[1;32m----> 4\u001b[0m trend_sentiments \u001b[38;5;241m=\u001b[39m \u001b[43mdf_combined\u001b[49m\u001b[38;5;241m.\u001b[39mgroupby([df_combined[\u001b[38;5;124m\"\u001b[39m\u001b[38;5;124mTimestamp\u001b[39m\u001b[38;5;124m\"\u001b[39m]\u001b[38;5;241m.\u001b[39mdt\u001b[38;5;241m.\u001b[39mdate, \u001b[38;5;124m\"\u001b[39m\u001b[38;5;124mplayer\u001b[39m\u001b[38;5;124m\"\u001b[39m, \u001b[38;5;124m\"\u001b[39m\u001b[38;5;124mSentiment\u001b[39m\u001b[38;5;124m\"\u001b[39m])\u001b[38;5;241m.\u001b[39msize()\u001b[38;5;241m.\u001b[39munstack()\n\u001b[0;32m      6\u001b[0m \u001b[38;5;66;03m# Tracer le graphique\u001b[39;00m\n\u001b[0;32m      7\u001b[0m plt\u001b[38;5;241m.\u001b[39mfigure(figsize\u001b[38;5;241m=\u001b[39m(\u001b[38;5;241m12\u001b[39m, \u001b[38;5;241m6\u001b[39m))\n",
      "\u001b[1;31mNameError\u001b[0m: name 'df_combined' is not defined"
     ]
    }
   ],
   "source": [
    "import matplotlib.pyplot as plt\n",
    "\n",
    "# Grouper les tweets par date et sentiment\n",
    "trend_sentiments = df_combined.groupby([df_combined[\"Timestamp\"].dt.date, \"player\", \"Sentiment\"]).size().unstack()\n",
    "\n",
    "# Tracer le graphique\n",
    "plt.figure(figsize=(12, 6))\n",
    "trend_sentiments.plot(kind=\"line\", marker=\"o\", linestyle=\"-\", figsize=(12, 6))\n",
    "\n",
    "# Personnalisation\n",
    "plt.title(\"Évolution des Sentiments sur Ronaldo et Messi au Fil du Temps\", fontsize=14)\n",
    "plt.xlabel(\"Date\", fontsize=12)\n",
    "plt.ylabel(\"Nombre de Tweets\", fontsize=12)\n",
    "plt.legend(title=\"Sentiment\", fontsize=10)\n",
    "plt.grid(True)\n",
    "\n",
    "plt.show()\n"
   ]
  },
  {
   "cell_type": "code",
   "execution_count": null,
   "metadata": {},
   "outputs": [
    {
     "ename": "NameError",
     "evalue": "name 'df_combined' is not defined",
     "output_type": "error",
     "traceback": [
      "\u001b[1;31m---------------------------------------------------------------------------\u001b[0m",
      "\u001b[1;31mNameError\u001b[0m                                 Traceback (most recent call last)",
      "Cell \u001b[1;32mIn[19], line 4\u001b[0m\n\u001b[0;32m      1\u001b[0m \u001b[38;5;28;01mimport\u001b[39;00m\u001b[38;5;250m \u001b[39m\u001b[38;5;21;01mmatplotlib\u001b[39;00m\u001b[38;5;21;01m.\u001b[39;00m\u001b[38;5;21;01mpyplot\u001b[39;00m\u001b[38;5;250m \u001b[39m\u001b[38;5;28;01mas\u001b[39;00m\u001b[38;5;250m \u001b[39m\u001b[38;5;21;01mplt\u001b[39;00m\n\u001b[0;32m      3\u001b[0m \u001b[38;5;66;03m# Trier les données par date pour s'assurer qu'elles sont bien en ordre chronologique\u001b[39;00m\n\u001b[1;32m----> 4\u001b[0m df_combined \u001b[38;5;241m=\u001b[39m \u001b[43mdf_combined\u001b[49m\u001b[38;5;241m.\u001b[39msort_values(by\u001b[38;5;241m=\u001b[39m\u001b[38;5;124m\"\u001b[39m\u001b[38;5;124mTimestamp\u001b[39m\u001b[38;5;124m\"\u001b[39m)\n\u001b[0;32m      6\u001b[0m \u001b[38;5;66;03m# Grouper les tweets par date, joueur et sentiment\u001b[39;00m\n\u001b[0;32m      7\u001b[0m trend_sentiments \u001b[38;5;241m=\u001b[39m df_combined\u001b[38;5;241m.\u001b[39mgroupby([df_combined[\u001b[38;5;124m\"\u001b[39m\u001b[38;5;124mTimestamp\u001b[39m\u001b[38;5;124m\"\u001b[39m]\u001b[38;5;241m.\u001b[39mdt\u001b[38;5;241m.\u001b[39mdate, \u001b[38;5;124m\"\u001b[39m\u001b[38;5;124mplayer\u001b[39m\u001b[38;5;124m\"\u001b[39m, \u001b[38;5;124m\"\u001b[39m\u001b[38;5;124mSentiment\u001b[39m\u001b[38;5;124m\"\u001b[39m])\u001b[38;5;241m.\u001b[39msize()\u001b[38;5;241m.\u001b[39munstack()\n",
      "\u001b[1;31mNameError\u001b[0m: name 'df_combined' is not defined"
     ]
    }
   ],
   "source": [
    "import matplotlib.pyplot as plt\n",
    "\n",
    "# Trier les données par date pour s'assurer qu'elles sont bien en ordre chronologique\n",
    "df_combined = df_combined.sort_values(by=\"Timestamp\")\n",
    "\n",
    "# Grouper les tweets par date, joueur et sentiment\n",
    "trend_sentiments = df_combined.groupby([df_combined[\"Timestamp\"].dt.date, \"player\", \"Sentiment\"]).size().unstack()\n",
    "\n",
    "# Tracer le graphique\n",
    "plt.figure(figsize=(12, 6))\n",
    "trend_sentiments.plot(kind=\"line\", marker=\"o\", linestyle=\"-\", figsize=(12, 6))\n",
    "\n",
    "# Personnalisation\n",
    "plt.title(\"Évolution Chronologique des Sentiments sur Ronaldo et Messi\", fontsize=14)\n",
    "plt.xlabel(\"Date\", fontsize=12)\n",
    "plt.ylabel(\"Nombre de Tweets\", fontsize=12)\n",
    "plt.legend(title=\"Sentiment\", fontsize=10)\n",
    "plt.grid(True)\n",
    "\n",
    "plt.show()\n"
   ]
  },
  {
   "cell_type": "code",
   "execution_count": null,
   "metadata": {},
   "outputs": [
    {
     "ename": "NameError",
     "evalue": "name 'df_combined' is not defined",
     "output_type": "error",
     "traceback": [
      "\u001b[1;31m---------------------------------------------------------------------------\u001b[0m",
      "\u001b[1;31mNameError\u001b[0m                                 Traceback (most recent call last)",
      "Cell \u001b[1;32mIn[18], line 1\u001b[0m\n\u001b[1;32m----> 1\u001b[0m \u001b[38;5;28mprint\u001b[39m(\u001b[38;5;124m\"\u001b[39m\u001b[38;5;124mColonnes disponibles :\u001b[39m\u001b[38;5;124m\"\u001b[39m, \u001b[43mdf_combined\u001b[49m\u001b[38;5;241m.\u001b[39mcolumns)\n\u001b[0;32m      2\u001b[0m \u001b[38;5;28mprint\u001b[39m(df_combined[[\u001b[38;5;124m\"\u001b[39m\u001b[38;5;124mgeo\u001b[39m\u001b[38;5;124m\"\u001b[39m, \u001b[38;5;124m\"\u001b[39m\u001b[38;5;124msource\u001b[39m\u001b[38;5;124m\"\u001b[39m]]\u001b[38;5;241m.\u001b[39mhead())  \u001b[38;5;66;03m# Afficher quelques valeurs\u001b[39;00m\n",
      "\u001b[1;31mNameError\u001b[0m: name 'df_combined' is not defined"
     ]
    }
   ],
   "source": [
    "print(\"Colonnes disponibles :\", df_combined.columns)\n",
    "print(df_combined[[\"geo\", \"source\"]].head())  # Afficher quelques valeurs\n"
   ]
  },
  {
   "cell_type": "code",
   "execution_count": null,
   "metadata": {},
   "outputs": [
    {
     "ename": "KeyError",
     "evalue": "'country'",
     "output_type": "error",
     "traceback": [
      "\u001b[0;31m---------------------------------------------------------------------------\u001b[0m",
      "\u001b[0;31mKeyError\u001b[0m                                  Traceback (most recent call last)",
      "File \u001b[0;32m~/.pyenv/versions/3.8.10/lib/python3.8/site-packages/pandas/core/indexes/base.py:3653\u001b[0m, in \u001b[0;36mIndex.get_loc\u001b[0;34m(self, key)\u001b[0m\n\u001b[1;32m   3652\u001b[0m \u001b[38;5;28;01mtry\u001b[39;00m:\n\u001b[0;32m-> 3653\u001b[0m     \u001b[38;5;28;01mreturn\u001b[39;00m \u001b[38;5;28;43mself\u001b[39;49m\u001b[38;5;241;43m.\u001b[39;49m\u001b[43m_engine\u001b[49m\u001b[38;5;241;43m.\u001b[39;49m\u001b[43mget_loc\u001b[49m\u001b[43m(\u001b[49m\u001b[43mcasted_key\u001b[49m\u001b[43m)\u001b[49m\n\u001b[1;32m   3654\u001b[0m \u001b[38;5;28;01mexcept\u001b[39;00m \u001b[38;5;167;01mKeyError\u001b[39;00m \u001b[38;5;28;01mas\u001b[39;00m err:\n",
      "File \u001b[0;32m~/.pyenv/versions/3.8.10/lib/python3.8/site-packages/pandas/_libs/index.pyx:147\u001b[0m, in \u001b[0;36mpandas._libs.index.IndexEngine.get_loc\u001b[0;34m()\u001b[0m\n",
      "File \u001b[0;32m~/.pyenv/versions/3.8.10/lib/python3.8/site-packages/pandas/_libs/index.pyx:176\u001b[0m, in \u001b[0;36mpandas._libs.index.IndexEngine.get_loc\u001b[0;34m()\u001b[0m\n",
      "File \u001b[0;32mpandas/_libs/hashtable_class_helper.pxi:7080\u001b[0m, in \u001b[0;36mpandas._libs.hashtable.PyObjectHashTable.get_item\u001b[0;34m()\u001b[0m\n",
      "File \u001b[0;32mpandas/_libs/hashtable_class_helper.pxi:7088\u001b[0m, in \u001b[0;36mpandas._libs.hashtable.PyObjectHashTable.get_item\u001b[0;34m()\u001b[0m\n",
      "\u001b[0;31mKeyError\u001b[0m: 'country'",
      "\nThe above exception was the direct cause of the following exception:\n",
      "\u001b[0;31mKeyError\u001b[0m                                  Traceback (most recent call last)",
      "Cell \u001b[0;32mIn[46], line 2\u001b[0m\n\u001b[1;32m      1\u001b[0m \u001b[38;5;66;03m# Vérifier les valeurs uniques de la colonne \"country\"\u001b[39;00m\n\u001b[0;32m----> 2\u001b[0m \u001b[38;5;28mprint\u001b[39m(\u001b[43mdf_combined\u001b[49m\u001b[43m[\u001b[49m\u001b[38;5;124;43m\"\u001b[39;49m\u001b[38;5;124;43mcountry\u001b[39;49m\u001b[38;5;124;43m\"\u001b[39;49m\u001b[43m]\u001b[49m\u001b[38;5;241m.\u001b[39mvalue_counts()\u001b[38;5;241m.\u001b[39mhead(\u001b[38;5;241m20\u001b[39m))  \u001b[38;5;66;03m# Top 20 pays les plus mentionnés\u001b[39;00m\n",
      "File \u001b[0;32m~/.pyenv/versions/3.8.10/lib/python3.8/site-packages/pandas/core/frame.py:3761\u001b[0m, in \u001b[0;36mDataFrame.__getitem__\u001b[0;34m(self, key)\u001b[0m\n\u001b[1;32m   3759\u001b[0m \u001b[38;5;28;01mif\u001b[39;00m \u001b[38;5;28mself\u001b[39m\u001b[38;5;241m.\u001b[39mcolumns\u001b[38;5;241m.\u001b[39mnlevels \u001b[38;5;241m>\u001b[39m \u001b[38;5;241m1\u001b[39m:\n\u001b[1;32m   3760\u001b[0m     \u001b[38;5;28;01mreturn\u001b[39;00m \u001b[38;5;28mself\u001b[39m\u001b[38;5;241m.\u001b[39m_getitem_multilevel(key)\n\u001b[0;32m-> 3761\u001b[0m indexer \u001b[38;5;241m=\u001b[39m \u001b[38;5;28;43mself\u001b[39;49m\u001b[38;5;241;43m.\u001b[39;49m\u001b[43mcolumns\u001b[49m\u001b[38;5;241;43m.\u001b[39;49m\u001b[43mget_loc\u001b[49m\u001b[43m(\u001b[49m\u001b[43mkey\u001b[49m\u001b[43m)\u001b[49m\n\u001b[1;32m   3762\u001b[0m \u001b[38;5;28;01mif\u001b[39;00m is_integer(indexer):\n\u001b[1;32m   3763\u001b[0m     indexer \u001b[38;5;241m=\u001b[39m [indexer]\n",
      "File \u001b[0;32m~/.pyenv/versions/3.8.10/lib/python3.8/site-packages/pandas/core/indexes/base.py:3655\u001b[0m, in \u001b[0;36mIndex.get_loc\u001b[0;34m(self, key)\u001b[0m\n\u001b[1;32m   3653\u001b[0m     \u001b[38;5;28;01mreturn\u001b[39;00m \u001b[38;5;28mself\u001b[39m\u001b[38;5;241m.\u001b[39m_engine\u001b[38;5;241m.\u001b[39mget_loc(casted_key)\n\u001b[1;32m   3654\u001b[0m \u001b[38;5;28;01mexcept\u001b[39;00m \u001b[38;5;167;01mKeyError\u001b[39;00m \u001b[38;5;28;01mas\u001b[39;00m err:\n\u001b[0;32m-> 3655\u001b[0m     \u001b[38;5;28;01mraise\u001b[39;00m \u001b[38;5;167;01mKeyError\u001b[39;00m(key) \u001b[38;5;28;01mfrom\u001b[39;00m\u001b[38;5;250m \u001b[39m\u001b[38;5;21;01merr\u001b[39;00m\n\u001b[1;32m   3656\u001b[0m \u001b[38;5;28;01mexcept\u001b[39;00m \u001b[38;5;167;01mTypeError\u001b[39;00m:\n\u001b[1;32m   3657\u001b[0m     \u001b[38;5;66;03m# If we have a listlike key, _check_indexing_error will raise\u001b[39;00m\n\u001b[1;32m   3658\u001b[0m     \u001b[38;5;66;03m#  InvalidIndexError. Otherwise we fall through and re-raise\u001b[39;00m\n\u001b[1;32m   3659\u001b[0m     \u001b[38;5;66;03m#  the TypeError.\u001b[39;00m\n\u001b[1;32m   3660\u001b[0m     \u001b[38;5;28mself\u001b[39m\u001b[38;5;241m.\u001b[39m_check_indexing_error(key)\n",
      "\u001b[0;31mKeyError\u001b[0m: 'country'"
     ]
    }
   ],
   "source": [
    "# Vérifier les valeurs uniques de la colonne \"country\"\n",
    "print(df_combined[\"country\"].value_counts().head(20))  # Top 20 pays les plus mentionnés\n"
   ]
  },
  {
   "cell_type": "code",
   "execution_count": null,
   "metadata": {},
   "outputs": [
    {
     "name": "stdout",
     "output_type": "stream",
     "text": [
      "geo\n",
      "-1                  957056\n",
      "003e299707d0375b       368\n",
      "01eddd9d0dbec2c8       310\n",
      "00817d75276a95cf       226\n",
      "009b4bcc18019797       200\n",
      "00e55e2b4c491c5f       166\n",
      "000c69ad123213a8       143\n",
      "01e215db7136a37e       139\n",
      "dd9c0d7d7e07eb49       134\n",
      "0065f09a6666479e        94\n",
      "315b740b108481f6        88\n",
      "006c6743642cb09c        86\n",
      "01ed1f9a43bfb9bd        76\n",
      "011a942e0a0e8fb2        73\n",
      "0008cb6457ff0b55        64\n",
      "a0583a9994e6bf1b        59\n",
      "001907e868d06e24        57\n",
      "70957ac3123b3249        54\n",
      "00c822476a63c75b        54\n",
      "c884a1b7e3a91f5e        53\n",
      "Name: count, dtype: int64\n"
     ]
    }
   ],
   "source": [
    "# Vérifier les valeurs uniques de la colonne \"geo\"\n",
    "print(df_combined[\"geo\"].value_counts().head(20))  # Top 20 régions les plus mentionnées\n"
   ]
  },
  {
   "cell_type": "markdown",
   "metadata": {},
   "source": [
    "on ajoute cellule pour voir combien de tweets ont une valeur utilisable dans \"geo\" :"
   ]
  },
  {
   "cell_type": "code",
   "execution_count": null,
   "metadata": {},
   "outputs": [
    {
     "ename": "NameError",
     "evalue": "name 'df_combined' is not defined",
     "output_type": "error",
     "traceback": [
      "\u001b[1;31m---------------------------------------------------------------------------\u001b[0m",
      "\u001b[1;31mNameError\u001b[0m                                 Traceback (most recent call last)",
      "Cell \u001b[1;32mIn[17], line 2\u001b[0m\n\u001b[0;32m      1\u001b[0m \u001b[38;5;66;03m# Compter le nombre total de tweets et ceux qui ont une géolocalisation exploitable\u001b[39;00m\n\u001b[1;32m----> 2\u001b[0m total_tweets \u001b[38;5;241m=\u001b[39m \u001b[38;5;28mlen\u001b[39m(\u001b[43mdf_combined\u001b[49m)\n\u001b[0;32m      3\u001b[0m tweets_with_geo \u001b[38;5;241m=\u001b[39m df_combined[df_combined[\u001b[38;5;124m\"\u001b[39m\u001b[38;5;124mgeo\u001b[39m\u001b[38;5;124m\"\u001b[39m] \u001b[38;5;241m!=\u001b[39m \u001b[38;5;124m\"\u001b[39m\u001b[38;5;124m-1\u001b[39m\u001b[38;5;124m\"\u001b[39m]\n\u001b[0;32m      5\u001b[0m \u001b[38;5;28mprint\u001b[39m(\u001b[38;5;124mf\u001b[39m\u001b[38;5;124m\"\u001b[39m\u001b[38;5;124mNombre total de tweets : \u001b[39m\u001b[38;5;132;01m{\u001b[39;00mtotal_tweets\u001b[38;5;132;01m}\u001b[39;00m\u001b[38;5;124m\"\u001b[39m)\n",
      "\u001b[1;31mNameError\u001b[0m: name 'df_combined' is not defined"
     ]
    }
   ],
   "source": [
    "# Compter le nombre total de tweets et ceux qui ont une géolocalisation exploitable\n",
    "total_tweets = len(df_combined)\n",
    "tweets_with_geo = df_combined[df_combined[\"geo\"] != \"-1\"]\n",
    "\n",
    "print(f\"Nombre total de tweets : {total_tweets}\")\n",
    "print(f\"Nombre de tweets avec une valeur GEO exploitable : {len(tweets_with_geo)}\")\n",
    "print(f\"Proportion de tweets géolocalisés : {len(tweets_with_geo) / total_tweets:.2%}\")\n"
   ]
  },
  {
   "cell_type": "code",
   "execution_count": null,
   "metadata": {},
   "outputs": [
    {
     "ename": "NameError",
     "evalue": "name 'df_combined' is not defined",
     "output_type": "error",
     "traceback": [
      "\u001b[1;31m---------------------------------------------------------------------------\u001b[0m",
      "\u001b[1;31mNameError\u001b[0m                                 Traceback (most recent call last)",
      "Cell \u001b[1;32mIn[16], line 2\u001b[0m\n\u001b[0;32m      1\u001b[0m \u001b[38;5;66;03m# Supprimer les tweets sans localisation valide\u001b[39;00m\n\u001b[1;32m----> 2\u001b[0m df_geo \u001b[38;5;241m=\u001b[39m \u001b[43mdf_combined\u001b[49m[df_combined[\u001b[38;5;124m\"\u001b[39m\u001b[38;5;124mgeo\u001b[39m\u001b[38;5;124m\"\u001b[39m] \u001b[38;5;241m!=\u001b[39m \u001b[38;5;124m\"\u001b[39m\u001b[38;5;124m-1\u001b[39m\u001b[38;5;124m\"\u001b[39m]\u001b[38;5;241m.\u001b[39mcopy()\n\u001b[0;32m      4\u001b[0m \u001b[38;5;66;03m# Vérifier à nouveau les valeurs GEO disponibles\u001b[39;00m\n\u001b[0;32m      5\u001b[0m \u001b[38;5;28mprint\u001b[39m(df_geo[\u001b[38;5;124m\"\u001b[39m\u001b[38;5;124mgeo\u001b[39m\u001b[38;5;124m\"\u001b[39m]\u001b[38;5;241m.\u001b[39mvalue_counts()\u001b[38;5;241m.\u001b[39mhead(\u001b[38;5;241m20\u001b[39m))\n",
      "\u001b[1;31mNameError\u001b[0m: name 'df_combined' is not defined"
     ]
    }
   ],
   "source": [
    "# Supprimer les tweets sans localisation valide\n",
    "df_geo = df_combined[df_combined[\"geo\"] != \"-1\"].copy()\n",
    "\n",
    "# Vérifier à nouveau les valeurs GEO disponibles\n",
    "print(df_geo[\"geo\"].value_counts().head(20))\n"
   ]
  },
  {
   "cell_type": "code",
   "execution_count": null,
   "metadata": {},
   "outputs": [
    {
     "name": "stdout",
     "output_type": "stream",
     "text": [
      "Colonnes disponibles : Index(['tweet_id', 'author_id', 'content', 'lang', 'Timestamp', 'source',\n",
      "       'geo', 'retweet_count', 'like_count', 'quote_count', 'player',\n",
      "       'Sentiment'],\n",
      "      dtype='object')\n"
     ]
    },
    {
     "ename": "KeyError",
     "evalue": "'country'",
     "output_type": "error",
     "traceback": [
      "\u001b[0;31m---------------------------------------------------------------------------\u001b[0m",
      "\u001b[0;31mKeyError\u001b[0m                                  Traceback (most recent call last)",
      "File \u001b[0;32m~/.pyenv/versions/3.8.10/lib/python3.8/site-packages/pandas/core/indexes/base.py:3653\u001b[0m, in \u001b[0;36mIndex.get_loc\u001b[0;34m(self, key)\u001b[0m\n\u001b[1;32m   3652\u001b[0m \u001b[38;5;28;01mtry\u001b[39;00m:\n\u001b[0;32m-> 3653\u001b[0m     \u001b[38;5;28;01mreturn\u001b[39;00m \u001b[38;5;28;43mself\u001b[39;49m\u001b[38;5;241;43m.\u001b[39;49m\u001b[43m_engine\u001b[49m\u001b[38;5;241;43m.\u001b[39;49m\u001b[43mget_loc\u001b[49m\u001b[43m(\u001b[49m\u001b[43mcasted_key\u001b[49m\u001b[43m)\u001b[49m\n\u001b[1;32m   3654\u001b[0m \u001b[38;5;28;01mexcept\u001b[39;00m \u001b[38;5;167;01mKeyError\u001b[39;00m \u001b[38;5;28;01mas\u001b[39;00m err:\n",
      "File \u001b[0;32m~/.pyenv/versions/3.8.10/lib/python3.8/site-packages/pandas/_libs/index.pyx:147\u001b[0m, in \u001b[0;36mpandas._libs.index.IndexEngine.get_loc\u001b[0;34m()\u001b[0m\n",
      "File \u001b[0;32m~/.pyenv/versions/3.8.10/lib/python3.8/site-packages/pandas/_libs/index.pyx:176\u001b[0m, in \u001b[0;36mpandas._libs.index.IndexEngine.get_loc\u001b[0;34m()\u001b[0m\n",
      "File \u001b[0;32mpandas/_libs/hashtable_class_helper.pxi:7080\u001b[0m, in \u001b[0;36mpandas._libs.hashtable.PyObjectHashTable.get_item\u001b[0;34m()\u001b[0m\n",
      "File \u001b[0;32mpandas/_libs/hashtable_class_helper.pxi:7088\u001b[0m, in \u001b[0;36mpandas._libs.hashtable.PyObjectHashTable.get_item\u001b[0;34m()\u001b[0m\n",
      "\u001b[0;31mKeyError\u001b[0m: 'country'",
      "\nThe above exception was the direct cause of the following exception:\n",
      "\u001b[0;31mKeyError\u001b[0m                                  Traceback (most recent call last)",
      "Cell \u001b[0;32mIn[50], line 3\u001b[0m\n\u001b[1;32m      1\u001b[0m \u001b[38;5;66;03m# Vérifier si la colonne \"country\" est plus exploitable\u001b[39;00m\n\u001b[1;32m      2\u001b[0m \u001b[38;5;28mprint\u001b[39m(\u001b[38;5;124m\"\u001b[39m\u001b[38;5;124mColonnes disponibles :\u001b[39m\u001b[38;5;124m\"\u001b[39m, df_combined\u001b[38;5;241m.\u001b[39mcolumns)\n\u001b[0;32m----> 3\u001b[0m \u001b[38;5;28mprint\u001b[39m(\u001b[43mdf_combined\u001b[49m\u001b[43m[\u001b[49m\u001b[38;5;124;43m\"\u001b[39;49m\u001b[38;5;124;43mcountry\u001b[39;49m\u001b[38;5;124;43m\"\u001b[39;49m\u001b[43m]\u001b[49m\u001b[38;5;241m.\u001b[39mvalue_counts()\u001b[38;5;241m.\u001b[39mhead(\u001b[38;5;241m20\u001b[39m))\n",
      "File \u001b[0;32m~/.pyenv/versions/3.8.10/lib/python3.8/site-packages/pandas/core/frame.py:3761\u001b[0m, in \u001b[0;36mDataFrame.__getitem__\u001b[0;34m(self, key)\u001b[0m\n\u001b[1;32m   3759\u001b[0m \u001b[38;5;28;01mif\u001b[39;00m \u001b[38;5;28mself\u001b[39m\u001b[38;5;241m.\u001b[39mcolumns\u001b[38;5;241m.\u001b[39mnlevels \u001b[38;5;241m>\u001b[39m \u001b[38;5;241m1\u001b[39m:\n\u001b[1;32m   3760\u001b[0m     \u001b[38;5;28;01mreturn\u001b[39;00m \u001b[38;5;28mself\u001b[39m\u001b[38;5;241m.\u001b[39m_getitem_multilevel(key)\n\u001b[0;32m-> 3761\u001b[0m indexer \u001b[38;5;241m=\u001b[39m \u001b[38;5;28;43mself\u001b[39;49m\u001b[38;5;241;43m.\u001b[39;49m\u001b[43mcolumns\u001b[49m\u001b[38;5;241;43m.\u001b[39;49m\u001b[43mget_loc\u001b[49m\u001b[43m(\u001b[49m\u001b[43mkey\u001b[49m\u001b[43m)\u001b[49m\n\u001b[1;32m   3762\u001b[0m \u001b[38;5;28;01mif\u001b[39;00m is_integer(indexer):\n\u001b[1;32m   3763\u001b[0m     indexer \u001b[38;5;241m=\u001b[39m [indexer]\n",
      "File \u001b[0;32m~/.pyenv/versions/3.8.10/lib/python3.8/site-packages/pandas/core/indexes/base.py:3655\u001b[0m, in \u001b[0;36mIndex.get_loc\u001b[0;34m(self, key)\u001b[0m\n\u001b[1;32m   3653\u001b[0m     \u001b[38;5;28;01mreturn\u001b[39;00m \u001b[38;5;28mself\u001b[39m\u001b[38;5;241m.\u001b[39m_engine\u001b[38;5;241m.\u001b[39mget_loc(casted_key)\n\u001b[1;32m   3654\u001b[0m \u001b[38;5;28;01mexcept\u001b[39;00m \u001b[38;5;167;01mKeyError\u001b[39;00m \u001b[38;5;28;01mas\u001b[39;00m err:\n\u001b[0;32m-> 3655\u001b[0m     \u001b[38;5;28;01mraise\u001b[39;00m \u001b[38;5;167;01mKeyError\u001b[39;00m(key) \u001b[38;5;28;01mfrom\u001b[39;00m\u001b[38;5;250m \u001b[39m\u001b[38;5;21;01merr\u001b[39;00m\n\u001b[1;32m   3656\u001b[0m \u001b[38;5;28;01mexcept\u001b[39;00m \u001b[38;5;167;01mTypeError\u001b[39;00m:\n\u001b[1;32m   3657\u001b[0m     \u001b[38;5;66;03m# If we have a listlike key, _check_indexing_error will raise\u001b[39;00m\n\u001b[1;32m   3658\u001b[0m     \u001b[38;5;66;03m#  InvalidIndexError. Otherwise we fall through and re-raise\u001b[39;00m\n\u001b[1;32m   3659\u001b[0m     \u001b[38;5;66;03m#  the TypeError.\u001b[39;00m\n\u001b[1;32m   3660\u001b[0m     \u001b[38;5;28mself\u001b[39m\u001b[38;5;241m.\u001b[39m_check_indexing_error(key)\n",
      "\u001b[0;31mKeyError\u001b[0m: 'country'"
     ]
    }
   ],
   "source": [
    "# Vérifier si la colonne \"country\" est plus exploitable\n",
    "print(\"Colonnes disponibles :\", df_combined.columns)\n",
    "print(df_combined[\"country\"].value_counts().head(20))\n"
   ]
  },
  {
   "cell_type": "code",
   "execution_count": null,
   "metadata": {},
   "outputs": [
    {
     "name": "stdout",
     "output_type": "stream",
     "text": [
      "Nombre total de tweets : 967149\n",
      "Nombre de tweets avec une valeur GEO valide : 2207\n",
      "Top 10 valeurs GEO : geo\n",
      "-1                  957056\n",
      "003e299707d0375b       368\n",
      "01eddd9d0dbec2c8       310\n",
      "00817d75276a95cf       226\n",
      "009b4bcc18019797       200\n",
      "00e55e2b4c491c5f       166\n",
      "000c69ad123213a8       143\n",
      "01e215db7136a37e       139\n",
      "dd9c0d7d7e07eb49       134\n",
      "0065f09a6666479e        94\n",
      "Name: count, dtype: int64\n"
     ]
    }
   ],
   "source": [
    "# Vérifier combien de tweets ont une géolocalisation valide\n",
    "geo_counts = df_combined[\"geo\"].value_counts()\n",
    "print(\"Nombre total de tweets :\", len(df_combined))\n",
    "print(\"Nombre de tweets avec une valeur GEO valide :\", len(geo_counts))\n",
    "print(\"Top 10 valeurs GEO :\", geo_counts.head(10))\n"
   ]
  },
  {
   "cell_type": "code",
   "execution_count": null,
   "metadata": {},
   "outputs": [
    {
     "name": "stdout",
     "output_type": "stream",
     "text": [
      "source\n",
      "Twitter for Android         413601\n",
      "Twitter for iPhone          375823\n",
      "Twitter Web App             124706\n",
      "WordPress.com                15763\n",
      "Twitter for iPad              6603\n",
      "TweetDeck                     4833\n",
      "notice.com.ng                 3512\n",
      "dlvr.it                       3157\n",
      "IFTTT                         2094\n",
      "Cheap Bots, Done Quick!       1555\n",
      "Twitter                       1128\n",
      "Promotional Auto Tweets        926\n",
      "Echobox                        768\n",
      "Buffer                         751\n",
      "The Social Jukebox             694\n",
      "Hootsuite Inc.                 493\n",
      "Microsoft Power Platform       434\n",
      "Tweet Suite                    415\n",
      "twittbot.net                   335\n",
      "Instagram                      331\n",
      "Name: count, dtype: int64\n"
     ]
    }
   ],
   "source": [
    "print(df_combined[\"source\"].value_counts().head(20))  # Voir les sources des tweets\n"
   ]
  },
  {
   "cell_type": "code",
   "execution_count": null,
   "metadata": {},
   "outputs": [
    {
     "name": "stdout",
     "output_type": "stream",
     "text": [
      "Collecting geopy\n",
      "  Downloading geopy-2.4.1-py3-none-any.whl.metadata (6.8 kB)\n",
      "Collecting geographiclib<3,>=1.52 (from geopy)\n",
      "  Downloading geographiclib-2.0-py3-none-any.whl.metadata (1.4 kB)\n",
      "Downloading geopy-2.4.1-py3-none-any.whl (125 kB)\n",
      "Downloading geographiclib-2.0-py3-none-any.whl (40 kB)\n",
      "Installing collected packages: geographiclib, geopy\n",
      "Successfully installed geographiclib-2.0 geopy-2.4.1\n"
     ]
    },
    {
     "name": "stderr",
     "output_type": "stream",
     "text": [
      "\n",
      "[notice] A new release of pip is available: 24.3.1 -> 25.0.1\n",
      "[notice] To update, run: python.exe -m pip install --upgrade pip\n"
     ]
    }
   ],
   "source": [
    "!pip install geopy"
   ]
  },
  {
   "cell_type": "code",
   "execution_count": null,
   "metadata": {},
   "outputs": [
    {
     "ename": "NameError",
     "evalue": "name 'df_combined' is not defined",
     "output_type": "error",
     "traceback": [
      "\u001b[1;31m---------------------------------------------------------------------------\u001b[0m",
      "\u001b[1;31mNameError\u001b[0m                                 Traceback (most recent call last)",
      "Cell \u001b[1;32mIn[15], line 15\u001b[0m\n\u001b[0;32m     12\u001b[0m         \u001b[38;5;28;01mreturn\u001b[39;00m \u001b[38;5;28;01mNone\u001b[39;00m\n\u001b[0;32m     14\u001b[0m \u001b[38;5;66;03m# Appliquer la fonction sur un échantillon de 10 tweets géolocalisés\u001b[39;00m\n\u001b[1;32m---> 15\u001b[0m df_combined[\u001b[38;5;124m\"\u001b[39m\u001b[38;5;124mcountry\u001b[39m\u001b[38;5;124m\"\u001b[39m] \u001b[38;5;241m=\u001b[39m \u001b[43mdf_combined\u001b[49m[\u001b[38;5;124m\"\u001b[39m\u001b[38;5;124mgeo\u001b[39m\u001b[38;5;124m\"\u001b[39m]\u001b[38;5;241m.\u001b[39mapply(\u001b[38;5;28;01mlambda\u001b[39;00m x: geo_to_country(x) \u001b[38;5;28;01mif\u001b[39;00m x \u001b[38;5;241m!=\u001b[39m \u001b[38;5;124m\"\u001b[39m\u001b[38;5;124m-1\u001b[39m\u001b[38;5;124m\"\u001b[39m \u001b[38;5;28;01melse\u001b[39;00m \u001b[38;5;28;01mNone\u001b[39;00m)\n\u001b[0;32m     17\u001b[0m \u001b[38;5;66;03m# Vérifier si ça fonctionne\u001b[39;00m\n\u001b[0;32m     18\u001b[0m \u001b[38;5;28mprint\u001b[39m(df_combined[[\u001b[38;5;124m\"\u001b[39m\u001b[38;5;124mgeo\u001b[39m\u001b[38;5;124m\"\u001b[39m, \u001b[38;5;124m\"\u001b[39m\u001b[38;5;124mcountry\u001b[39m\u001b[38;5;124m\"\u001b[39m]]\u001b[38;5;241m.\u001b[39mdropna()\u001b[38;5;241m.\u001b[39mhead(\u001b[38;5;241m10\u001b[39m))\n",
      "\u001b[1;31mNameError\u001b[0m: name 'df_combined' is not defined"
     ]
    }
   ],
   "source": [
    "from geopy.geocoders import Nominatim\n",
    "\n",
    "geolocator = Nominatim(user_agent=\"geo_analysis\")\n",
    "\n",
    "# Fonction pour convertir un ID geo en un pays\n",
    "def geo_to_country(geo_id):\n",
    "    try:\n",
    "        location = geolocator.geocode(geo_id, exactly_one=True)\n",
    "        if location:\n",
    "            return location.address.split(\",\")[-1].strip()  # Récupérer le pays\n",
    "    except:\n",
    "        return None\n",
    "\n",
    "# Appliquer la fonction sur un échantillon de 10 tweets géolocalisés\n",
    "df_combined[\"country\"] = df_combined[\"geo\"].apply(lambda x: geo_to_country(x) if x != \"-1\" else None)\n",
    "\n",
    "# Vérifier si ça fonctionne\n",
    "print(df_combined[[\"geo\", \"country\"]].dropna().head(10))\n"
   ]
  },
  {
   "cell_type": "markdown",
   "metadata": {},
   "source": [
    "on telecharge un module qui va nous permettre de relier des codes de geolocalisations de notre collone \"geo\" a des pays"
   ]
  },
  {
   "cell_type": "code",
   "execution_count": null,
   "metadata": {},
   "outputs": [
    {
     "name": "stdout",
     "output_type": "stream",
     "text": [
      "Requirement already satisfied: geopy in /Users/Nicolas/.pyenv/versions/3.8.10/lib/python3.8/site-packages (2.4.1)\n",
      "Requirement already satisfied: geographiclib<3,>=1.52 in /Users/Nicolas/.pyenv/versions/3.8.10/lib/python3.8/site-packages (from geopy) (2.0)\n",
      "\u001b[33mWARNING: You are using pip version 21.1.1; however, version 25.0.1 is available.\n",
      "You should consider upgrading via the '/Users/Nicolas/.pyenv/versions/3.8.10/bin/python3.8 -m pip install --upgrade pip' command.\u001b[0m\n"
     ]
    }
   ],
   "source": [
    "!pip install geopy\n"
   ]
  },
  {
   "cell_type": "code",
   "execution_count": null,
   "metadata": {},
   "outputs": [],
   "source": [
    "from geopy.geocoders import Nominatim\n",
    "\n",
    "geolocator = Nominatim(user_agent=\"geo_analysis\")\n",
    "\n",
    "# Fonction pour convertir un ID geo en un pays\n",
    "def geo_to_country(geo_id):\n",
    "    try:\n",
    "        location = geolocator.geocode(geo_id, exactly_one=True)\n",
    "        if location:\n",
    "            return location.address.split(\",\")[-1].strip()  # Récupérer le pays\n",
    "    except:\n",
    "        return None\n",
    "\n",
    "# Appliquer la fonction sur un échantillon de tweets géolocalisés\n",
    "df_combined[\"country\"] = df_combined[\"geo\"].apply(lambda x: geo_to_country(x) if x != \"-1\" else None)\n",
    "\n",
    "# Vérifier si ça fonctionne\n",
    "print(df_combined[[\"geo\", \"country\"]].dropna().head(10))\n"
   ]
  },
  {
   "cell_type": "markdown",
   "metadata": {},
   "source": [
    "finalement le temps de chargmeent etant trop long nous avons decidé de generer de facon aletoire une colonne country par rapport aux données de geo "
   ]
  },
  {
   "cell_type": "code",
   "execution_count": null,
   "metadata": {},
   "outputs": [],
   "source": []
  },
  {
   "cell_type": "code",
   "execution_count": null,
   "metadata": {},
   "outputs": [],
   "source": []
  },
  {
   "cell_type": "markdown",
   "metadata": {},
   "source": []
  },
  {
   "cell_type": "code",
   "execution_count": null,
   "metadata": {},
   "outputs": [],
   "source": []
  },
  {
   "cell_type": "code",
   "execution_count": null,
   "metadata": {},
   "outputs": [],
   "source": []
  },
  {
   "cell_type": "markdown",
   "metadata": {},
   "source": []
  },
  {
   "cell_type": "code",
   "execution_count": null,
   "metadata": {},
   "outputs": [],
   "source": []
  }
 ],
 "metadata": {
  "kernelspec": {
   "display_name": "Python 3",
   "language": "python",
   "name": "python3"
  },
  "language_info": {
   "codemirror_mode": {
    "name": "ipython",
    "version": 3
   },
   "file_extension": ".py",
   "mimetype": "text/x-python",
   "name": "python",
   "nbconvert_exporter": "python",
   "pygments_lexer": "ipython3",
   "version": "3.13.2"
  }
 },
 "nbformat": 4,
 "nbformat_minor": 2
}
