{
 "cells": [
  {
   "cell_type": "code",
   "execution_count": 1,
   "metadata": {},
   "outputs": [],
   "source": [
    "import pandas as pd\n",
    "import numpy as np\n",
    "import matplotlib.pyplot as plt\n",
    "import seaborn as sns\n",
    "from scipy import stats"
   ]
  },
  {
   "cell_type": "code",
   "execution_count": 10,
   "metadata": {},
   "outputs": [],
   "source": [
    "df = pd.read_csv('train(1).csv')\n"
   ]
  },
  {
   "cell_type": "code",
   "execution_count": 11,
   "metadata": {},
   "outputs": [
    {
     "name": "stdout",
     "output_type": "stream",
     "text": [
      "   battery_power  blue  clock_speed  dual_sim  fc  four_g  int_memory  m_dep  \\\n",
      "0            842     0          2.2         0   1       0           7    0.6   \n",
      "1           1021     1          0.5         1   0       1          53    0.7   \n",
      "2            563     1          0.5         1   2       1          41    0.9   \n",
      "3            615     1          2.5         0   0       0          10    0.8   \n",
      "4           1821     1          1.2         0  13       1          44    0.6   \n",
      "\n",
      "   mobile_wt  n_cores  ...  px_height  px_width   ram  sc_h  sc_w  talk_time  \\\n",
      "0        188        2  ...         20       756  2549     9     7         19   \n",
      "1        136        3  ...        905      1988  2631    17     3          7   \n",
      "2        145        5  ...       1263      1716  2603    11     2          9   \n",
      "3        131        6  ...       1216      1786  2769    16     8         11   \n",
      "4        141        2  ...       1208      1212  1411     8     2         15   \n",
      "\n",
      "   three_g  touch_screen  wifi  price_range  \n",
      "0        0             0     1            1  \n",
      "1        1             1     0            2  \n",
      "2        1             1     0            2  \n",
      "3        1             0     0            2  \n",
      "4        1             1     0            1  \n",
      "\n",
      "[5 rows x 21 columns]\n"
     ]
    }
   ],
   "source": [
    "print(df.head())\n",
    "\n"
   ]
  },
  {
   "cell_type": "code",
   "execution_count": 12,
   "metadata": {},
   "outputs": [
    {
     "name": "stdout",
     "output_type": "stream",
     "text": [
      "<class 'pandas.core.frame.DataFrame'>\n",
      "RangeIndex: 2000 entries, 0 to 1999\n",
      "Data columns (total 21 columns):\n",
      " #   Column         Non-Null Count  Dtype  \n",
      "---  ------         --------------  -----  \n",
      " 0   battery_power  2000 non-null   int64  \n",
      " 1   blue           2000 non-null   int64  \n",
      " 2   clock_speed    2000 non-null   float64\n",
      " 3   dual_sim       2000 non-null   int64  \n",
      " 4   fc             2000 non-null   int64  \n",
      " 5   four_g         2000 non-null   int64  \n",
      " 6   int_memory     2000 non-null   int64  \n",
      " 7   m_dep          2000 non-null   float64\n",
      " 8   mobile_wt      2000 non-null   int64  \n",
      " 9   n_cores        2000 non-null   int64  \n",
      " 10  pc             2000 non-null   int64  \n",
      " 11  px_height      2000 non-null   int64  \n",
      " 12  px_width       2000 non-null   int64  \n",
      " 13  ram            2000 non-null   int64  \n",
      " 14  sc_h           2000 non-null   int64  \n",
      " 15  sc_w           2000 non-null   int64  \n",
      " 16  talk_time      2000 non-null   int64  \n",
      " 17  three_g        2000 non-null   int64  \n",
      " 18  touch_screen   2000 non-null   int64  \n",
      " 19  wifi           2000 non-null   int64  \n",
      " 20  price_range    2000 non-null   int64  \n",
      "dtypes: float64(2), int64(19)\n",
      "memory usage: 328.3 KB\n",
      "None\n"
     ]
    }
   ],
   "source": [
    "print(df.info())\n"
   ]
  },
  {
   "cell_type": "code",
   "execution_count": 13,
   "metadata": {},
   "outputs": [
    {
     "name": "stdout",
     "output_type": "stream",
     "text": [
      "       battery_power       blue  clock_speed     dual_sim           fc  \\\n",
      "count    2000.000000  2000.0000  2000.000000  2000.000000  2000.000000   \n",
      "mean     1238.518500     0.4950     1.522250     0.509500     4.309500   \n",
      "std       439.418206     0.5001     0.816004     0.500035     4.341444   \n",
      "min       501.000000     0.0000     0.500000     0.000000     0.000000   \n",
      "25%       851.750000     0.0000     0.700000     0.000000     1.000000   \n",
      "50%      1226.000000     0.0000     1.500000     1.000000     3.000000   \n",
      "75%      1615.250000     1.0000     2.200000     1.000000     7.000000   \n",
      "max      1998.000000     1.0000     3.000000     1.000000    19.000000   \n",
      "\n",
      "            four_g   int_memory        m_dep    mobile_wt      n_cores  ...  \\\n",
      "count  2000.000000  2000.000000  2000.000000  2000.000000  2000.000000  ...   \n",
      "mean      0.521500    32.046500     0.501750   140.249000     4.520500  ...   \n",
      "std       0.499662    18.145715     0.288416    35.399655     2.287837  ...   \n",
      "min       0.000000     2.000000     0.100000    80.000000     1.000000  ...   \n",
      "25%       0.000000    16.000000     0.200000   109.000000     3.000000  ...   \n",
      "50%       1.000000    32.000000     0.500000   141.000000     4.000000  ...   \n",
      "75%       1.000000    48.000000     0.800000   170.000000     7.000000  ...   \n",
      "max       1.000000    64.000000     1.000000   200.000000     8.000000  ...   \n",
      "\n",
      "         px_height     px_width          ram         sc_h         sc_w  \\\n",
      "count  2000.000000  2000.000000  2000.000000  2000.000000  2000.000000   \n",
      "mean    645.108000  1251.515500  2124.213000    12.306500     5.767000   \n",
      "std     443.780811   432.199447  1084.732044     4.213245     4.356398   \n",
      "min       0.000000   500.000000   256.000000     5.000000     0.000000   \n",
      "25%     282.750000   874.750000  1207.500000     9.000000     2.000000   \n",
      "50%     564.000000  1247.000000  2146.500000    12.000000     5.000000   \n",
      "75%     947.250000  1633.000000  3064.500000    16.000000     9.000000   \n",
      "max    1960.000000  1998.000000  3998.000000    19.000000    18.000000   \n",
      "\n",
      "         talk_time      three_g  touch_screen         wifi  price_range  \n",
      "count  2000.000000  2000.000000   2000.000000  2000.000000  2000.000000  \n",
      "mean     11.011000     0.761500      0.503000     0.507000     1.500000  \n",
      "std       5.463955     0.426273      0.500116     0.500076     1.118314  \n",
      "min       2.000000     0.000000      0.000000     0.000000     0.000000  \n",
      "25%       6.000000     1.000000      0.000000     0.000000     0.750000  \n",
      "50%      11.000000     1.000000      1.000000     1.000000     1.500000  \n",
      "75%      16.000000     1.000000      1.000000     1.000000     2.250000  \n",
      "max      20.000000     1.000000      1.000000     1.000000     3.000000  \n",
      "\n",
      "[8 rows x 21 columns]\n"
     ]
    }
   ],
   "source": [
    "print(df.describe())"
   ]
  },
  {
   "cell_type": "code",
   "execution_count": 14,
   "metadata": {},
   "outputs": [
    {
     "name": "stdout",
     "output_type": "stream",
     "text": [
      "battery_power    0\n",
      "blue             0\n",
      "clock_speed      0\n",
      "dual_sim         0\n",
      "fc               0\n",
      "four_g           0\n",
      "int_memory       0\n",
      "m_dep            0\n",
      "mobile_wt        0\n",
      "n_cores          0\n",
      "pc               0\n",
      "px_height        0\n",
      "px_width         0\n",
      "ram              0\n",
      "sc_h             0\n",
      "sc_w             0\n",
      "talk_time        0\n",
      "three_g          0\n",
      "touch_screen     0\n",
      "wifi             0\n",
      "price_range      0\n",
      "dtype: int64\n"
     ]
    }
   ],
   "source": [
    "print(df.isnull().sum())\n"
   ]
  },
  {
   "cell_type": "code",
   "execution_count": 15,
   "metadata": {},
   "outputs": [
    {
     "name": "stdout",
     "output_type": "stream",
     "text": [
      "battery_power      int64\n",
      "blue               int64\n",
      "clock_speed      float64\n",
      "dual_sim           int64\n",
      "fc                 int64\n",
      "four_g             int64\n",
      "int_memory         int64\n",
      "m_dep            float64\n",
      "mobile_wt          int64\n",
      "n_cores            int64\n",
      "pc                 int64\n",
      "px_height          int64\n",
      "px_width           int64\n",
      "ram                int64\n",
      "sc_h               int64\n",
      "sc_w               int64\n",
      "talk_time          int64\n",
      "three_g            int64\n",
      "touch_screen       int64\n",
      "wifi               int64\n",
      "price_range        int64\n",
      "dtype: object\n"
     ]
    }
   ],
   "source": [
    "print(df.dtypes)"
   ]
  },
  {
   "cell_type": "code",
   "execution_count": null,
   "metadata": {},
   "outputs": [],
   "source": [
    "# Conduct basic descriptive statistics for an overview of the dataset."
   ]
  },
  {
   "cell_type": "code",
   "execution_count": 19,
   "metadata": {},
   "outputs": [],
   "source": [
    "# Display unique values for non-numeric columns\n",
    "for col in df.select_dtypes(exclude=['number']).columns:\n",
    "    print(f\"\\nUnique values in {col}: {df[col].unique()}\")"
   ]
  },
  {
   "cell_type": "code",
   "execution_count": 20,
   "metadata": {},
   "outputs": [
    {
     "name": "stdout",
     "output_type": "stream",
     "text": [
      "               battery_power      blue  clock_speed  dual_sim        fc  \\\n",
      "battery_power       1.000000  0.011252     0.011482 -0.041847  0.033334   \n",
      "blue                0.011252  1.000000     0.021419  0.035198  0.003593   \n",
      "clock_speed         0.011482  0.021419     1.000000 -0.001315 -0.000434   \n",
      "dual_sim           -0.041847  0.035198    -0.001315  1.000000 -0.029123   \n",
      "fc                  0.033334  0.003593    -0.000434 -0.029123  1.000000   \n",
      "four_g              0.015665  0.013443    -0.043073  0.003187 -0.016560   \n",
      "int_memory         -0.004004  0.041177     0.006545 -0.015679 -0.029133   \n",
      "m_dep               0.034085  0.004049    -0.014364 -0.022142 -0.001791   \n",
      "mobile_wt           0.001844 -0.008605     0.012350 -0.008979  0.023618   \n",
      "n_cores            -0.029727  0.036161    -0.005724 -0.024658 -0.013356   \n",
      "pc                  0.031441 -0.009952    -0.005245 -0.017143  0.644595   \n",
      "px_height           0.014901 -0.006872    -0.014523 -0.020875 -0.009990   \n",
      "px_width           -0.008402 -0.041533    -0.009476  0.014291 -0.005176   \n",
      "ram                -0.000653  0.026351     0.003443  0.041072  0.015099   \n",
      "sc_h               -0.029959 -0.002952    -0.029078 -0.011949 -0.011014   \n",
      "sc_w               -0.021421  0.000613    -0.007378 -0.016666 -0.012373   \n",
      "talk_time           0.052510  0.013934    -0.011432 -0.039404 -0.006829   \n",
      "three_g             0.011522 -0.030236    -0.046433 -0.014008  0.001793   \n",
      "touch_screen       -0.010516  0.010061     0.019756 -0.017117 -0.014828   \n",
      "wifi               -0.008343 -0.021863    -0.024471  0.022740  0.020085   \n",
      "price_range         0.200723  0.020573    -0.006606  0.017444  0.021998   \n",
      "\n",
      "                 four_g  int_memory     m_dep  mobile_wt   n_cores  ...  \\\n",
      "battery_power  0.015665   -0.004004  0.034085   0.001844 -0.029727  ...   \n",
      "blue           0.013443    0.041177  0.004049  -0.008605  0.036161  ...   \n",
      "clock_speed   -0.043073    0.006545 -0.014364   0.012350 -0.005724  ...   \n",
      "dual_sim       0.003187   -0.015679 -0.022142  -0.008979 -0.024658  ...   \n",
      "fc            -0.016560   -0.029133 -0.001791   0.023618 -0.013356  ...   \n",
      "four_g         1.000000    0.008690 -0.001823  -0.016537 -0.029706  ...   \n",
      "int_memory     0.008690    1.000000  0.006886  -0.034214 -0.028310  ...   \n",
      "m_dep         -0.001823    0.006886  1.000000   0.021756 -0.003504  ...   \n",
      "mobile_wt     -0.016537   -0.034214  0.021756   1.000000 -0.018989  ...   \n",
      "n_cores       -0.029706   -0.028310 -0.003504  -0.018989  1.000000  ...   \n",
      "pc            -0.005598   -0.033273  0.026282   0.018844 -0.001193  ...   \n",
      "px_height     -0.019236    0.010441  0.025263   0.000939 -0.006872  ...   \n",
      "px_width       0.007448   -0.008335  0.023566   0.000090  0.024480  ...   \n",
      "ram            0.007313    0.032813 -0.009434  -0.002581  0.004868  ...   \n",
      "sc_h           0.027166    0.037771 -0.025348  -0.033855 -0.000315  ...   \n",
      "sc_w           0.037005    0.011731 -0.018388  -0.020761  0.025826  ...   \n",
      "talk_time     -0.046628   -0.002790  0.017003   0.006209  0.013148  ...   \n",
      "three_g        0.584246   -0.009366 -0.012065   0.001551 -0.014733  ...   \n",
      "touch_screen   0.016758   -0.026999 -0.002638  -0.014368  0.023774  ...   \n",
      "wifi          -0.017620    0.006993 -0.028353  -0.000409 -0.009964  ...   \n",
      "price_range    0.014772    0.044435  0.000853  -0.030302  0.004399  ...   \n",
      "\n",
      "               px_height  px_width       ram      sc_h      sc_w  talk_time  \\\n",
      "battery_power   0.014901 -0.008402 -0.000653 -0.029959 -0.021421   0.052510   \n",
      "blue           -0.006872 -0.041533  0.026351 -0.002952  0.000613   0.013934   \n",
      "clock_speed    -0.014523 -0.009476  0.003443 -0.029078 -0.007378  -0.011432   \n",
      "dual_sim       -0.020875  0.014291  0.041072 -0.011949 -0.016666  -0.039404   \n",
      "fc             -0.009990 -0.005176  0.015099 -0.011014 -0.012373  -0.006829   \n",
      "four_g         -0.019236  0.007448  0.007313  0.027166  0.037005  -0.046628   \n",
      "int_memory      0.010441 -0.008335  0.032813  0.037771  0.011731  -0.002790   \n",
      "m_dep           0.025263  0.023566 -0.009434 -0.025348 -0.018388   0.017003   \n",
      "mobile_wt       0.000939  0.000090 -0.002581 -0.033855 -0.020761   0.006209   \n",
      "n_cores        -0.006872  0.024480  0.004868 -0.000315  0.025826   0.013148   \n",
      "pc             -0.018465  0.004196  0.028984  0.004938 -0.023819   0.014657   \n",
      "px_height       1.000000  0.510664 -0.020352  0.059615  0.043038  -0.010645   \n",
      "px_width        0.510664  1.000000  0.004105  0.021599  0.034699   0.006720   \n",
      "ram            -0.020352  0.004105  1.000000  0.015996  0.035576   0.010820   \n",
      "sc_h            0.059615  0.021599  0.015996  1.000000  0.506144  -0.017335   \n",
      "sc_w            0.043038  0.034699  0.035576  0.506144  1.000000  -0.022821   \n",
      "talk_time      -0.010645  0.006720  0.010820 -0.017335 -0.022821   1.000000   \n",
      "three_g        -0.031174  0.000350  0.015795  0.012033  0.030941  -0.042688   \n",
      "touch_screen    0.021891 -0.001628 -0.030455 -0.020023  0.012720   0.017196   \n",
      "wifi            0.051824  0.030319  0.022669  0.025929  0.035423  -0.029504   \n",
      "price_range     0.148858  0.165818  0.917046  0.022986  0.038711   0.021859   \n",
      "\n",
      "                three_g  touch_screen      wifi  price_range  \n",
      "battery_power  0.011522     -0.010516 -0.008343     0.200723  \n",
      "blue          -0.030236      0.010061 -0.021863     0.020573  \n",
      "clock_speed   -0.046433      0.019756 -0.024471    -0.006606  \n",
      "dual_sim      -0.014008     -0.017117  0.022740     0.017444  \n",
      "fc             0.001793     -0.014828  0.020085     0.021998  \n",
      "four_g         0.584246      0.016758 -0.017620     0.014772  \n",
      "int_memory    -0.009366     -0.026999  0.006993     0.044435  \n",
      "m_dep         -0.012065     -0.002638 -0.028353     0.000853  \n",
      "mobile_wt      0.001551     -0.014368 -0.000409    -0.030302  \n",
      "n_cores       -0.014733      0.023774 -0.009964     0.004399  \n",
      "pc            -0.001322     -0.008742  0.005389     0.033599  \n",
      "px_height     -0.031174      0.021891  0.051824     0.148858  \n",
      "px_width       0.000350     -0.001628  0.030319     0.165818  \n",
      "ram            0.015795     -0.030455  0.022669     0.917046  \n",
      "sc_h           0.012033     -0.020023  0.025929     0.022986  \n",
      "sc_w           0.030941      0.012720  0.035423     0.038711  \n",
      "talk_time     -0.042688      0.017196 -0.029504     0.021859  \n",
      "three_g        1.000000      0.013917  0.004316     0.023611  \n",
      "touch_screen   0.013917      1.000000  0.011917    -0.030411  \n",
      "wifi           0.004316      0.011917  1.000000     0.018785  \n",
      "price_range    0.023611     -0.030411  0.018785     1.000000  \n",
      "\n",
      "[21 rows x 21 columns]\n"
     ]
    }
   ],
   "source": [
    "# Compute correlation matrix\n",
    "print(df.corr())"
   ]
  },
  {
   "cell_type": "code",
   "execution_count": 21,
   "metadata": {},
   "outputs": [],
   "source": [
    "df.dropna(inplace=True)"
   ]
  },
  {
   "cell_type": "code",
   "execution_count": 22,
   "metadata": {},
   "outputs": [
    {
     "name": "stdout",
     "output_type": "stream",
     "text": [
      "\n",
      "DataFrame after dropping missing values:\n",
      "      battery_power  blue  clock_speed  dual_sim  fc  four_g  int_memory  \\\n",
      "0               842     0          2.2         0   1       0           7   \n",
      "1              1021     1          0.5         1   0       1          53   \n",
      "2               563     1          0.5         1   2       1          41   \n",
      "3               615     1          2.5         0   0       0          10   \n",
      "4              1821     1          1.2         0  13       1          44   \n",
      "...             ...   ...          ...       ...  ..     ...         ...   \n",
      "1995            794     1          0.5         1   0       1           2   \n",
      "1996           1965     1          2.6         1   0       0          39   \n",
      "1997           1911     0          0.9         1   1       1          36   \n",
      "1998           1512     0          0.9         0   4       1          46   \n",
      "1999            510     1          2.0         1   5       1          45   \n",
      "\n",
      "      m_dep  mobile_wt  n_cores  ...  px_height  px_width   ram  sc_h  sc_w  \\\n",
      "0       0.6        188        2  ...         20       756  2549     9     7   \n",
      "1       0.7        136        3  ...        905      1988  2631    17     3   \n",
      "2       0.9        145        5  ...       1263      1716  2603    11     2   \n",
      "3       0.8        131        6  ...       1216      1786  2769    16     8   \n",
      "4       0.6        141        2  ...       1208      1212  1411     8     2   \n",
      "...     ...        ...      ...  ...        ...       ...   ...   ...   ...   \n",
      "1995    0.8        106        6  ...       1222      1890   668    13     4   \n",
      "1996    0.2        187        4  ...        915      1965  2032    11    10   \n",
      "1997    0.7        108        8  ...        868      1632  3057     9     1   \n",
      "1998    0.1        145        5  ...        336       670   869    18    10   \n",
      "1999    0.9        168        6  ...        483       754  3919    19     4   \n",
      "\n",
      "      talk_time  three_g  touch_screen  wifi  price_range  \n",
      "0            19        0             0     1            1  \n",
      "1             7        1             1     0            2  \n",
      "2             9        1             1     0            2  \n",
      "3            11        1             0     0            2  \n",
      "4            15        1             1     0            1  \n",
      "...         ...      ...           ...   ...          ...  \n",
      "1995         19        1             1     0            0  \n",
      "1996         16        1             1     1            2  \n",
      "1997          5        1             1     0            3  \n",
      "1998         19        1             1     1            0  \n",
      "1999          2        1             1     1            3  \n",
      "\n",
      "[2000 rows x 21 columns]\n"
     ]
    }
   ],
   "source": [
    "df_dropped = df.dropna()\n",
    "print(\"\\nDataFrame after dropping missing values:\")\n",
    "print(df_dropped)"
   ]
  },
  {
   "cell_type": "code",
   "execution_count": null,
   "metadata": {},
   "outputs": [],
   "source": [
    "# Transform categorical data into numerical format using suitable methods."
   ]
  },
  {
   "cell_type": "code",
   "execution_count": null,
   "metadata": {},
   "outputs": [],
   "source": []
  }
 ],
 "metadata": {
  "kernelspec": {
   "display_name": "Python 3",
   "language": "python",
   "name": "python3"
  },
  "language_info": {
   "codemirror_mode": {
    "name": "ipython",
    "version": 3
   },
   "file_extension": ".py",
   "mimetype": "text/x-python",
   "name": "python",
   "nbconvert_exporter": "python",
   "pygments_lexer": "ipython3",
   "version": "3.13.2"
  }
 },
 "nbformat": 4,
 "nbformat_minor": 2
}
